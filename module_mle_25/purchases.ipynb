{
 "cells": [
  {
   "cell_type": "markdown",
   "id": "07180891-f882-48e2-8cf8-627b9ae3fd33",
   "metadata": {},
   "source": [
    "# Мини-проект\n",
    "\n",
    "## ПОСТАНОВКА ЗАДАЧИ\n",
    "\n",
    "К вам попали результаты A/A/B-тестирования от одного известного маркетплейса. \n",
    "\n",
    "sample_a, sample_c — АА-группы, sample_b — отдельная группа. \n",
    "\n",
    "В каждом датасете есть три типа действий пользователей: 0 — клик, 1 — просмотр и 2 — покупка. \n",
    "\n",
    "Маркетплейс ориентируется на следующие метрики:\n",
    "\n",
    "* ctr (отношение кликов к просмотрам товаров);\n",
    "* purchase rate (отношение покупок к просмотрам товаров);\n",
    "* gmv (оборот, сумма произведений количества покупок на стоимость покупки), где считаем 1 сессию за 1 точку (1 сессия на 1 пользователя).\n",
    "\n",
    "Данные уже почищены по сессиям, вы можете использовать их в агрегированном виде. Ваша задача — понять, нет ли проблемы с разъезжанием сплитов и улучшает ли алгоритм B работу маркетплейса.\n",
    "\n",
    "Тест Шапиро-Уилка проведите на alpha=0.01."
   ]
  },
  {
   "cell_type": "code",
   "execution_count": 84,
   "id": "95645b3a-4696-4f08-b415-fc1fddf11a0c",
   "metadata": {},
   "outputs": [],
   "source": [
    "import numpy as np\n",
    "import pandas as pd"
   ]
  },
  {
   "cell_type": "code",
   "execution_count": 85,
   "id": "8f2a481c-071e-4996-aa3b-a5f23ecf4f87",
   "metadata": {},
   "outputs": [],
   "source": [
    "sample_a = pd.read_csv('sample_a.csv')\n",
    "sample_b = pd.read_csv('sample_b.csv')\n",
    "sample_c = pd.read_csv('sample_c.csv')\n",
    "prices = pd.read_csv('item_prices.csv')"
   ]
  },
  {
   "cell_type": "code",
   "execution_count": 86,
   "id": "bab7622c-549c-4320-9416-846e9b7b22d2",
   "metadata": {},
   "outputs": [
    {
     "data": {
      "text/html": [
       "<div>\n",
       "<style scoped>\n",
       "    .dataframe tbody tr th:only-of-type {\n",
       "        vertical-align: middle;\n",
       "    }\n",
       "\n",
       "    .dataframe tbody tr th {\n",
       "        vertical-align: top;\n",
       "    }\n",
       "\n",
       "    .dataframe thead th {\n",
       "        text-align: right;\n",
       "    }\n",
       "</style>\n",
       "<table border=\"1\" class=\"dataframe\">\n",
       "  <thead>\n",
       "    <tr style=\"text-align: right;\">\n",
       "      <th></th>\n",
       "      <th>user_id</th>\n",
       "      <th>item_id</th>\n",
       "      <th>action_id</th>\n",
       "    </tr>\n",
       "  </thead>\n",
       "  <tbody>\n",
       "    <tr>\n",
       "      <th>1158951</th>\n",
       "      <td>241</td>\n",
       "      <td>21</td>\n",
       "      <td>1</td>\n",
       "    </tr>\n",
       "    <tr>\n",
       "      <th>800805</th>\n",
       "      <td>241</td>\n",
       "      <td>36</td>\n",
       "      <td>1</td>\n",
       "    </tr>\n",
       "    <tr>\n",
       "      <th>826737</th>\n",
       "      <td>241</td>\n",
       "      <td>39</td>\n",
       "      <td>1</td>\n",
       "    </tr>\n",
       "    <tr>\n",
       "      <th>102557</th>\n",
       "      <td>241</td>\n",
       "      <td>50</td>\n",
       "      <td>1</td>\n",
       "    </tr>\n",
       "    <tr>\n",
       "      <th>17980</th>\n",
       "      <td>241</td>\n",
       "      <td>64</td>\n",
       "      <td>1</td>\n",
       "    </tr>\n",
       "  </tbody>\n",
       "</table>\n",
       "</div>"
      ],
      "text/plain": [
       "         user_id  item_id  action_id\n",
       "1158951      241       21          1\n",
       "800805       241       36          1\n",
       "826737       241       39          1\n",
       "102557       241       50          1\n",
       "17980        241       64          1"
      ]
     },
     "execution_count": 86,
     "metadata": {},
     "output_type": "execute_result"
    }
   ],
   "source": [
    "sample_a.sort_values(['user_id', 'item_id']).head()"
   ]
  },
  {
   "cell_type": "code",
   "execution_count": 87,
   "id": "9956c67c-02a2-4706-8a09-dd1acc345c9c",
   "metadata": {},
   "outputs": [
    {
     "name": "stdout",
     "output_type": "stream",
     "text": [
      "<class 'pandas.core.frame.DataFrame'>\n",
      "RangeIndex: 1188912 entries, 0 to 1188911\n",
      "Data columns (total 3 columns):\n",
      " #   Column     Non-Null Count    Dtype\n",
      "---  ------     --------------    -----\n",
      " 0   user_id    1188912 non-null  int64\n",
      " 1   item_id    1188912 non-null  int64\n",
      " 2   action_id  1188912 non-null  int64\n",
      "dtypes: int64(3)\n",
      "memory usage: 27.2 MB\n"
     ]
    }
   ],
   "source": [
    "sample_a.info()"
   ]
  },
  {
   "cell_type": "code",
   "execution_count": 88,
   "id": "f7053d47-0a6d-405b-8d92-209c83292e88",
   "metadata": {},
   "outputs": [
    {
     "data": {
      "text/html": [
       "<div>\n",
       "<style scoped>\n",
       "    .dataframe tbody tr th:only-of-type {\n",
       "        vertical-align: middle;\n",
       "    }\n",
       "\n",
       "    .dataframe tbody tr th {\n",
       "        vertical-align: top;\n",
       "    }\n",
       "\n",
       "    .dataframe thead th {\n",
       "        text-align: right;\n",
       "    }\n",
       "</style>\n",
       "<table border=\"1\" class=\"dataframe\">\n",
       "  <thead>\n",
       "    <tr style=\"text-align: right;\">\n",
       "      <th></th>\n",
       "      <th>user_id</th>\n",
       "      <th>item_id</th>\n",
       "      <th>action_id</th>\n",
       "    </tr>\n",
       "  </thead>\n",
       "  <tbody>\n",
       "    <tr>\n",
       "      <th>0</th>\n",
       "      <td>118375</td>\n",
       "      <td>4105</td>\n",
       "      <td>1</td>\n",
       "    </tr>\n",
       "    <tr>\n",
       "      <th>1</th>\n",
       "      <td>107569</td>\n",
       "      <td>8204</td>\n",
       "      <td>1</td>\n",
       "    </tr>\n",
       "    <tr>\n",
       "      <th>2</th>\n",
       "      <td>175990</td>\n",
       "      <td>880</td>\n",
       "      <td>1</td>\n",
       "    </tr>\n",
       "    <tr>\n",
       "      <th>3</th>\n",
       "      <td>160582</td>\n",
       "      <td>9568</td>\n",
       "      <td>0</td>\n",
       "    </tr>\n",
       "    <tr>\n",
       "      <th>4</th>\n",
       "      <td>123400</td>\n",
       "      <td>4000</td>\n",
       "      <td>1</td>\n",
       "    </tr>\n",
       "  </tbody>\n",
       "</table>\n",
       "</div>"
      ],
      "text/plain": [
       "   user_id  item_id  action_id\n",
       "0   118375     4105          1\n",
       "1   107569     8204          1\n",
       "2   175990      880          1\n",
       "3   160582     9568          0\n",
       "4   123400     4000          1"
      ]
     },
     "execution_count": 88,
     "metadata": {},
     "output_type": "execute_result"
    }
   ],
   "source": [
    "sample_b.head()"
   ]
  },
  {
   "cell_type": "code",
   "execution_count": 89,
   "id": "9323a89a-78bf-4ea5-9027-b6e18e4eae43",
   "metadata": {},
   "outputs": [
    {
     "name": "stdout",
     "output_type": "stream",
     "text": [
      "<class 'pandas.core.frame.DataFrame'>\n",
      "RangeIndex: 1198438 entries, 0 to 1198437\n",
      "Data columns (total 3 columns):\n",
      " #   Column     Non-Null Count    Dtype\n",
      "---  ------     --------------    -----\n",
      " 0   user_id    1198438 non-null  int64\n",
      " 1   item_id    1198438 non-null  int64\n",
      " 2   action_id  1198438 non-null  int64\n",
      "dtypes: int64(3)\n",
      "memory usage: 27.4 MB\n"
     ]
    }
   ],
   "source": [
    "sample_b.info()"
   ]
  },
  {
   "cell_type": "code",
   "execution_count": 90,
   "id": "10bcbb34-e40e-4e3a-881e-4f4e85039671",
   "metadata": {},
   "outputs": [
    {
     "data": {
      "text/html": [
       "<div>\n",
       "<style scoped>\n",
       "    .dataframe tbody tr th:only-of-type {\n",
       "        vertical-align: middle;\n",
       "    }\n",
       "\n",
       "    .dataframe tbody tr th {\n",
       "        vertical-align: top;\n",
       "    }\n",
       "\n",
       "    .dataframe thead th {\n",
       "        text-align: right;\n",
       "    }\n",
       "</style>\n",
       "<table border=\"1\" class=\"dataframe\">\n",
       "  <thead>\n",
       "    <tr style=\"text-align: right;\">\n",
       "      <th></th>\n",
       "      <th>user_id</th>\n",
       "      <th>item_id</th>\n",
       "      <th>action_id</th>\n",
       "    </tr>\n",
       "  </thead>\n",
       "  <tbody>\n",
       "    <tr>\n",
       "      <th>0</th>\n",
       "      <td>274623</td>\n",
       "      <td>2863</td>\n",
       "      <td>1</td>\n",
       "    </tr>\n",
       "    <tr>\n",
       "      <th>1</th>\n",
       "      <td>265472</td>\n",
       "      <td>343</td>\n",
       "      <td>1</td>\n",
       "    </tr>\n",
       "    <tr>\n",
       "      <th>2</th>\n",
       "      <td>242779</td>\n",
       "      <td>6009</td>\n",
       "      <td>0</td>\n",
       "    </tr>\n",
       "    <tr>\n",
       "      <th>3</th>\n",
       "      <td>275009</td>\n",
       "      <td>2184</td>\n",
       "      <td>1</td>\n",
       "    </tr>\n",
       "    <tr>\n",
       "      <th>4</th>\n",
       "      <td>268104</td>\n",
       "      <td>3134</td>\n",
       "      <td>2</td>\n",
       "    </tr>\n",
       "  </tbody>\n",
       "</table>\n",
       "</div>"
      ],
      "text/plain": [
       "   user_id  item_id  action_id\n",
       "0   274623     2863          1\n",
       "1   265472      343          1\n",
       "2   242779     6009          0\n",
       "3   275009     2184          1\n",
       "4   268104     3134          2"
      ]
     },
     "execution_count": 90,
     "metadata": {},
     "output_type": "execute_result"
    }
   ],
   "source": [
    "sample_c.head()"
   ]
  },
  {
   "cell_type": "code",
   "execution_count": 91,
   "id": "42047edb-d810-4de3-a403-0d9074440b31",
   "metadata": {},
   "outputs": [
    {
     "name": "stdout",
     "output_type": "stream",
     "text": [
      "<class 'pandas.core.frame.DataFrame'>\n",
      "RangeIndex: 1205510 entries, 0 to 1205509\n",
      "Data columns (total 3 columns):\n",
      " #   Column     Non-Null Count    Dtype\n",
      "---  ------     --------------    -----\n",
      " 0   user_id    1205510 non-null  int64\n",
      " 1   item_id    1205510 non-null  int64\n",
      " 2   action_id  1205510 non-null  int64\n",
      "dtypes: int64(3)\n",
      "memory usage: 27.6 MB\n"
     ]
    }
   ],
   "source": [
    "sample_c.info()"
   ]
  },
  {
   "cell_type": "code",
   "execution_count": 92,
   "id": "6733f18b-43c8-4052-9a17-981b36d0fb23",
   "metadata": {},
   "outputs": [
    {
     "data": {
      "text/html": [
       "<div>\n",
       "<style scoped>\n",
       "    .dataframe tbody tr th:only-of-type {\n",
       "        vertical-align: middle;\n",
       "    }\n",
       "\n",
       "    .dataframe tbody tr th {\n",
       "        vertical-align: top;\n",
       "    }\n",
       "\n",
       "    .dataframe thead th {\n",
       "        text-align: right;\n",
       "    }\n",
       "</style>\n",
       "<table border=\"1\" class=\"dataframe\">\n",
       "  <thead>\n",
       "    <tr style=\"text-align: right;\">\n",
       "      <th></th>\n",
       "      <th>item_id</th>\n",
       "      <th>item_price</th>\n",
       "    </tr>\n",
       "  </thead>\n",
       "  <tbody>\n",
       "    <tr>\n",
       "      <th>0</th>\n",
       "      <td>338</td>\n",
       "      <td>1501</td>\n",
       "    </tr>\n",
       "    <tr>\n",
       "      <th>1</th>\n",
       "      <td>74</td>\n",
       "      <td>647</td>\n",
       "    </tr>\n",
       "    <tr>\n",
       "      <th>2</th>\n",
       "      <td>7696</td>\n",
       "      <td>825</td>\n",
       "    </tr>\n",
       "    <tr>\n",
       "      <th>3</th>\n",
       "      <td>866</td>\n",
       "      <td>875</td>\n",
       "    </tr>\n",
       "    <tr>\n",
       "      <th>4</th>\n",
       "      <td>5876</td>\n",
       "      <td>804</td>\n",
       "    </tr>\n",
       "  </tbody>\n",
       "</table>\n",
       "</div>"
      ],
      "text/plain": [
       "   item_id  item_price\n",
       "0      338        1501\n",
       "1       74         647\n",
       "2     7696         825\n",
       "3      866         875\n",
       "4     5876         804"
      ]
     },
     "execution_count": 92,
     "metadata": {},
     "output_type": "execute_result"
    }
   ],
   "source": [
    "prices.head()"
   ]
  },
  {
   "cell_type": "code",
   "execution_count": 93,
   "id": "1555c476-679f-472e-aa75-49e38ac10fc1",
   "metadata": {},
   "outputs": [
    {
     "data": {
      "text/html": [
       "<div>\n",
       "<style scoped>\n",
       "    .dataframe tbody tr th:only-of-type {\n",
       "        vertical-align: middle;\n",
       "    }\n",
       "\n",
       "    .dataframe tbody tr th {\n",
       "        vertical-align: top;\n",
       "    }\n",
       "\n",
       "    .dataframe thead th {\n",
       "        text-align: right;\n",
       "    }\n",
       "</style>\n",
       "<table border=\"1\" class=\"dataframe\">\n",
       "  <thead>\n",
       "    <tr style=\"text-align: right;\">\n",
       "      <th></th>\n",
       "      <th>item_id</th>\n",
       "      <th>item_price</th>\n",
       "    </tr>\n",
       "  </thead>\n",
       "  <tbody>\n",
       "    <tr>\n",
       "      <th>0</th>\n",
       "      <td>338</td>\n",
       "      <td>1501</td>\n",
       "    </tr>\n",
       "    <tr>\n",
       "      <th>797</th>\n",
       "      <td>338</td>\n",
       "      <td>1151</td>\n",
       "    </tr>\n",
       "    <tr>\n",
       "      <th>977</th>\n",
       "      <td>338</td>\n",
       "      <td>1047</td>\n",
       "    </tr>\n",
       "  </tbody>\n",
       "</table>\n",
       "</div>"
      ],
      "text/plain": [
       "     item_id  item_price\n",
       "0        338        1501\n",
       "797      338        1151\n",
       "977      338        1047"
      ]
     },
     "execution_count": 93,
     "metadata": {},
     "output_type": "execute_result"
    }
   ],
   "source": [
    "prices[prices.item_id == 338]"
   ]
  },
  {
   "cell_type": "code",
   "execution_count": 94,
   "id": "adeaa4a5-f2cd-4f92-bebc-e2e67ba46263",
   "metadata": {},
   "outputs": [
    {
     "data": {
      "text/html": [
       "<div>\n",
       "<style scoped>\n",
       "    .dataframe tbody tr th:only-of-type {\n",
       "        vertical-align: middle;\n",
       "    }\n",
       "\n",
       "    .dataframe tbody tr th {\n",
       "        vertical-align: top;\n",
       "    }\n",
       "\n",
       "    .dataframe thead th {\n",
       "        text-align: right;\n",
       "    }\n",
       "</style>\n",
       "<table border=\"1\" class=\"dataframe\">\n",
       "  <thead>\n",
       "    <tr style=\"text-align: right;\">\n",
       "      <th></th>\n",
       "      <th></th>\n",
       "      <th>action_id_0</th>\n",
       "      <th>action_id_1</th>\n",
       "      <th>action_id_2</th>\n",
       "    </tr>\n",
       "    <tr>\n",
       "      <th>user_id</th>\n",
       "      <th>item_id</th>\n",
       "      <th></th>\n",
       "      <th></th>\n",
       "      <th></th>\n",
       "    </tr>\n",
       "  </thead>\n",
       "  <tbody>\n",
       "  </tbody>\n",
       "</table>\n",
       "</div>"
      ],
      "text/plain": [
       "Empty DataFrame\n",
       "Columns: [action_id_0, action_id_1, action_id_2]\n",
       "Index: []"
      ]
     },
     "execution_count": 94,
     "metadata": {},
     "output_type": "execute_result"
    }
   ],
   "source": [
    "# Проведена проверка, что нет ситуаций,\n",
    "# когда происходит покупка/клик без действия просмотра.\n",
    "set_a = pd.get_dummies(sample_a, prefix=['action_id'], columns=['action_id'])\n",
    "set_a_gr = set_a.groupby(['user_id', 'item_id']).sum()\n",
    "set_a_gr[set_a_gr['action_id_1']==0]"
   ]
  },
  {
   "cell_type": "code",
   "execution_count": 95,
   "id": "3346f665-1d46-4a12-a50b-bdd9fa320c8a",
   "metadata": {},
   "outputs": [
    {
     "data": {
      "text/html": [
       "<div>\n",
       "<style scoped>\n",
       "    .dataframe tbody tr th:only-of-type {\n",
       "        vertical-align: middle;\n",
       "    }\n",
       "\n",
       "    .dataframe tbody tr th {\n",
       "        vertical-align: top;\n",
       "    }\n",
       "\n",
       "    .dataframe thead th {\n",
       "        text-align: right;\n",
       "    }\n",
       "</style>\n",
       "<table border=\"1\" class=\"dataframe\">\n",
       "  <thead>\n",
       "    <tr style=\"text-align: right;\">\n",
       "      <th></th>\n",
       "      <th></th>\n",
       "      <th>action_id_0</th>\n",
       "      <th>action_id_1</th>\n",
       "      <th>action_id_2</th>\n",
       "    </tr>\n",
       "    <tr>\n",
       "      <th>user_id</th>\n",
       "      <th>item_id</th>\n",
       "      <th></th>\n",
       "      <th></th>\n",
       "      <th></th>\n",
       "    </tr>\n",
       "  </thead>\n",
       "  <tbody>\n",
       "  </tbody>\n",
       "</table>\n",
       "</div>"
      ],
      "text/plain": [
       "Empty DataFrame\n",
       "Columns: [action_id_0, action_id_1, action_id_2]\n",
       "Index: []"
      ]
     },
     "execution_count": 95,
     "metadata": {},
     "output_type": "execute_result"
    }
   ],
   "source": [
    "set_b = pd.get_dummies(sample_b, prefix=['action_id'], columns=['action_id'])\n",
    "set_b_gr = set_b.groupby(['user_id', 'item_id']).sum()\n",
    "set_b_gr[set_b_gr['action_id_1']==0]"
   ]
  },
  {
   "cell_type": "code",
   "execution_count": 96,
   "id": "989b4608-4caa-44f6-a09b-7699eb163d40",
   "metadata": {},
   "outputs": [
    {
     "data": {
      "text/html": [
       "<div>\n",
       "<style scoped>\n",
       "    .dataframe tbody tr th:only-of-type {\n",
       "        vertical-align: middle;\n",
       "    }\n",
       "\n",
       "    .dataframe tbody tr th {\n",
       "        vertical-align: top;\n",
       "    }\n",
       "\n",
       "    .dataframe thead th {\n",
       "        text-align: right;\n",
       "    }\n",
       "</style>\n",
       "<table border=\"1\" class=\"dataframe\">\n",
       "  <thead>\n",
       "    <tr style=\"text-align: right;\">\n",
       "      <th></th>\n",
       "      <th></th>\n",
       "      <th>action_id_0</th>\n",
       "      <th>action_id_1</th>\n",
       "      <th>action_id_2</th>\n",
       "    </tr>\n",
       "    <tr>\n",
       "      <th>user_id</th>\n",
       "      <th>item_id</th>\n",
       "      <th></th>\n",
       "      <th></th>\n",
       "      <th></th>\n",
       "    </tr>\n",
       "  </thead>\n",
       "  <tbody>\n",
       "  </tbody>\n",
       "</table>\n",
       "</div>"
      ],
      "text/plain": [
       "Empty DataFrame\n",
       "Columns: [action_id_0, action_id_1, action_id_2]\n",
       "Index: []"
      ]
     },
     "execution_count": 96,
     "metadata": {},
     "output_type": "execute_result"
    }
   ],
   "source": [
    "set_c = pd.get_dummies(sample_c, prefix=['action_id'], columns=['action_id'])\n",
    "set_c_gr = set_c.groupby(['user_id', 'item_id']).sum()\n",
    "set_c_gr[set_c_gr['action_id_1']==0]"
   ]
  },
  {
   "cell_type": "code",
   "execution_count": 97,
   "id": "c438a16d-e603-4241-b53b-078f48299733",
   "metadata": {},
   "outputs": [
    {
     "data": {
      "text/plain": [
       "False    1188912\n",
       "dtype: int64"
      ]
     },
     "execution_count": 97,
     "metadata": {},
     "output_type": "execute_result"
    }
   ],
   "source": [
    "# Удалены дубли.\n",
    "sample_a.duplicated().value_counts()"
   ]
  },
  {
   "cell_type": "code",
   "execution_count": 98,
   "id": "5f33fa61-1c89-4ec1-87ae-5eb68b626526",
   "metadata": {},
   "outputs": [
    {
     "data": {
      "text/plain": [
       "False    1198438\n",
       "dtype: int64"
      ]
     },
     "execution_count": 98,
     "metadata": {},
     "output_type": "execute_result"
    }
   ],
   "source": [
    "sample_b.duplicated().value_counts()"
   ]
  },
  {
   "cell_type": "code",
   "execution_count": 99,
   "id": "4d8e5a89-4c98-4ac6-bdfb-abe0af9ecef6",
   "metadata": {},
   "outputs": [
    {
     "data": {
      "text/plain": [
       "False    1205510\n",
       "dtype: int64"
      ]
     },
     "execution_count": 99,
     "metadata": {},
     "output_type": "execute_result"
    }
   ],
   "source": [
    "sample_c.duplicated().value_counts()"
   ]
  },
  {
   "cell_type": "code",
   "execution_count": 100,
   "id": "9570a823-24d4-48c8-9e80-a47b31bdaeb3",
   "metadata": {},
   "outputs": [
    {
     "data": {
      "text/plain": [
       "False    955\n",
       "True      45\n",
       "dtype: int64"
      ]
     },
     "execution_count": 100,
     "metadata": {},
     "output_type": "execute_result"
    }
   ],
   "source": [
    "prices.duplicated(subset=['item_id']).value_counts()"
   ]
  },
  {
   "cell_type": "code",
   "execution_count": 101,
   "id": "7752d76f-65ea-4d67-98ca-921f8698d16b",
   "metadata": {},
   "outputs": [],
   "source": [
    "prices.drop_duplicates(subset=['item_id'], keep='last', inplace=True)"
   ]
  },
  {
   "cell_type": "code",
   "execution_count": 102,
   "id": "f96c9c57-efda-4b99-9664-721639b942cf",
   "metadata": {},
   "outputs": [],
   "source": [
    "# The Shapiro-Wilk test is a test of normality.\n",
    "# It is used to determine whether or not\n",
    "# a sample comes from a normal distribution.\n",
    "from scipy.stats import shapiro"
   ]
  },
  {
   "cell_type": "code",
   "execution_count": 103,
   "id": "77833003-a142-4821-9d1c-04e197c5513e",
   "metadata": {},
   "outputs": [
    {
     "name": "stderr",
     "output_type": "stream",
     "text": [
      "/Users/user/opt/anaconda3/lib/python3.8/site-packages/scipy/stats/morestats.py:1760: UserWarning: p-value may not be accurate for N > 5000.\n",
      "  warnings.warn(\"p-value may not be accurate for N > 5000.\")\n"
     ]
    },
    {
     "data": {
      "text/plain": [
       "ShapiroResult(statistic=0.6383861899375916, pvalue=0.0)"
      ]
     },
     "execution_count": 103,
     "metadata": {},
     "output_type": "execute_result"
    }
   ],
   "source": [
    "shapiro(set_a_gr.values)"
   ]
  },
  {
   "cell_type": "code",
   "execution_count": 104,
   "id": "975aab5c-c938-4e0f-b8da-89256305e484",
   "metadata": {},
   "outputs": [
    {
     "data": {
      "text/plain": [
       "ShapiroResult(statistic=0.6361701488494873, pvalue=0.0)"
      ]
     },
     "execution_count": 104,
     "metadata": {},
     "output_type": "execute_result"
    }
   ],
   "source": [
    "shapiro(set_b_gr.values)"
   ]
  },
  {
   "cell_type": "code",
   "execution_count": 105,
   "id": "97a20709-8a7a-4f3c-9638-2b3965a1a89c",
   "metadata": {},
   "outputs": [
    {
     "data": {
      "text/plain": [
       "ShapiroResult(statistic=0.6362341046333313, pvalue=0.0)"
      ]
     },
     "execution_count": 105,
     "metadata": {},
     "output_type": "execute_result"
    }
   ],
   "source": [
    "shapiro(set_c_gr.values)"
   ]
  },
  {
   "cell_type": "code",
   "execution_count": 108,
   "id": "71527b1d-e546-43cb-be6f-f3d8890dff06",
   "metadata": {},
   "outputs": [
    {
     "name": "stdout",
     "output_type": "stream",
     "text": [
      "CTR A =  0.2\n",
      "PR_A =  0.049999474309505534\n",
      "GVM_A =  51183991\n",
      "\n",
      "CTR A =  0.16000046260228504\n",
      "PR_A =  0.09999989486311704\n",
      "GVM_A =  102261317\n",
      "\n",
      "CTR A =  0.20999956806686745\n",
      "PR_A =  0.059999726091184244\n",
      "GVM_A =  61236564\n",
      "\n"
     ]
    }
   ],
   "source": [
    "# Рассчитаны метрики по датасетам,\n",
    "\n",
    "a_merged = pd.merge(sample_a, prices, on=['item_id'])\n",
    "ctr_a = a_merged.action_id.value_counts()[0] / a_merged.action_id.value_counts()[1]\n",
    "pr_a = a_merged.action_id.value_counts()[2] / a_merged.action_id.value_counts()[1]\n",
    "gvm_a = a_merged[a_merged.action_id==2]['item_price'].sum()\n",
    "\n",
    "print('CTR A = ', ctr_a)\n",
    "print('PR_A = ', pr_a)\n",
    "print('GVM_A = ', gvm_a)\n",
    "print()\n",
    "\n",
    "b_merged = pd.merge(sample_b, prices, on=['item_id'])\n",
    "ctr_b = b_merged.action_id.value_counts()[0] / b_merged.action_id.value_counts()[1]\n",
    "pr_b = b_merged.action_id.value_counts()[2] / b_merged.action_id.value_counts()[1]\n",
    "gvm_b = b_merged[b_merged.action_id==2]['item_price'].sum()\n",
    "\n",
    "print('CTR A = ', ctr_b)\n",
    "print('PR_A = ', pr_b)\n",
    "print('GVM_A = ', gvm_b)\n",
    "print()\n",
    "\n",
    "c_merged = pd.merge(sample_c, prices, on=['item_id'])\n",
    "ctr_c = c_merged.action_id.value_counts()[0] / c_merged.action_id.value_counts()[1]\n",
    "pr_c = c_merged.action_id.value_counts()[2] / c_merged.action_id.value_counts()[1]\n",
    "gvm_c = c_merged[c_merged.action_id==2]['item_price'].sum()\n",
    "\n",
    "print('CTR A = ', ctr_c)\n",
    "print('PR_A = ', pr_c)\n",
    "print('GVM_A = ', gvm_c)\n",
    "print()\n"
   ]
  },
  {
   "cell_type": "code",
   "execution_count": 114,
   "id": "c51d4d6f-e30b-4883-ae2d-fc95546d42f6",
   "metadata": {},
   "outputs": [
    {
     "data": {
      "text/html": [
       "<div>\n",
       "<style scoped>\n",
       "    .dataframe tbody tr th:only-of-type {\n",
       "        vertical-align: middle;\n",
       "    }\n",
       "\n",
       "    .dataframe tbody tr th {\n",
       "        vertical-align: top;\n",
       "    }\n",
       "\n",
       "    .dataframe thead th {\n",
       "        text-align: right;\n",
       "    }\n",
       "</style>\n",
       "<table border=\"1\" class=\"dataframe\">\n",
       "  <thead>\n",
       "    <tr style=\"text-align: right;\">\n",
       "      <th></th>\n",
       "      <th>CTR</th>\n",
       "      <th>PR</th>\n",
       "      <th>GVM</th>\n",
       "    </tr>\n",
       "  </thead>\n",
       "  <tbody>\n",
       "    <tr>\n",
       "      <th>A</th>\n",
       "      <td>0.20</td>\n",
       "      <td>0.049999</td>\n",
       "      <td>51.183991</td>\n",
       "    </tr>\n",
       "    <tr>\n",
       "      <th>B</th>\n",
       "      <td>0.16</td>\n",
       "      <td>0.100000</td>\n",
       "      <td>102.261317</td>\n",
       "    </tr>\n",
       "    <tr>\n",
       "      <th>C</th>\n",
       "      <td>0.21</td>\n",
       "      <td>0.060000</td>\n",
       "      <td>61.236564</td>\n",
       "    </tr>\n",
       "  </tbody>\n",
       "</table>\n",
       "</div>"
      ],
      "text/plain": [
       "    CTR        PR         GVM\n",
       "A  0.20  0.049999   51.183991\n",
       "B  0.16  0.100000  102.261317\n",
       "C  0.21  0.060000   61.236564"
      ]
     },
     "execution_count": 114,
     "metadata": {},
     "output_type": "execute_result"
    }
   ],
   "source": [
    "# проведено общее сравнение метрик.\n",
    "results = pd.DataFrame([[ctr_a, pr_a, gvm_a/1000000],\n",
    "                        [ctr_b, pr_b, gvm_b/1000000],\n",
    "                        [ctr_c, pr_c, gvm_c/1000000]], index=['A', 'B', 'C'],\n",
    "                      columns=['CTR', 'PR', 'GVM'])\n",
    "\n",
    "results"
   ]
  },
  {
   "cell_type": "markdown",
   "id": "a192ba44-99b1-4521-b0b7-63c2ad1a2db8",
   "metadata": {},
   "source": [
    "sample_b (отдельная группа) в целом отличается по метрикам от АА-групп (A, C). Так, при уменьшающейся CTR (0.2 --> 0.16) мы видим почти двукратный прирост purchase rate (0.05-0.6 --> 0.1) и увеличенный GVM (50-60m --> 102m)"
   ]
  },
  {
   "cell_type": "code",
   "execution_count": 121,
   "id": "77fd1738-0e89-4930-a8d0-53a1cac1556a",
   "metadata": {},
   "outputs": [
    {
     "name": "stdout",
     "output_type": "stream",
     "text": [
      "2.354942111153043e-65\n",
      "8.035152879055818e-201\n",
      "Ttest_indResult(statistic=-0.2776446866113944, pvalue=0.781285149246036)\n"
     ]
    }
   ],
   "source": [
    "# Проведён тест равенства долей для A и C групп по всем метрикам.\n",
    "\n",
    "# Сделан вывод.\n",
    "\n",
    "import scipy as sp\n",
    "from statsmodels.stats.proportion import proportions_ztest\n",
    "\n",
    "print(proportions_ztest(\n",
    "    count=[a_merged.action_id.value_counts()[0],\n",
    "           c_merged.action_id.value_counts()[0]], \n",
    "    nobs=[a_merged.action_id.value_counts()[1],\n",
    "          c_merged.action_id.value_counts()[1]])[1])\n",
    "\n",
    "print(proportions_ztest(\n",
    "    count=[a_merged.action_id.value_counts()[2],\n",
    "           c_merged.action_id.value_counts()[2]], \n",
    "    nobs=[a_merged.action_id.value_counts()[1],\n",
    "          c_merged.action_id.value_counts()[1]])[1])\n",
    "\n",
    "print(sp.stats.ttest_ind(a_merged.item_price.values, c_merged.item_price.values))"
   ]
  },
  {
   "cell_type": "code",
   "execution_count": 122,
   "id": "3d481d6c-4988-4dd3-abd4-7e503b2c70a5",
   "metadata": {},
   "outputs": [
    {
     "name": "stdout",
     "output_type": "stream",
     "text": [
      "0.0\n",
      "0.0\n",
      "Ttest_indResult(statistic=-0.8802732558964812, pvalue=0.37871138560806505)\n"
     ]
    }
   ],
   "source": [
    "# Проведён тест равенства долей для A и B групп по всем метрикам.\n",
    "\n",
    "# Сделан вывод\n",
    "\n",
    "\n",
    "print(proportions_ztest(\n",
    "    count=[a_merged.action_id.value_counts()[0],\n",
    "           b_merged.action_id.value_counts()[0]], \n",
    "    nobs=[a_merged.action_id.value_counts()[1],\n",
    "          b_merged.action_id.value_counts()[1]])[1])\n",
    "\n",
    "print(proportions_ztest(\n",
    "    count=[a_merged.action_id.value_counts()[2],\n",
    "           b_merged.action_id.value_counts()[2]], \n",
    "    nobs=[a_merged.action_id.value_counts()[1],\n",
    "          b_merged.action_id.value_counts()[1]])[1])\n",
    "\n",
    "print(sp.stats.ttest_ind(a_merged.item_price.values, b_merged.item_price.values))"
   ]
  },
  {
   "cell_type": "markdown",
   "id": "fe16dd44-c863-45b5-9663-d0c25544d6e2",
   "metadata": {},
   "source": [
    "Имеются различия в метриках CTR и PR между выборками A и B, но не A и C.\n",
    "\n",
    "Имеются различия в метрике GVM как между выборками A и B, так и A и C."
   ]
  },
  {
   "cell_type": "code",
   "execution_count": null,
   "id": "7799672b-ec89-4756-a897-9b7aeb03e96e",
   "metadata": {},
   "outputs": [],
   "source": []
  }
 ],
 "metadata": {
  "kernelspec": {
   "display_name": "Python 3",
   "language": "python",
   "name": "python3"
  },
  "language_info": {
   "codemirror_mode": {
    "name": "ipython",
    "version": 3
   },
   "file_extension": ".py",
   "mimetype": "text/x-python",
   "name": "python",
   "nbconvert_exporter": "python",
   "pygments_lexer": "ipython3",
   "version": "3.8.8"
  }
 },
 "nbformat": 4,
 "nbformat_minor": 5
}
