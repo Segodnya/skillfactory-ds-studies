{
 "cells": [
  {
   "cell_type": "markdown",
   "id": "8ae5fc7e-3b97-4838-a7eb-3cea905c5d95",
   "metadata": {},
   "source": [
    "# Множественная проверка гипотез: разбор кейса\n",
    "\n",
    "У вас есть такие данные о результативности штрафных бросков игроков NBA.\n",
    "\n",
    "Каждый сезон NBA так же, как и в других видах спорта, проходит два этапа: регулярный сезон и плей-офф, когда играют на вылет. Понятно, что второй этап для всех более волнительный, и результативность игроков может отличаться. Мы попробуем проверить гипотезу о том, что этот этап сезона никак не влияет на результативность штрафных бросков игроков, и посчитаем разными методами количество игроков, у которых такое влияние всё-таки отмечается."
   ]
  },
  {
   "cell_type": "code",
   "execution_count": 1,
   "id": "63f146cf-6cf6-40c9-a442-e2b797b2794f",
   "metadata": {},
   "outputs": [],
   "source": [
    "# Для начала нам надо посчитать данные:\n",
    "import pandas as pd\n",
    "import numpy as np\n",
    "\n",
    "data = pd.read_csv('free_throws.csv')"
   ]
  },
  {
   "cell_type": "code",
   "execution_count": 2,
   "id": "1dc8fca8-2934-4a63-80bd-1d56118e4acb",
   "metadata": {},
   "outputs": [
    {
     "data": {
      "text/html": [
       "<div>\n",
       "<style scoped>\n",
       "    .dataframe tbody tr th:only-of-type {\n",
       "        vertical-align: middle;\n",
       "    }\n",
       "\n",
       "    .dataframe tbody tr th {\n",
       "        vertical-align: top;\n",
       "    }\n",
       "\n",
       "    .dataframe thead th {\n",
       "        text-align: right;\n",
       "    }\n",
       "</style>\n",
       "<table border=\"1\" class=\"dataframe\">\n",
       "  <thead>\n",
       "    <tr style=\"text-align: right;\">\n",
       "      <th></th>\n",
       "      <th>end_result</th>\n",
       "      <th>game</th>\n",
       "      <th>game_id</th>\n",
       "      <th>period</th>\n",
       "      <th>play</th>\n",
       "      <th>player</th>\n",
       "      <th>playoffs</th>\n",
       "      <th>score</th>\n",
       "      <th>season</th>\n",
       "      <th>shot_made</th>\n",
       "      <th>time</th>\n",
       "    </tr>\n",
       "  </thead>\n",
       "  <tbody>\n",
       "    <tr>\n",
       "      <th>0</th>\n",
       "      <td>106 - 114</td>\n",
       "      <td>PHX - LAL</td>\n",
       "      <td>261031013.0</td>\n",
       "      <td>1.0</td>\n",
       "      <td>Andrew Bynum makes free throw 1 of 2</td>\n",
       "      <td>Andrew Bynum</td>\n",
       "      <td>regular</td>\n",
       "      <td>0 - 1</td>\n",
       "      <td>2006 - 2007</td>\n",
       "      <td>1</td>\n",
       "      <td>11:45</td>\n",
       "    </tr>\n",
       "    <tr>\n",
       "      <th>1</th>\n",
       "      <td>106 - 114</td>\n",
       "      <td>PHX - LAL</td>\n",
       "      <td>261031013.0</td>\n",
       "      <td>1.0</td>\n",
       "      <td>Andrew Bynum makes free throw 2 of 2</td>\n",
       "      <td>Andrew Bynum</td>\n",
       "      <td>regular</td>\n",
       "      <td>0 - 2</td>\n",
       "      <td>2006 - 2007</td>\n",
       "      <td>1</td>\n",
       "      <td>11:45</td>\n",
       "    </tr>\n",
       "    <tr>\n",
       "      <th>2</th>\n",
       "      <td>106 - 114</td>\n",
       "      <td>PHX - LAL</td>\n",
       "      <td>261031013.0</td>\n",
       "      <td>1.0</td>\n",
       "      <td>Andrew Bynum makes free throw 1 of 2</td>\n",
       "      <td>Andrew Bynum</td>\n",
       "      <td>regular</td>\n",
       "      <td>18 - 12</td>\n",
       "      <td>2006 - 2007</td>\n",
       "      <td>1</td>\n",
       "      <td>7:26</td>\n",
       "    </tr>\n",
       "    <tr>\n",
       "      <th>3</th>\n",
       "      <td>106 - 114</td>\n",
       "      <td>PHX - LAL</td>\n",
       "      <td>261031013.0</td>\n",
       "      <td>1.0</td>\n",
       "      <td>Andrew Bynum misses free throw 2 of 2</td>\n",
       "      <td>Andrew Bynum</td>\n",
       "      <td>regular</td>\n",
       "      <td>18 - 12</td>\n",
       "      <td>2006 - 2007</td>\n",
       "      <td>0</td>\n",
       "      <td>7:26</td>\n",
       "    </tr>\n",
       "    <tr>\n",
       "      <th>4</th>\n",
       "      <td>106 - 114</td>\n",
       "      <td>PHX - LAL</td>\n",
       "      <td>261031013.0</td>\n",
       "      <td>1.0</td>\n",
       "      <td>Shawn Marion makes free throw 1 of 1</td>\n",
       "      <td>Shawn Marion</td>\n",
       "      <td>regular</td>\n",
       "      <td>21 - 12</td>\n",
       "      <td>2006 - 2007</td>\n",
       "      <td>1</td>\n",
       "      <td>7:18</td>\n",
       "    </tr>\n",
       "  </tbody>\n",
       "</table>\n",
       "</div>"
      ],
      "text/plain": [
       "  end_result       game      game_id  period  \\\n",
       "0  106 - 114  PHX - LAL  261031013.0     1.0   \n",
       "1  106 - 114  PHX - LAL  261031013.0     1.0   \n",
       "2  106 - 114  PHX - LAL  261031013.0     1.0   \n",
       "3  106 - 114  PHX - LAL  261031013.0     1.0   \n",
       "4  106 - 114  PHX - LAL  261031013.0     1.0   \n",
       "\n",
       "                                    play        player playoffs    score  \\\n",
       "0   Andrew Bynum makes free throw 1 of 2  Andrew Bynum  regular    0 - 1   \n",
       "1   Andrew Bynum makes free throw 2 of 2  Andrew Bynum  regular    0 - 2   \n",
       "2   Andrew Bynum makes free throw 1 of 2  Andrew Bynum  regular  18 - 12   \n",
       "3  Andrew Bynum misses free throw 2 of 2  Andrew Bynum  regular  18 - 12   \n",
       "4   Shawn Marion makes free throw 1 of 1  Shawn Marion  regular  21 - 12   \n",
       "\n",
       "        season  shot_made   time  \n",
       "0  2006 - 2007          1  11:45  \n",
       "1  2006 - 2007          1  11:45  \n",
       "2  2006 - 2007          1   7:26  \n",
       "3  2006 - 2007          0   7:26  \n",
       "4  2006 - 2007          1   7:18  "
      ]
     },
     "execution_count": 2,
     "metadata": {},
     "output_type": "execute_result"
    }
   ],
   "source": [
    "# Посмотрим на формат:\n",
    "data.head()"
   ]
  },
  {
   "cell_type": "markdown",
   "id": "0c8ee8bb-24ff-41d8-9b70-5f833e693043",
   "metadata": {},
   "source": [
    "Здесь нас интересуют следующие колонки:\n",
    "\n",
    "* player — имя игрока\n",
    "* playoffs — этап сезона NBA (regular/playoffs)\n",
    "* shot_made — попал или не попал игрок штрафной бросок\n",
    "\n",
    "Теперь будем для каждого игрока считать его среднюю результативность (долю попаданий) во время регулярного чемпионата и плей-офф, p_value, полученное через z-test, и запишем это в новый датафрейм. Z-test используем потому, что в данном случае наша задача является аналогом конверсии, например, в интернет-магазине, то есть мы имеем дело с распределением Бернулли.\n",
    "\n",
    "Также мы оставим только тех игроков, у которых есть хотя бы по 30 бросков в регулярном сезоне и плей-офф. Это делаем для более корректной оценки, чтобы не считать тех игроков, у которых слишком мало бросков. Цифра 30 исходит из закона больших чисел, если коротко — такого количества наблюдений достаточно, чтобы довольно точно аппроксимировать нормальное распределение."
   ]
  },
  {
   "cell_type": "code",
   "execution_count": 3,
   "id": "8e7badd9-79c7-4bd3-8692-fdc708fca0ec",
   "metadata": {},
   "outputs": [],
   "source": [
    "from statsmodels.stats.weightstats import ztest\n",
    "\n",
    "new_df = {\n",
    "    \"player\": [],\n",
    "    \"regular_mean\": [],\n",
    "    \"playoff_mean\": [],\n",
    "    \"p_value\": []\n",
    "}\n",
    "\n",
    "for player, group in data.groupby(\"player\"):\n",
    "    regular_shots = group[group[\"playoffs\"] == \"regular\"][\"shot_made\"].values\n",
    "    playoff_shots = group[group[\"playoffs\"] == \"playoffs\"][\"shot_made\"].values\n",
    "    \n",
    "    if len(regular_shots) < 30 or len(playoff_shots) < 30:\n",
    "        continue\n",
    "        \n",
    "    statistic, p_value = ztest(regular_shots, playoff_shots)\n",
    "\n",
    "    new_df[\"player\"].append(player)\n",
    "    new_df[\"regular_mean\"].append(np.mean(regular_shots))\n",
    "    new_df[\"playoff_mean\"].append(np.mean(playoff_shots))\n",
    "    new_df[\"p_value\"].append(p_value)\n",
    "    \n",
    "new_df = pd.DataFrame(new_df)"
   ]
  },
  {
   "cell_type": "code",
   "execution_count": 4,
   "id": "24a216b5-3e56-438b-bf31-9509f8c71f53",
   "metadata": {},
   "outputs": [
    {
     "data": {
      "text/html": [
       "<div>\n",
       "<style scoped>\n",
       "    .dataframe tbody tr th:only-of-type {\n",
       "        vertical-align: middle;\n",
       "    }\n",
       "\n",
       "    .dataframe tbody tr th {\n",
       "        vertical-align: top;\n",
       "    }\n",
       "\n",
       "    .dataframe thead th {\n",
       "        text-align: right;\n",
       "    }\n",
       "</style>\n",
       "<table border=\"1\" class=\"dataframe\">\n",
       "  <thead>\n",
       "    <tr style=\"text-align: right;\">\n",
       "      <th></th>\n",
       "      <th>player</th>\n",
       "      <th>regular_mean</th>\n",
       "      <th>playoff_mean</th>\n",
       "      <th>p_value</th>\n",
       "    </tr>\n",
       "  </thead>\n",
       "  <tbody>\n",
       "    <tr>\n",
       "      <th>155</th>\n",
       "      <td>Larry Hughes</td>\n",
       "      <td>0.754293</td>\n",
       "      <td>0.739130</td>\n",
       "      <td>0.780036</td>\n",
       "    </tr>\n",
       "    <tr>\n",
       "      <th>9</th>\n",
       "      <td>Andre Drummond</td>\n",
       "      <td>0.379649</td>\n",
       "      <td>0.323529</td>\n",
       "      <td>0.505106</td>\n",
       "    </tr>\n",
       "    <tr>\n",
       "      <th>29</th>\n",
       "      <td>Brad Miller</td>\n",
       "      <td>0.824811</td>\n",
       "      <td>0.838710</td>\n",
       "      <td>0.840969</td>\n",
       "    </tr>\n",
       "    <tr>\n",
       "      <th>154</th>\n",
       "      <td>Lance Stephenson</td>\n",
       "      <td>0.691622</td>\n",
       "      <td>0.677419</td>\n",
       "      <td>0.784251</td>\n",
       "    </tr>\n",
       "    <tr>\n",
       "      <th>111</th>\n",
       "      <td>Jason Maxiell</td>\n",
       "      <td>0.571795</td>\n",
       "      <td>0.500000</td>\n",
       "      <td>0.259019</td>\n",
       "    </tr>\n",
       "    <tr>\n",
       "      <th>8</th>\n",
       "      <td>Andray Blatche</td>\n",
       "      <td>0.723482</td>\n",
       "      <td>0.733333</td>\n",
       "      <td>0.867416</td>\n",
       "    </tr>\n",
       "    <tr>\n",
       "      <th>258</th>\n",
       "      <td>Tyson Chandler</td>\n",
       "      <td>0.658744</td>\n",
       "      <td>0.637500</td>\n",
       "      <td>0.584566</td>\n",
       "    </tr>\n",
       "    <tr>\n",
       "      <th>212</th>\n",
       "      <td>Ray Allen</td>\n",
       "      <td>0.908102</td>\n",
       "      <td>0.882353</td>\n",
       "      <td>0.121483</td>\n",
       "    </tr>\n",
       "    <tr>\n",
       "      <th>66</th>\n",
       "      <td>DeShawn Stevenson</td>\n",
       "      <td>0.712821</td>\n",
       "      <td>0.756757</td>\n",
       "      <td>0.566205</td>\n",
       "    </tr>\n",
       "    <tr>\n",
       "      <th>43</th>\n",
       "      <td>Chauncey Billups</td>\n",
       "      <td>0.907998</td>\n",
       "      <td>0.860526</td>\n",
       "      <td>0.003849</td>\n",
       "    </tr>\n",
       "  </tbody>\n",
       "</table>\n",
       "</div>"
      ],
      "text/plain": [
       "                player  regular_mean  playoff_mean   p_value\n",
       "155       Larry Hughes      0.754293      0.739130  0.780036\n",
       "9       Andre Drummond      0.379649      0.323529  0.505106\n",
       "29         Brad Miller      0.824811      0.838710  0.840969\n",
       "154   Lance Stephenson      0.691622      0.677419  0.784251\n",
       "111      Jason Maxiell      0.571795      0.500000  0.259019\n",
       "8       Andray Blatche      0.723482      0.733333  0.867416\n",
       "258     Tyson Chandler      0.658744      0.637500  0.584566\n",
       "212          Ray Allen      0.908102      0.882353  0.121483\n",
       "66   DeShawn Stevenson      0.712821      0.756757  0.566205\n",
       "43    Chauncey Billups      0.907998      0.860526  0.003849"
      ]
     },
     "execution_count": 4,
     "metadata": {},
     "output_type": "execute_result"
    }
   ],
   "source": [
    "# Посмотрим на 10 случайных элементов, чтобы увидеть, что у нас получилось:\n",
    "new_df.sample(10)"
   ]
  },
  {
   "cell_type": "code",
   "execution_count": 5,
   "id": "16b8c241-dda8-4419-af92-2a65b9474e93",
   "metadata": {},
   "outputs": [
    {
     "data": {
      "text/plain": [
       "(22, 4)"
      ]
     },
     "execution_count": 5,
     "metadata": {},
     "output_type": "execute_result"
    }
   ],
   "source": [
    "# Теперь посчитаем количество игроков с p_value < 0.05.\n",
    "# Так мы поймём, для скольких игроков мы бы отвергли нулевую гипотезу\n",
    "# без поправок о множественной проверки гипотез.\n",
    "new_df[new_df.p_value < 0.05].shape"
   ]
  },
  {
   "cell_type": "markdown",
   "id": "422b0900-d30b-41a4-b127-dbbb918b471a",
   "metadata": {},
   "source": [
    "Расчёты готовы, и нам необходимо сравнить их с методами Бонферрони и Холма."
   ]
  },
  {
   "cell_type": "code",
   "execution_count": 6,
   "id": "7d56b1de-4657-4128-b470-7108e585b7d0",
   "metadata": {},
   "outputs": [],
   "source": [
    "# Импортируем функцию для множественной проверки гипотез:\n",
    "from statsmodels.stats.multitest import multipletests"
   ]
  },
  {
   "cell_type": "code",
   "execution_count": 7,
   "id": "eae3c172-fd69-4ca4-9b92-d77ffe1802e9",
   "metadata": {},
   "outputs": [
    {
     "data": {
      "text/plain": [
       "1"
      ]
     },
     "execution_count": 7,
     "metadata": {},
     "output_type": "execute_result"
    }
   ],
   "source": [
    "multipletests(new_df.p_value, alpha=0.05, method='bonferroni')[0].sum()"
   ]
  },
  {
   "cell_type": "code",
   "execution_count": 8,
   "id": "53e05ba8-828e-4b60-af78-b4517f833282",
   "metadata": {},
   "outputs": [
    {
     "data": {
      "text/plain": [
       "1"
      ]
     },
     "execution_count": 8,
     "metadata": {},
     "output_type": "execute_result"
    }
   ],
   "source": [
    "multipletests(new_df.p_value, alpha=0.05, method='holm')[0].sum()"
   ]
  },
  {
   "cell_type": "markdown",
   "id": "d3163e5e-75cc-4c09-9600-c57f0283ab95",
   "metadata": {},
   "source": [
    "Видим, что в данной задаче два метода выдали одинаковое количество игроков, для которых стоит отвергнуть нулевую гипотезу. То есть тех, у кого с 95 % отличается результативность во время плей-офф и регулярного сезона.\n",
    "\n",
    "Однако мы видим, насколько данное число отличается от того, что мы получили без поправок на множественную проверку гипотез. Так нам удалось кратно уменьшить вероятность ошибок первого рода."
   ]
  },
  {
   "cell_type": "code",
   "execution_count": null,
   "id": "e5c73faa-2516-48f6-a007-5114db37b8cb",
   "metadata": {},
   "outputs": [],
   "source": []
  }
 ],
 "metadata": {
  "kernelspec": {
   "display_name": "Python 3",
   "language": "python",
   "name": "python3"
  },
  "language_info": {
   "codemirror_mode": {
    "name": "ipython",
    "version": 3
   },
   "file_extension": ".py",
   "mimetype": "text/x-python",
   "name": "python",
   "nbconvert_exporter": "python",
   "pygments_lexer": "ipython3",
   "version": "3.8.8"
  }
 },
 "nbformat": 4,
 "nbformat_minor": 5
}
