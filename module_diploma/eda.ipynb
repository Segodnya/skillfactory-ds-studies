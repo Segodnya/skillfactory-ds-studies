{
 "cells": [
  {
   "cell_type": "code",
   "execution_count": 1,
   "id": "63f76c65-8ec4-4f50-99ae-0cdb15f8ef63",
   "metadata": {},
   "outputs": [],
   "source": [
    "import pandas as pd\n",
    "import numpy as np\n",
    "from sklearn.metrics.pairwise import cosine_similarity\n"
   ]
  },
  {
   "cell_type": "code",
   "execution_count": 2,
   "id": "c1617814-251a-4ab1-a583-d2cf4ae8a299",
   "metadata": {},
   "outputs": [],
   "source": [
    "events = pd.read_csv('events.csv')\n",
    "\n",
    "props_1 = pd.read_csv('item_properties_part1.csv')\n",
    "props_2 = pd.read_csv('item_properties_part2.csv')\n",
    "props = pd.concat([props_1, props_2])\n",
    "\n",
    "categories = pd.read_csv(\"category_tree.csv\")"
   ]
  },
  {
   "cell_type": "code",
   "execution_count": 3,
   "id": "b81a559a-16e7-4cd3-8b91-98d055786b23",
   "metadata": {},
   "outputs": [
    {
     "data": {
      "text/html": [
       "<div>\n",
       "<style scoped>\n",
       "    .dataframe tbody tr th:only-of-type {\n",
       "        vertical-align: middle;\n",
       "    }\n",
       "\n",
       "    .dataframe tbody tr th {\n",
       "        vertical-align: top;\n",
       "    }\n",
       "\n",
       "    .dataframe thead th {\n",
       "        text-align: right;\n",
       "    }\n",
       "</style>\n",
       "<table border=\"1\" class=\"dataframe\">\n",
       "  <thead>\n",
       "    <tr style=\"text-align: right;\">\n",
       "      <th></th>\n",
       "      <th>timestamp</th>\n",
       "      <th>visitorid</th>\n",
       "      <th>event</th>\n",
       "      <th>itemid</th>\n",
       "      <th>transactionid</th>\n",
       "    </tr>\n",
       "  </thead>\n",
       "  <tbody>\n",
       "    <tr>\n",
       "      <th>0</th>\n",
       "      <td>1433221332117</td>\n",
       "      <td>257597</td>\n",
       "      <td>view</td>\n",
       "      <td>355908</td>\n",
       "      <td>NaN</td>\n",
       "    </tr>\n",
       "    <tr>\n",
       "      <th>1</th>\n",
       "      <td>1433224214164</td>\n",
       "      <td>992329</td>\n",
       "      <td>view</td>\n",
       "      <td>248676</td>\n",
       "      <td>NaN</td>\n",
       "    </tr>\n",
       "    <tr>\n",
       "      <th>2</th>\n",
       "      <td>1433221999827</td>\n",
       "      <td>111016</td>\n",
       "      <td>view</td>\n",
       "      <td>318965</td>\n",
       "      <td>NaN</td>\n",
       "    </tr>\n",
       "    <tr>\n",
       "      <th>3</th>\n",
       "      <td>1433221955914</td>\n",
       "      <td>483717</td>\n",
       "      <td>view</td>\n",
       "      <td>253185</td>\n",
       "      <td>NaN</td>\n",
       "    </tr>\n",
       "    <tr>\n",
       "      <th>4</th>\n",
       "      <td>1433221337106</td>\n",
       "      <td>951259</td>\n",
       "      <td>view</td>\n",
       "      <td>367447</td>\n",
       "      <td>NaN</td>\n",
       "    </tr>\n",
       "  </tbody>\n",
       "</table>\n",
       "</div>"
      ],
      "text/plain": [
       "       timestamp  visitorid event  itemid  transactionid\n",
       "0  1433221332117     257597  view  355908            NaN\n",
       "1  1433224214164     992329  view  248676            NaN\n",
       "2  1433221999827     111016  view  318965            NaN\n",
       "3  1433221955914     483717  view  253185            NaN\n",
       "4  1433221337106     951259  view  367447            NaN"
      ]
     },
     "execution_count": 3,
     "metadata": {},
     "output_type": "execute_result"
    }
   ],
   "source": [
    "events.head()"
   ]
  },
  {
   "cell_type": "code",
   "execution_count": 4,
   "id": "85350d09-bf28-4fcf-beb3-7bf17db97385",
   "metadata": {},
   "outputs": [
    {
     "name": "stdout",
     "output_type": "stream",
     "text": [
      "<class 'pandas.core.frame.DataFrame'>\n",
      "RangeIndex: 2756101 entries, 0 to 2756100\n",
      "Data columns (total 5 columns):\n",
      " #   Column         Dtype  \n",
      "---  ------         -----  \n",
      " 0   timestamp      int64  \n",
      " 1   visitorid      int64  \n",
      " 2   event          object \n",
      " 3   itemid         int64  \n",
      " 4   transactionid  float64\n",
      "dtypes: float64(1), int64(3), object(1)\n",
      "memory usage: 105.1+ MB\n"
     ]
    }
   ],
   "source": [
    "events.info()"
   ]
  },
  {
   "cell_type": "code",
   "execution_count": 5,
   "id": "6d9c4711-324a-4294-b6de-4fb9eec9e725",
   "metadata": {},
   "outputs": [
    {
     "data": {
      "text/plain": [
       "2756101"
      ]
     },
     "execution_count": 5,
     "metadata": {},
     "output_type": "execute_result"
    }
   ],
   "source": [
    "# Сколько записей событий находится в датасете? Ответ введите без пробелов и знаков препинания.\n",
    "len(events)"
   ]
  },
  {
   "cell_type": "code",
   "execution_count": 6,
   "id": "9c74c6dc-5d03-4227-b11d-8a9aa92e771d",
   "metadata": {},
   "outputs": [
    {
     "data": {
      "text/plain": [
       "view           2664312\n",
       "addtocart        69332\n",
       "transaction      22457\n",
       "Name: event, dtype: int64"
      ]
     },
     "execution_count": 6,
     "metadata": {},
     "output_type": "execute_result"
    }
   ],
   "source": [
    "# Какие типы событий содержатся в датасете? Выберите все верные варианты.\n",
    "events.event.value_counts()"
   ]
  },
  {
   "cell_type": "code",
   "execution_count": 7,
   "id": "01d4d7f1-c9f1-4f8d-8854-2b1c5eb76865",
   "metadata": {},
   "outputs": [
    {
     "data": {
      "text/plain": [
       "1104"
      ]
     },
     "execution_count": 7,
     "metadata": {},
     "output_type": "execute_result"
    }
   ],
   "source": [
    "# Сколько уникальных признаков товара есть в датасете? Ответ вводите без пробелов и знаков препинания.\n",
    "props.property.nunique()"
   ]
  },
  {
   "cell_type": "markdown",
   "id": "db2891d3-a682-4a58-8186-4a218c4e0b0c",
   "metadata": {},
   "source": [
    "## Описание данных\n",
    "\n",
    "events — датасет с событиями:\n",
    "* timestamp — время события\n",
    "* visitorid — идентификатор пользователя\n",
    "* event — тип события\n",
    "* itemid — идентификатор объекта\n",
    "* transactionid — идентификатор транзакции, если она проходила\n",
    "\n",
    "category_tree — файл с деревом категорий (можно восстановить дерево):\n",
    "* category_id — идентификатор категорий\n",
    "* parent_id — идентификатор родительской категории\n",
    "\n",
    "item_properties — файл с свойствами товаров:\n",
    "* timestamp — момент записи значения свойства\n",
    "* item_id — идентификатор объекта\n",
    "* property — свойство, кажется, они все, кроме категории, захешированы\n",
    "* value — значение свойства"
   ]
  },
  {
   "cell_type": "markdown",
   "id": "5bee0ca2-9f26-4686-8216-40d8fab0fe7f",
   "metadata": {},
   "source": [
    "## Целевая метрика\n",
    "\n",
    "Precision@3"
   ]
  },
  {
   "cell_type": "markdown",
   "id": "b9f71269-fcb1-4321-b2e7-021c7b8f23b6",
   "metadata": {},
   "source": [
    "## Дополнительное задание первой недели"
   ]
  },
  {
   "cell_type": "code",
   "execution_count": 8,
   "id": "499081cb-95fc-47b2-855e-b5716ca90cd5",
   "metadata": {},
   "outputs": [],
   "source": [
    "# Какой процент продаж обеспечивают топовые товары (точка отсечения — 1 июля)?"
   ]
  },
  {
   "cell_type": "code",
   "execution_count": 9,
   "id": "10173f11-675f-4887-aa00-d486d359cdf9",
   "metadata": {},
   "outputs": [
    {
     "data": {
      "text/html": [
       "<div>\n",
       "<style scoped>\n",
       "    .dataframe tbody tr th:only-of-type {\n",
       "        vertical-align: middle;\n",
       "    }\n",
       "\n",
       "    .dataframe tbody tr th {\n",
       "        vertical-align: top;\n",
       "    }\n",
       "\n",
       "    .dataframe thead th {\n",
       "        text-align: right;\n",
       "    }\n",
       "</style>\n",
       "<table border=\"1\" class=\"dataframe\">\n",
       "  <thead>\n",
       "    <tr style=\"text-align: right;\">\n",
       "      <th></th>\n",
       "      <th>timestamp</th>\n",
       "      <th>visitorid</th>\n",
       "      <th>event</th>\n",
       "      <th>itemid</th>\n",
       "      <th>transactionid</th>\n",
       "    </tr>\n",
       "  </thead>\n",
       "  <tbody>\n",
       "    <tr>\n",
       "      <th>130</th>\n",
       "      <td>1433222276276</td>\n",
       "      <td>599528</td>\n",
       "      <td>transaction</td>\n",
       "      <td>356475</td>\n",
       "      <td>4000.0</td>\n",
       "    </tr>\n",
       "    <tr>\n",
       "      <th>304</th>\n",
       "      <td>1433193500981</td>\n",
       "      <td>121688</td>\n",
       "      <td>transaction</td>\n",
       "      <td>15335</td>\n",
       "      <td>11117.0</td>\n",
       "    </tr>\n",
       "    <tr>\n",
       "      <th>418</th>\n",
       "      <td>1433193915008</td>\n",
       "      <td>552148</td>\n",
       "      <td>transaction</td>\n",
       "      <td>81345</td>\n",
       "      <td>5444.0</td>\n",
       "    </tr>\n",
       "    <tr>\n",
       "      <th>814</th>\n",
       "      <td>1433176736375</td>\n",
       "      <td>102019</td>\n",
       "      <td>transaction</td>\n",
       "      <td>150318</td>\n",
       "      <td>13556.0</td>\n",
       "    </tr>\n",
       "    <tr>\n",
       "      <th>843</th>\n",
       "      <td>1433174518180</td>\n",
       "      <td>189384</td>\n",
       "      <td>transaction</td>\n",
       "      <td>310791</td>\n",
       "      <td>7244.0</td>\n",
       "    </tr>\n",
       "  </tbody>\n",
       "</table>\n",
       "</div>"
      ],
      "text/plain": [
       "         timestamp  visitorid        event  itemid  transactionid\n",
       "130  1433222276276     599528  transaction  356475         4000.0\n",
       "304  1433193500981     121688  transaction   15335        11117.0\n",
       "418  1433193915008     552148  transaction   81345         5444.0\n",
       "814  1433176736375     102019  transaction  150318        13556.0\n",
       "843  1433174518180     189384  transaction  310791         7244.0"
      ]
     },
     "execution_count": 9,
     "metadata": {},
     "output_type": "execute_result"
    }
   ],
   "source": [
    "sales = events[events['event']=='transaction']\n",
    "sales.head()"
   ]
  },
  {
   "cell_type": "code",
   "execution_count": 10,
   "id": "2f4479f1-1db0-40dd-a9c3-c9d387052ce1",
   "metadata": {},
   "outputs": [],
   "source": [
    "sales_train = sales[pd.to_datetime(sales['timestamp'], unit='ms') < pd.Timestamp('2015-07-01 00:00:00.000000')]"
   ]
  },
  {
   "cell_type": "code",
   "execution_count": 11,
   "id": "6d8eae23-e501-4f1c-b215-82c16e465b77",
   "metadata": {},
   "outputs": [
    {
     "data": {
      "text/plain": [
       "119736    36\n",
       "369447    31\n",
       "7943      30\n",
       "461686    23\n",
       "318333    23\n",
       "          ..\n",
       "176309     1\n",
       "229555     1\n",
       "413865     1\n",
       "202920     1\n",
       "363040     1\n",
       "Name: itemid, Length: 6231, dtype: int64"
      ]
     },
     "execution_count": 11,
     "metadata": {},
     "output_type": "execute_result"
    }
   ],
   "source": [
    "sales_train.itemid.value_counts()"
   ]
  },
  {
   "cell_type": "code",
   "execution_count": 12,
   "id": "4ae82a62-76cf-458e-b954-c94d43e12d55",
   "metadata": {},
   "outputs": [
    {
     "data": {
      "text/plain": [
       "0.3729024238657551"
      ]
     },
     "execution_count": 12,
     "metadata": {},
     "output_type": "execute_result"
    }
   ],
   "source": [
    "# most frequent item gives 0.37% of total sales\n",
    "sales_train.itemid.value_counts()[119736] / len(sales_train) * 100"
   ]
  },
  {
   "cell_type": "code",
   "execution_count": 13,
   "id": "c4440e78-0a97-4f3f-b586-03ffe09c153a",
   "metadata": {},
   "outputs": [
    {
     "data": {
      "text/plain": [
       "0.24971914620446156"
      ]
     },
     "execution_count": 13,
     "metadata": {},
     "output_type": "execute_result"
    }
   ],
   "source": [
    "# @Леон Кочиев (Ментор)\n",
    "# выбираем столько, чтобы эти \"топовые\" покрывали больше половины всех отсеченных\n",
    "sales_train_gr = sales_train.groupby(['itemid']).count()\n",
    "sales_train_gr = sales_train_gr.sort_values('event', ascending=False)\n",
    "sum_sales_train_grp = sales_train_gr['event'].sum()\n",
    "sales_train_gr['percentage'] = (sales_train_gr['event'] / sum_sales_train_grp) * 100\n",
    "top_50_percent_items = np.sum(sales_train_gr['percentage'].cumsum()<=50)\n",
    "\n",
    "# 24.9% items givr 50% of transaction events\n",
    "top_50_percent_items / sales_train.itemid.nunique() "
   ]
  },
  {
   "cell_type": "code",
   "execution_count": 14,
   "id": "d70045dd-399b-4629-97ca-44cdfaa0f5b3",
   "metadata": {},
   "outputs": [
    {
     "name": "stderr",
     "output_type": "stream",
     "text": [
      "<ipython-input-14-636ee29b93a4>:3: SettingWithCopyWarning: \n",
      "A value is trying to be set on a copy of a slice from a DataFrame.\n",
      "Try using .loc[row_indexer,col_indexer] = value instead\n",
      "\n",
      "See the caveats in the documentation: https://pandas.pydata.org/pandas-docs/stable/user_guide/indexing.html#returning-a-view-versus-a-copy\n",
      "  sales['event_datetime'] = pd.to_datetime(sales['timestamp'], unit = 'ms')\n"
     ]
    }
   ],
   "source": [
    "events['event_datetime'] = pd.to_datetime(events['timestamp'], unit = 'ms')\n",
    "props['event_datetime'] = pd.to_datetime(props['timestamp'], unit = 'ms')\n",
    "sales['event_datetime'] = pd.to_datetime(sales['timestamp'], unit = 'ms')\n"
   ]
  },
  {
   "cell_type": "markdown",
   "id": "3c3ed45c-228e-4d80-a6da-3daa434c02dd",
   "metadata": {},
   "source": [
    "## Дополнительное задание третьей недели "
   ]
  },
  {
   "cell_type": "code",
   "execution_count": 15,
   "id": "1557b4f9-9674-4e9e-b373-3647db82efbf",
   "metadata": {},
   "outputs": [
    {
     "data": {
      "text/plain": [
       "888           3000398\n",
       "790           1790516\n",
       "available     1503639\n",
       "categoryid     788214\n",
       "6              631471\n",
       "283            597419\n",
       "776            574220\n",
       "678            481966\n",
       "364            476486\n",
       "202            448938\n",
       "839            417239\n",
       "917            417227\n",
       "112            417053\n",
       "764            417053\n",
       "159            417053\n",
       "227            347492\n",
       "698            289849\n",
       "451            264416\n",
       "663            240813\n",
       "962            239372\n",
       "Name: property, dtype: int64"
      ]
     },
     "execution_count": 15,
     "metadata": {},
     "output_type": "execute_result"
    }
   ],
   "source": [
    "# какое свойство айтемов не входит в топ-20?\n",
    "props.property.value_counts()[:20] # color is not on list"
   ]
  },
  {
   "cell_type": "code",
   "execution_count": 16,
   "id": "d855a12c-adbb-4bfb-a215-7d4fa3868cc1",
   "metadata": {},
   "outputs": [
    {
     "data": {
      "text/plain": [
       "(13563669, 5)"
      ]
     },
     "execution_count": 16,
     "metadata": {},
     "output_type": "execute_result"
    }
   ],
   "source": [
    "# Возьмем только самые распространенные proprties, например топ 20 (при построении модели можно играть)\n",
    "top_properties = props.drop_duplicates(['itemid', 'property']).groupby(\"property\")['itemid'].count().sort_values(ascending=False)[:20]\n",
    "props = props[props['property'].isin(set(top_properties.index))]\n",
    "props.shape"
   ]
  },
  {
   "cell_type": "markdown",
   "id": "8fbd2210-455f-408c-9a04-620705af9722",
   "metadata": {},
   "source": [
    "# Генерация признаков"
   ]
  },
  {
   "cell_type": "code",
   "execution_count": 17,
   "id": "675a256b-5360-456b-b8af-da00aec95090",
   "metadata": {},
   "outputs": [
    {
     "data": {
      "text/html": [
       "<div>\n",
       "<style scoped>\n",
       "    .dataframe tbody tr th:only-of-type {\n",
       "        vertical-align: middle;\n",
       "    }\n",
       "\n",
       "    .dataframe tbody tr th {\n",
       "        vertical-align: top;\n",
       "    }\n",
       "\n",
       "    .dataframe thead th {\n",
       "        text-align: right;\n",
       "    }\n",
       "</style>\n",
       "<table border=\"1\" class=\"dataframe\">\n",
       "  <thead>\n",
       "    <tr style=\"text-align: right;\">\n",
       "      <th></th>\n",
       "      <th>timestamp</th>\n",
       "      <th>itemid</th>\n",
       "      <th>property</th>\n",
       "      <th>value</th>\n",
       "      <th>event_datetime</th>\n",
       "    </tr>\n",
       "  </thead>\n",
       "  <tbody>\n",
       "    <tr>\n",
       "      <th>0</th>\n",
       "      <td>1435460400000</td>\n",
       "      <td>460429</td>\n",
       "      <td>categoryid</td>\n",
       "      <td>1338</td>\n",
       "      <td>2015-06-28 03:00:00</td>\n",
       "    </tr>\n",
       "    <tr>\n",
       "      <th>1</th>\n",
       "      <td>1441508400000</td>\n",
       "      <td>206783</td>\n",
       "      <td>888</td>\n",
       "      <td>1116713 960601 n277.200</td>\n",
       "      <td>2015-09-06 03:00:00</td>\n",
       "    </tr>\n",
       "    <tr>\n",
       "      <th>3</th>\n",
       "      <td>1431226800000</td>\n",
       "      <td>59481</td>\n",
       "      <td>790</td>\n",
       "      <td>n15360.000</td>\n",
       "      <td>2015-05-10 03:00:00</td>\n",
       "    </tr>\n",
       "    <tr>\n",
       "      <th>4</th>\n",
       "      <td>1431831600000</td>\n",
       "      <td>156781</td>\n",
       "      <td>917</td>\n",
       "      <td>828513</td>\n",
       "      <td>2015-05-17 03:00:00</td>\n",
       "    </tr>\n",
       "    <tr>\n",
       "      <th>5</th>\n",
       "      <td>1436065200000</td>\n",
       "      <td>285026</td>\n",
       "      <td>available</td>\n",
       "      <td>0</td>\n",
       "      <td>2015-07-05 03:00:00</td>\n",
       "    </tr>\n",
       "  </tbody>\n",
       "</table>\n",
       "</div>"
      ],
      "text/plain": [
       "       timestamp  itemid    property                    value  \\\n",
       "0  1435460400000  460429  categoryid                     1338   \n",
       "1  1441508400000  206783         888  1116713 960601 n277.200   \n",
       "3  1431226800000   59481         790               n15360.000   \n",
       "4  1431831600000  156781         917                   828513   \n",
       "5  1436065200000  285026   available                        0   \n",
       "\n",
       "       event_datetime  \n",
       "0 2015-06-28 03:00:00  \n",
       "1 2015-09-06 03:00:00  \n",
       "3 2015-05-10 03:00:00  \n",
       "4 2015-05-17 03:00:00  \n",
       "5 2015-07-05 03:00:00  "
      ]
     },
     "execution_count": 17,
     "metadata": {},
     "output_type": "execute_result"
    }
   ],
   "source": [
    "props.head()"
   ]
  },
  {
   "cell_type": "code",
   "execution_count": 18,
   "id": "ea361b9a-c3ec-461f-892d-8ec54d072fa1",
   "metadata": {},
   "outputs": [],
   "source": [
    "props[\"prop\"] = props[\"property\"].astype(str) # + \" \" + props[\"value\"].astype(str)"
   ]
  },
  {
   "cell_type": "code",
   "execution_count": 19,
   "id": "36578f79-1c93-42ba-8370-3c5bf45a4709",
   "metadata": {},
   "outputs": [],
   "source": [
    "props = props[['itemid', 'property']]"
   ]
  },
  {
   "cell_type": "code",
   "execution_count": 20,
   "id": "f6a40d4e-dbb1-4416-8024-48484ab88817",
   "metadata": {},
   "outputs": [
    {
     "data": {
      "text/html": [
       "<div>\n",
       "<style scoped>\n",
       "    .dataframe tbody tr th:only-of-type {\n",
       "        vertical-align: middle;\n",
       "    }\n",
       "\n",
       "    .dataframe tbody tr th {\n",
       "        vertical-align: top;\n",
       "    }\n",
       "\n",
       "    .dataframe thead th {\n",
       "        text-align: right;\n",
       "    }\n",
       "</style>\n",
       "<table border=\"1\" class=\"dataframe\">\n",
       "  <thead>\n",
       "    <tr style=\"text-align: right;\">\n",
       "      <th></th>\n",
       "      <th>itemid</th>\n",
       "      <th>property</th>\n",
       "    </tr>\n",
       "  </thead>\n",
       "  <tbody>\n",
       "    <tr>\n",
       "      <th>0</th>\n",
       "      <td>460429</td>\n",
       "      <td>categoryid</td>\n",
       "    </tr>\n",
       "    <tr>\n",
       "      <th>1</th>\n",
       "      <td>206783</td>\n",
       "      <td>888</td>\n",
       "    </tr>\n",
       "    <tr>\n",
       "      <th>3</th>\n",
       "      <td>59481</td>\n",
       "      <td>790</td>\n",
       "    </tr>\n",
       "    <tr>\n",
       "      <th>4</th>\n",
       "      <td>156781</td>\n",
       "      <td>917</td>\n",
       "    </tr>\n",
       "    <tr>\n",
       "      <th>5</th>\n",
       "      <td>285026</td>\n",
       "      <td>available</td>\n",
       "    </tr>\n",
       "  </tbody>\n",
       "</table>\n",
       "</div>"
      ],
      "text/plain": [
       "   itemid    property\n",
       "0  460429  categoryid\n",
       "1  206783         888\n",
       "3   59481         790\n",
       "4  156781         917\n",
       "5  285026   available"
      ]
     },
     "execution_count": 20,
     "metadata": {},
     "output_type": "execute_result"
    }
   ],
   "source": [
    "props.head()"
   ]
  },
  {
   "cell_type": "code",
   "execution_count": 21,
   "id": "078c9e7c-312c-4b19-a52d-25d3a3263785",
   "metadata": {},
   "outputs": [],
   "source": [
    "# props_items = props.groupby('itemid')['prop'].apply(list).reset_index(name='list_of_prop_values')"
   ]
  },
  {
   "cell_type": "code",
   "execution_count": 22,
   "id": "99ba408c-e38d-4ec7-a884-796e9d833307",
   "metadata": {},
   "outputs": [],
   "source": [
    "# props_items.head()"
   ]
  },
  {
   "cell_type": "code",
   "execution_count": 23,
   "id": "2d73eaa2-1731-49ce-ba47-299493dcd6b5",
   "metadata": {},
   "outputs": [],
   "source": [
    "# props of items as a feature in events table\n",
    "# events_with_item_props = events.merge(props, how='inner', on='itemid')\n",
    "# events_with_item_props.dropna(subset=['property'], inplace=True)\n",
    "events_with_item_props = events"
   ]
  },
  {
   "cell_type": "code",
   "execution_count": 24,
   "id": "d2928e51-ff22-4d4f-81e0-0c2333ab194d",
   "metadata": {},
   "outputs": [
    {
     "data": {
      "text/plain": [
       "timestamp               0\n",
       "visitorid               0\n",
       "event                   0\n",
       "itemid                  0\n",
       "transactionid     2733644\n",
       "event_datetime          0\n",
       "dtype: int64"
      ]
     },
     "execution_count": 24,
     "metadata": {},
     "output_type": "execute_result"
    }
   ],
   "source": [
    "events_with_item_props.isna().sum()"
   ]
  },
  {
   "cell_type": "code",
   "execution_count": 25,
   "id": "b4ffd146-8c4f-4e2d-afdb-88511b47c47e",
   "metadata": {},
   "outputs": [
    {
     "data": {
      "text/html": [
       "<div>\n",
       "<style scoped>\n",
       "    .dataframe tbody tr th:only-of-type {\n",
       "        vertical-align: middle;\n",
       "    }\n",
       "\n",
       "    .dataframe tbody tr th {\n",
       "        vertical-align: top;\n",
       "    }\n",
       "\n",
       "    .dataframe thead th {\n",
       "        text-align: right;\n",
       "    }\n",
       "</style>\n",
       "<table border=\"1\" class=\"dataframe\">\n",
       "  <thead>\n",
       "    <tr style=\"text-align: right;\">\n",
       "      <th></th>\n",
       "      <th>timestamp</th>\n",
       "      <th>visitorid</th>\n",
       "      <th>event</th>\n",
       "      <th>itemid</th>\n",
       "      <th>transactionid</th>\n",
       "      <th>event_datetime</th>\n",
       "      <th>freq</th>\n",
       "    </tr>\n",
       "  </thead>\n",
       "  <tbody>\n",
       "    <tr>\n",
       "      <th>1462974</th>\n",
       "      <td>1430622004384</td>\n",
       "      <td>693516</td>\n",
       "      <td>addtocart</td>\n",
       "      <td>297662</td>\n",
       "      <td>NaN</td>\n",
       "      <td>2015-05-03 03:00:04.384</td>\n",
       "      <td>3</td>\n",
       "    </tr>\n",
       "    <tr>\n",
       "      <th>1464806</th>\n",
       "      <td>1430622011289</td>\n",
       "      <td>829044</td>\n",
       "      <td>view</td>\n",
       "      <td>60987</td>\n",
       "      <td>NaN</td>\n",
       "      <td>2015-05-03 03:00:11.289</td>\n",
       "      <td>1</td>\n",
       "    </tr>\n",
       "    <tr>\n",
       "      <th>1463000</th>\n",
       "      <td>1430622013048</td>\n",
       "      <td>652699</td>\n",
       "      <td>view</td>\n",
       "      <td>252860</td>\n",
       "      <td>NaN</td>\n",
       "      <td>2015-05-03 03:00:13.048</td>\n",
       "      <td>1</td>\n",
       "    </tr>\n",
       "    <tr>\n",
       "      <th>1465287</th>\n",
       "      <td>1430622024154</td>\n",
       "      <td>1125936</td>\n",
       "      <td>view</td>\n",
       "      <td>33661</td>\n",
       "      <td>NaN</td>\n",
       "      <td>2015-05-03 03:00:24.154</td>\n",
       "      <td>1</td>\n",
       "    </tr>\n",
       "    <tr>\n",
       "      <th>1462955</th>\n",
       "      <td>1430622026228</td>\n",
       "      <td>693516</td>\n",
       "      <td>view</td>\n",
       "      <td>297662</td>\n",
       "      <td>NaN</td>\n",
       "      <td>2015-05-03 03:00:26.228</td>\n",
       "      <td>3</td>\n",
       "    </tr>\n",
       "  </tbody>\n",
       "</table>\n",
       "</div>"
      ],
      "text/plain": [
       "             timestamp  visitorid      event  itemid  transactionid  \\\n",
       "1462974  1430622004384     693516  addtocart  297662            NaN   \n",
       "1464806  1430622011289     829044       view   60987            NaN   \n",
       "1463000  1430622013048     652699       view  252860            NaN   \n",
       "1465287  1430622024154    1125936       view   33661            NaN   \n",
       "1462955  1430622026228     693516       view  297662            NaN   \n",
       "\n",
       "                 event_datetime  freq  \n",
       "1462974 2015-05-03 03:00:04.384     3  \n",
       "1464806 2015-05-03 03:00:11.289     1  \n",
       "1463000 2015-05-03 03:00:13.048     1  \n",
       "1465287 2015-05-03 03:00:24.154     1  \n",
       "1462955 2015-05-03 03:00:26.228     3  "
      ]
     },
     "execution_count": 25,
     "metadata": {},
     "output_type": "execute_result"
    }
   ],
   "source": [
    "# number of users's actions as a feature\n",
    "events_with_item_props['freq'] = events_with_item_props.groupby('visitorid')['visitorid'].transform('count')\n",
    "events_with_item_props.sort_values(by=['timestamp'], inplace=True)\n",
    "events_with_item_props.head()"
   ]
  },
  {
   "cell_type": "code",
   "execution_count": 26,
   "id": "ee8197e2-433e-4b48-af17-9d4623046d96",
   "metadata": {},
   "outputs": [],
   "source": [
    "events_with_item_props['day_of_week'] = events_with_item_props['event_datetime'].map(lambda x: x.weekday())\n",
    "events_with_item_props['Year'] = events_with_item_props['event_datetime'].map(lambda x: x.year)\n",
    "events_with_item_props['Month'] = events_with_item_props['event_datetime'].map(lambda x: x.month)\n",
    "events_with_item_props['Day'] = events_with_item_props['event_datetime'].map(lambda x: x.day)\n",
    "events_with_item_props['Hour'] = events_with_item_props['event_datetime'].map(lambda x: x.hour)\n",
    "events_with_item_props['minute'] = events_with_item_props['event_datetime'].map(lambda x: x.minute)"
   ]
  },
  {
   "cell_type": "code",
   "execution_count": 27,
   "id": "3651c0b1-4e6d-4519-bc15-ac842728fcf2",
   "metadata": {},
   "outputs": [
    {
     "data": {
      "text/plain": [
       "Evening      1078199\n",
       "Night         765924\n",
       "Dawn          494588\n",
       "Afternoon     293490\n",
       "Morning       123900\n",
       "Name: Day Period, dtype: int64"
      ]
     },
     "execution_count": 27,
     "metadata": {},
     "output_type": "execute_result"
    }
   ],
   "source": [
    "def get_time_periods(hour):\n",
    "    if hour >= 3 and hour < 7:\n",
    "        return 'Dawn'\n",
    "    elif hour >= 7 and hour < 12:\n",
    "        return 'Morning'\n",
    "    elif hour >= 12 and hour < 16:\n",
    "        return 'Afternoon'\n",
    "    elif hour >= 16 and hour < 22:\n",
    "        return 'Evening'\n",
    "    else:\n",
    "        return 'Night'\n",
    "    \n",
    "events_with_item_props['Day Period'] = events_with_item_props['Hour'].map(get_time_periods)\n",
    "events_with_item_props['Day Period'].value_counts()"
   ]
  },
  {
   "cell_type": "code",
   "execution_count": 28,
   "id": "8c76b17d-8f55-412c-b291-3cbe3ab00b9f",
   "metadata": {},
   "outputs": [],
   "source": [
    "events_with_item_props.to_csv('data.csv')  \n"
   ]
  },
  {
   "cell_type": "markdown",
   "id": "35027256-b11e-43f9-8d9d-212117b8d5f0",
   "metadata": {},
   "source": [
    "## Train-test-split"
   ]
  },
  {
   "cell_type": "code",
   "execution_count": 2,
   "id": "7767ceb1-a180-4d6d-9940-d9576d76d8c6",
   "metadata": {},
   "outputs": [],
   "source": [
    "data = pd.read_csv('data.csv')\n"
   ]
  },
  {
   "cell_type": "code",
   "execution_count": 7,
   "id": "4dfbc24b-5d7e-4ac8-a7ed-2f9bbfb3a1c1",
   "metadata": {},
   "outputs": [],
   "source": [
    "train = data[pd.to_datetime(data['timestamp'], unit='ms') < pd.Timestamp('2015-08-15 00:00:00.000000')]\n",
    "test = data[pd.to_datetime(data['timestamp'], unit='ms') >= pd.Timestamp('2015-08-15 00:00:00.000000')]"
   ]
  },
  {
   "cell_type": "code",
   "execution_count": 8,
   "id": "b85defbf-60a7-4378-87d3-b0aa090225d9",
   "metadata": {},
   "outputs": [
    {
     "data": {
      "text/plain": [
       "0.7804920792089985"
      ]
     },
     "execution_count": 8,
     "metadata": {},
     "output_type": "execute_result"
    }
   ],
   "source": [
    "len(train) / len(data)"
   ]
  },
  {
   "cell_type": "code",
   "execution_count": 9,
   "id": "2c4e23cc-40f3-438b-9902-d0c4345ecaf9",
   "metadata": {},
   "outputs": [
    {
     "data": {
      "text/plain": [
       "0.21950792079100148"
      ]
     },
     "execution_count": 9,
     "metadata": {},
     "output_type": "execute_result"
    }
   ],
   "source": [
    "len(test) / len(data)"
   ]
  },
  {
   "cell_type": "markdown",
   "id": "6f8ed0d6-12cf-4404-b5e0-44f0a063507e",
   "metadata": {},
   "source": [
    "## Model & Predictions"
   ]
  },
  {
   "cell_type": "markdown",
   "id": "af174e6d-070b-40f0-8a3a-637702e62291",
   "metadata": {},
   "source": [
    "### Baseline - Most frequent items"
   ]
  },
  {
   "cell_type": "code",
   "execution_count": null,
   "id": "8e79e4f4-51ea-4274-bf05-e93c4fab80ba",
   "metadata": {},
   "outputs": [],
   "source": []
  },
  {
   "cell_type": "markdown",
   "id": "2101261b-9b62-4091-9612-50a19a0cfa53",
   "metadata": {},
   "source": [
    "### Cosine Similarity"
   ]
  },
  {
   "cell_type": "code",
   "execution_count": 10,
   "id": "f641f564-125c-4028-a732-fe36b6ea7cf3",
   "metadata": {},
   "outputs": [
    {
     "name": "stderr",
     "output_type": "stream",
     "text": [
      "/Users/user/opt/anaconda3/lib/python3.8/site-packages/pandas/core/frame.py:4308: SettingWithCopyWarning: \n",
      "A value is trying to be set on a copy of a slice from a DataFrame\n",
      "\n",
      "See the caveats in the documentation: https://pandas.pydata.org/pandas-docs/stable/user_guide/indexing.html#returning-a-view-versus-a-copy\n",
      "  return super().drop(\n"
     ]
    }
   ],
   "source": [
    "# Dropping text values (we'll be using them in another approach).\n",
    "train.drop(['Unnamed: 0', 'timestamp', 'event', 'transactionid', 'event_datetime', 'Day Period'], axis=1, inplace=True)\n",
    "test.drop(['Unnamed: 0', 'timestamp', 'event', 'transactionid', 'event_datetime', 'Day Period'], axis=1, inplace=True)"
   ]
  },
  {
   "cell_type": "code",
   "execution_count": 11,
   "id": "c1cae700-9e26-4eb9-a759-7376733f2cdd",
   "metadata": {},
   "outputs": [],
   "source": [
    "# train['property'] = pd.to_numeric(train['property'], errors='coerce')\n",
    "# train['property'].fillna(0, inplace=True)\n",
    "\n",
    "# test['property'] = pd.to_numeric(test['property'], errors='coerce')\n",
    "# test['property'].fillna(0, inplace=True)"
   ]
  },
  {
   "cell_type": "code",
   "execution_count": 12,
   "id": "1b7ae163-a337-4b5f-8552-a9caf7c0b985",
   "metadata": {},
   "outputs": [],
   "source": [
    "# train['property'] = train['property'].astype('category')\n",
    "# test['property'] = test['property'].astype('category')\n",
    "# train['Day Period'] = train['Day Period'].astype('category')\n",
    "# test['Day Period'] = test['Day Period'].astype('category')\n"
   ]
  },
  {
   "cell_type": "code",
   "execution_count": 13,
   "id": "44ee4ac0-f6dd-4c78-bbad-ef33dcc70248",
   "metadata": {},
   "outputs": [
    {
     "data": {
      "text/html": [
       "<div>\n",
       "<style scoped>\n",
       "    .dataframe tbody tr th:only-of-type {\n",
       "        vertical-align: middle;\n",
       "    }\n",
       "\n",
       "    .dataframe tbody tr th {\n",
       "        vertical-align: top;\n",
       "    }\n",
       "\n",
       "    .dataframe thead th {\n",
       "        text-align: right;\n",
       "    }\n",
       "</style>\n",
       "<table border=\"1\" class=\"dataframe\">\n",
       "  <thead>\n",
       "    <tr style=\"text-align: right;\">\n",
       "      <th></th>\n",
       "      <th>visitorid</th>\n",
       "      <th>itemid</th>\n",
       "      <th>freq</th>\n",
       "      <th>day_of_week</th>\n",
       "      <th>Year</th>\n",
       "      <th>Month</th>\n",
       "      <th>Day</th>\n",
       "      <th>Hour</th>\n",
       "      <th>minute</th>\n",
       "    </tr>\n",
       "  </thead>\n",
       "  <tbody>\n",
       "    <tr>\n",
       "      <th>0</th>\n",
       "      <td>693516</td>\n",
       "      <td>297662</td>\n",
       "      <td>3</td>\n",
       "      <td>6</td>\n",
       "      <td>2015</td>\n",
       "      <td>5</td>\n",
       "      <td>3</td>\n",
       "      <td>3</td>\n",
       "      <td>0</td>\n",
       "    </tr>\n",
       "    <tr>\n",
       "      <th>1</th>\n",
       "      <td>829044</td>\n",
       "      <td>60987</td>\n",
       "      <td>1</td>\n",
       "      <td>6</td>\n",
       "      <td>2015</td>\n",
       "      <td>5</td>\n",
       "      <td>3</td>\n",
       "      <td>3</td>\n",
       "      <td>0</td>\n",
       "    </tr>\n",
       "    <tr>\n",
       "      <th>2</th>\n",
       "      <td>652699</td>\n",
       "      <td>252860</td>\n",
       "      <td>1</td>\n",
       "      <td>6</td>\n",
       "      <td>2015</td>\n",
       "      <td>5</td>\n",
       "      <td>3</td>\n",
       "      <td>3</td>\n",
       "      <td>0</td>\n",
       "    </tr>\n",
       "    <tr>\n",
       "      <th>3</th>\n",
       "      <td>1125936</td>\n",
       "      <td>33661</td>\n",
       "      <td>1</td>\n",
       "      <td>6</td>\n",
       "      <td>2015</td>\n",
       "      <td>5</td>\n",
       "      <td>3</td>\n",
       "      <td>3</td>\n",
       "      <td>0</td>\n",
       "    </tr>\n",
       "    <tr>\n",
       "      <th>4</th>\n",
       "      <td>693516</td>\n",
       "      <td>297662</td>\n",
       "      <td>3</td>\n",
       "      <td>6</td>\n",
       "      <td>2015</td>\n",
       "      <td>5</td>\n",
       "      <td>3</td>\n",
       "      <td>3</td>\n",
       "      <td>0</td>\n",
       "    </tr>\n",
       "  </tbody>\n",
       "</table>\n",
       "</div>"
      ],
      "text/plain": [
       "   visitorid  itemid  freq  day_of_week  Year  Month  Day  Hour  minute\n",
       "0     693516  297662     3            6  2015      5    3     3       0\n",
       "1     829044   60987     1            6  2015      5    3     3       0\n",
       "2     652699  252860     1            6  2015      5    3     3       0\n",
       "3    1125936   33661     1            6  2015      5    3     3       0\n",
       "4     693516  297662     3            6  2015      5    3     3       0"
      ]
     },
     "execution_count": 13,
     "metadata": {},
     "output_type": "execute_result"
    }
   ],
   "source": [
    "train.head()"
   ]
  },
  {
   "cell_type": "code",
   "execution_count": 14,
   "id": "f892fcd8-bc12-4d62-af39-33314b8c634a",
   "metadata": {},
   "outputs": [],
   "source": [
    "# Converting the dataframe into numpy format for further processing.\n",
    "train_np = train.to_numpy()\n",
    "test_np = test.to_numpy()"
   ]
  },
  {
   "cell_type": "code",
   "execution_count": 15,
   "id": "de30a0e5-8aab-413f-83ac-aa3fdb95ae71",
   "metadata": {},
   "outputs": [
    {
     "name": "stdout",
     "output_type": "stream",
     "text": [
      "(2151115, 9)\n",
      "(604986, 9)\n"
     ]
    }
   ],
   "source": [
    "print(train_np.shape)\n",
    "print(test_np.shape)"
   ]
  },
  {
   "cell_type": "code",
   "execution_count": null,
   "id": "9a54efd6-dc86-4891-9ea0-4a2ce7b3cb59",
   "metadata": {},
   "outputs": [],
   "source": [
    "# Finding the cosine distance of every record with every other record in the dataset.\n",
    "cosine_sim_train = cosine_similarity(train_np, train_np)\n",
    "cosine_sim_test = cosine_similarity(test_np, test_np)"
   ]
  },
  {
   "cell_type": "code",
   "execution_count": null,
   "id": "27974058-53ee-459f-b8c6-b2c747e5df1e",
   "metadata": {},
   "outputs": [],
   "source": [
    "# run out of memory\n",
    "# source: rai-harshit/music-recommendation-engine"
   ]
  }
 ],
 "metadata": {
  "kernelspec": {
   "display_name": "Python 3",
   "language": "python",
   "name": "python3"
  },
  "language_info": {
   "codemirror_mode": {
    "name": "ipython",
    "version": 3
   },
   "file_extension": ".py",
   "mimetype": "text/x-python",
   "name": "python",
   "nbconvert_exporter": "python",
   "pygments_lexer": "ipython3",
   "version": "3.8.8"
  }
 },
 "nbformat": 4,
 "nbformat_minor": 5
}
