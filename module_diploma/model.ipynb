{
 "cells": [
  {
   "cell_type": "code",
   "execution_count": 1,
   "id": "bf5edcf1-8bbc-4adc-b23d-5d3db1058096",
   "metadata": {},
   "outputs": [],
   "source": [
    "import pandas as pd\n",
    "import numpy as np\n",
    "from sklearn.model_selection import train_test_split"
   ]
  },
  {
   "cell_type": "code",
   "execution_count": 2,
   "id": "ae530c0d-acd1-45fa-9df1-c439525dc645",
   "metadata": {},
   "outputs": [],
   "source": [
    "events = pd.read_csv('events.csv')"
   ]
  },
  {
   "cell_type": "code",
   "execution_count": 3,
   "id": "4bb97939",
   "metadata": {},
   "outputs": [],
   "source": [
    "events.sort_values(by=['timestamp'], ignore_index=True, inplace=True)\n",
    "events.drop(['timestamp', 'event', 'transactionid'], axis=1, inplace=True)"
   ]
  },
  {
   "cell_type": "code",
   "execution_count": 4,
   "id": "834aadd8-427a-4e18-884f-7851126eebe7",
   "metadata": {},
   "outputs": [
    {
     "data": {
      "text/html": [
       "<div>\n",
       "<style scoped>\n",
       "    .dataframe tbody tr th:only-of-type {\n",
       "        vertical-align: middle;\n",
       "    }\n",
       "\n",
       "    .dataframe tbody tr th {\n",
       "        vertical-align: top;\n",
       "    }\n",
       "\n",
       "    .dataframe thead th {\n",
       "        text-align: right;\n",
       "    }\n",
       "</style>\n",
       "<table border=\"1\" class=\"dataframe\">\n",
       "  <thead>\n",
       "    <tr style=\"text-align: right;\">\n",
       "      <th></th>\n",
       "      <th>visitorid</th>\n",
       "      <th>itemid</th>\n",
       "    </tr>\n",
       "  </thead>\n",
       "  <tbody>\n",
       "    <tr>\n",
       "      <th>0</th>\n",
       "      <td>693516</td>\n",
       "      <td>297662</td>\n",
       "    </tr>\n",
       "    <tr>\n",
       "      <th>1</th>\n",
       "      <td>829044</td>\n",
       "      <td>60987</td>\n",
       "    </tr>\n",
       "    <tr>\n",
       "      <th>2</th>\n",
       "      <td>652699</td>\n",
       "      <td>252860</td>\n",
       "    </tr>\n",
       "    <tr>\n",
       "      <th>3</th>\n",
       "      <td>1125936</td>\n",
       "      <td>33661</td>\n",
       "    </tr>\n",
       "    <tr>\n",
       "      <th>4</th>\n",
       "      <td>693516</td>\n",
       "      <td>297662</td>\n",
       "    </tr>\n",
       "  </tbody>\n",
       "</table>\n",
       "</div>"
      ],
      "text/plain": [
       "   visitorid  itemid\n",
       "0     693516  297662\n",
       "1     829044   60987\n",
       "2     652699  252860\n",
       "3    1125936   33661\n",
       "4     693516  297662"
      ]
     },
     "execution_count": 4,
     "metadata": {},
     "output_type": "execute_result"
    }
   ],
   "source": [
    "events.head()"
   ]
  },
  {
   "cell_type": "code",
   "execution_count": 5,
   "id": "e2ef8cc4-81fc-43a9-b927-acd29684a76e",
   "metadata": {},
   "outputs": [],
   "source": [
    "train, test = train_test_split(events, test_size=0.2, shuffle=False)"
   ]
  },
  {
   "cell_type": "code",
   "execution_count": 6,
   "id": "39d133e8",
   "metadata": {},
   "outputs": [
    {
     "data": {
      "text/plain": [
       "[5411, 461686, 187946]"
      ]
     },
     "execution_count": 6,
     "metadata": {},
     "output_type": "execute_result"
    }
   ],
   "source": [
    "top3 = list(train.itemid.value_counts()[:3].index)\n",
    "top3"
   ]
  },
  {
   "cell_type": "code",
   "execution_count": 7,
   "id": "184ad838",
   "metadata": {},
   "outputs": [
    {
     "name": "stderr",
     "output_type": "stream",
     "text": [
      "<ipython-input-7-680f14f028df>:2: SettingWithCopyWarning: \n",
      "A value is trying to be set on a copy of a slice from a DataFrame.\n",
      "Try using .loc[row_indexer,col_indexer] = value instead\n",
      "\n",
      "See the caveats in the documentation: https://pandas.pydata.org/pandas-docs/stable/user_guide/indexing.html#returning-a-view-versus-a-copy\n",
      "  train['first'] = train.groupby('visitorid')['itemid'].transform(lambda s: s.value_counts().index[0])\n",
      "<ipython-input-7-680f14f028df>:3: SettingWithCopyWarning: \n",
      "A value is trying to be set on a copy of a slice from a DataFrame.\n",
      "Try using .loc[row_indexer,col_indexer] = value instead\n",
      "\n",
      "See the caveats in the documentation: https://pandas.pydata.org/pandas-docs/stable/user_guide/indexing.html#returning-a-view-versus-a-copy\n",
      "  train['second'] = train.groupby('visitorid')['itemid'].transform(lambda s: s.value_counts().index[1] if len(s.value_counts())>1 else np.nan)\n",
      "<ipython-input-7-680f14f028df>:4: SettingWithCopyWarning: \n",
      "A value is trying to be set on a copy of a slice from a DataFrame.\n",
      "Try using .loc[row_indexer,col_indexer] = value instead\n",
      "\n",
      "See the caveats in the documentation: https://pandas.pydata.org/pandas-docs/stable/user_guide/indexing.html#returning-a-view-versus-a-copy\n",
      "  train['third'] = train.groupby('visitorid')['itemid'].transform(lambda s: s.value_counts().index[2] if len(s.value_counts())>2 else np.nan)\n"
     ]
    }
   ],
   "source": [
    "# 20 mins\n",
    "train['first'] = train.groupby('visitorid')['itemid'].transform(lambda s: s.value_counts().index[0])\n",
    "train['second'] = train.groupby('visitorid')['itemid'].transform(lambda s: s.value_counts().index[1] if len(s.value_counts())>1 else np.nan)\n",
    "train['third'] = train.groupby('visitorid')['itemid'].transform(lambda s: s.value_counts().index[2] if len(s.value_counts())>2 else np.nan)"
   ]
  },
  {
   "cell_type": "code",
   "execution_count": 8,
   "id": "51b71875",
   "metadata": {},
   "outputs": [],
   "source": [
    "# Create a dict of visitors wih values of 'first', 'second', 'third' columns and save it to the file 'visitors.csv'\n",
    "visitors = train.groupby('visitorid').agg({'first': 'first', 'second': 'first', 'third': 'first'}).reset_index()\n",
    "visitors['items_list'] = visitors[['first', 'second', 'third']].values.tolist()\n",
    "# Count number of zeros in each row and save it to the column 'cold_start_count'\n",
    "visitors['cold_start_count'] = visitors.apply(lambda row: sum(row.isnull()), axis=1)\n",
    "visitors.to_csv('visitors.csv', index=False)"
   ]
  },
  {
   "cell_type": "code",
   "execution_count": 9,
   "id": "76a731a1",
   "metadata": {},
   "outputs": [],
   "source": [
    "visitors = pd.read_csv('visitors.csv')"
   ]
  },
  {
   "cell_type": "code",
   "execution_count": 10,
   "id": "6680b5f0",
   "metadata": {},
   "outputs": [
    {
     "data": {
      "text/html": [
       "<div>\n",
       "<style scoped>\n",
       "    .dataframe tbody tr th:only-of-type {\n",
       "        vertical-align: middle;\n",
       "    }\n",
       "\n",
       "    .dataframe tbody tr th {\n",
       "        vertical-align: top;\n",
       "    }\n",
       "\n",
       "    .dataframe thead th {\n",
       "        text-align: right;\n",
       "    }\n",
       "</style>\n",
       "<table border=\"1\" class=\"dataframe\">\n",
       "  <thead>\n",
       "    <tr style=\"text-align: right;\">\n",
       "      <th></th>\n",
       "      <th>visitorid</th>\n",
       "      <th>first</th>\n",
       "      <th>second</th>\n",
       "      <th>third</th>\n",
       "      <th>items_list</th>\n",
       "      <th>cold_start_count</th>\n",
       "    </tr>\n",
       "  </thead>\n",
       "  <tbody>\n",
       "    <tr>\n",
       "      <th>0</th>\n",
       "      <td>1</td>\n",
       "      <td>72028</td>\n",
       "      <td>NaN</td>\n",
       "      <td>NaN</td>\n",
       "      <td>[72028.0, nan, nan]</td>\n",
       "      <td>2</td>\n",
       "    </tr>\n",
       "    <tr>\n",
       "      <th>1</th>\n",
       "      <td>2</td>\n",
       "      <td>325215</td>\n",
       "      <td>342816.0</td>\n",
       "      <td>216305.0</td>\n",
       "      <td>[325215.0, 342816.0, 216305.0]</td>\n",
       "      <td>0</td>\n",
       "    </tr>\n",
       "    <tr>\n",
       "      <th>2</th>\n",
       "      <td>3</td>\n",
       "      <td>385090</td>\n",
       "      <td>NaN</td>\n",
       "      <td>NaN</td>\n",
       "      <td>[385090.0, nan, nan]</td>\n",
       "      <td>2</td>\n",
       "    </tr>\n",
       "    <tr>\n",
       "      <th>3</th>\n",
       "      <td>5</td>\n",
       "      <td>61396</td>\n",
       "      <td>NaN</td>\n",
       "      <td>NaN</td>\n",
       "      <td>[61396.0, nan, nan]</td>\n",
       "      <td>2</td>\n",
       "    </tr>\n",
       "    <tr>\n",
       "      <th>4</th>\n",
       "      <td>7</td>\n",
       "      <td>226353</td>\n",
       "      <td>164941.0</td>\n",
       "      <td>139394.0</td>\n",
       "      <td>[226353.0, 164941.0, 139394.0]</td>\n",
       "      <td>0</td>\n",
       "    </tr>\n",
       "  </tbody>\n",
       "</table>\n",
       "</div>"
      ],
      "text/plain": [
       "   visitorid   first    second     third                      items_list  \\\n",
       "0          1   72028       NaN       NaN             [72028.0, nan, nan]   \n",
       "1          2  325215  342816.0  216305.0  [325215.0, 342816.0, 216305.0]   \n",
       "2          3  385090       NaN       NaN            [385090.0, nan, nan]   \n",
       "3          5   61396       NaN       NaN             [61396.0, nan, nan]   \n",
       "4          7  226353  164941.0  139394.0  [226353.0, 164941.0, 139394.0]   \n",
       "\n",
       "   cold_start_count  \n",
       "0                 2  \n",
       "1                 0  \n",
       "2                 2  \n",
       "3                 2  \n",
       "4                 0  "
      ]
     },
     "execution_count": 10,
     "metadata": {},
     "output_type": "execute_result"
    }
   ],
   "source": [
    "visitors.head()"
   ]
  },
  {
   "cell_type": "code",
   "execution_count": 11,
   "id": "114be983",
   "metadata": {},
   "outputs": [
    {
     "name": "stdout",
     "output_type": "stream",
     "text": [
      "<class 'pandas.core.frame.DataFrame'>\n",
      "Int64Index: 551221 entries, 2204880 to 2756100\n",
      "Data columns (total 2 columns):\n",
      " #   Column     Non-Null Count   Dtype\n",
      "---  ------     --------------   -----\n",
      " 0   visitorid  551221 non-null  int64\n",
      " 1   itemid     551221 non-null  int64\n",
      "dtypes: int64(2)\n",
      "memory usage: 12.6 MB\n"
     ]
    }
   ],
   "source": [
    "test.info()"
   ]
  },
  {
   "cell_type": "code",
   "execution_count": 12,
   "id": "d9c4a2c0",
   "metadata": {},
   "outputs": [
    {
     "data": {
      "text/html": [
       "<div>\n",
       "<style scoped>\n",
       "    .dataframe tbody tr th:only-of-type {\n",
       "        vertical-align: middle;\n",
       "    }\n",
       "\n",
       "    .dataframe tbody tr th {\n",
       "        vertical-align: top;\n",
       "    }\n",
       "\n",
       "    .dataframe thead th {\n",
       "        text-align: right;\n",
       "    }\n",
       "</style>\n",
       "<table border=\"1\" class=\"dataframe\">\n",
       "  <thead>\n",
       "    <tr style=\"text-align: right;\">\n",
       "      <th></th>\n",
       "      <th>visitorid</th>\n",
       "      <th>itemid</th>\n",
       "      <th>first</th>\n",
       "      <th>second</th>\n",
       "      <th>third</th>\n",
       "      <th>items_list</th>\n",
       "      <th>cold_start_count</th>\n",
       "    </tr>\n",
       "  </thead>\n",
       "  <tbody>\n",
       "    <tr>\n",
       "      <th>0</th>\n",
       "      <td>526699</td>\n",
       "      <td>304858</td>\n",
       "      <td>12040.0</td>\n",
       "      <td>214029.0</td>\n",
       "      <td>359491.0</td>\n",
       "      <td>[12040.0, 214029.0, 359491.0]</td>\n",
       "      <td>0.0</td>\n",
       "    </tr>\n",
       "    <tr>\n",
       "      <th>1</th>\n",
       "      <td>384670</td>\n",
       "      <td>419836</td>\n",
       "      <td>NaN</td>\n",
       "      <td>NaN</td>\n",
       "      <td>NaN</td>\n",
       "      <td>NaN</td>\n",
       "      <td>NaN</td>\n",
       "    </tr>\n",
       "    <tr>\n",
       "      <th>2</th>\n",
       "      <td>1166298</td>\n",
       "      <td>375066</td>\n",
       "      <td>386701.0</td>\n",
       "      <td>375066.0</td>\n",
       "      <td>51483.0</td>\n",
       "      <td>[386701.0, 375066.0, 51483.0]</td>\n",
       "      <td>0.0</td>\n",
       "    </tr>\n",
       "    <tr>\n",
       "      <th>3</th>\n",
       "      <td>531293</td>\n",
       "      <td>48030</td>\n",
       "      <td>NaN</td>\n",
       "      <td>NaN</td>\n",
       "      <td>NaN</td>\n",
       "      <td>NaN</td>\n",
       "      <td>NaN</td>\n",
       "    </tr>\n",
       "    <tr>\n",
       "      <th>4</th>\n",
       "      <td>86098</td>\n",
       "      <td>231243</td>\n",
       "      <td>NaN</td>\n",
       "      <td>NaN</td>\n",
       "      <td>NaN</td>\n",
       "      <td>NaN</td>\n",
       "      <td>NaN</td>\n",
       "    </tr>\n",
       "  </tbody>\n",
       "</table>\n",
       "</div>"
      ],
      "text/plain": [
       "   visitorid  itemid     first    second     third  \\\n",
       "0     526699  304858   12040.0  214029.0  359491.0   \n",
       "1     384670  419836       NaN       NaN       NaN   \n",
       "2    1166298  375066  386701.0  375066.0   51483.0   \n",
       "3     531293   48030       NaN       NaN       NaN   \n",
       "4      86098  231243       NaN       NaN       NaN   \n",
       "\n",
       "                      items_list  cold_start_count  \n",
       "0  [12040.0, 214029.0, 359491.0]               0.0  \n",
       "1                            NaN               NaN  \n",
       "2  [386701.0, 375066.0, 51483.0]               0.0  \n",
       "3                            NaN               NaN  \n",
       "4                            NaN               NaN  "
      ]
     },
     "execution_count": 12,
     "metadata": {},
     "output_type": "execute_result"
    }
   ],
   "source": [
    "# Create columns 'first', 'second', 'third' for test data by merging visitors data with test data\n",
    "test = pd.merge(test, visitors, on='visitorid', how='left')\n",
    "test.head()"
   ]
  },
  {
   "cell_type": "code",
   "execution_count": 19,
   "id": "3854d125",
   "metadata": {},
   "outputs": [],
   "source": [
    "# Count Nans in each row and save it to the column 'nans'\n",
    "test['cold_start_count'] = test.apply(lambda row: sum(row[['first', 'second', 'third']].isnull()), axis=1)\n",
    "\n",
    "# Replace Nans in rows with top3[0] if there is 1 Nan in the row\n",
    "test.loc[test['cold_start_count'] == 1, 'third'] = top3[0]\n",
    "# Replace Nans in rows with top3[0] and top3[1] if there are 2 Nans in the row\n",
    "test.loc[test['cold_start_count'] == 2, 'second'] = top3[0]\n",
    "test.loc[test['cold_start_count'] == 2, 'third'] = top3[1]\n",
    "# Relace Nans in rows with top3[0], top3[1] and top3[2] if there are 3 Nans in the row\n",
    "test.loc[test['cold_start_count'] == 3, 'first'] = top3[0]\n",
    "test.loc[test['cold_start_count'] == 3, 'second'] = top3[1]\n",
    "test.loc[test['cold_start_count'] == 3, 'third'] = top3[2]"
   ]
  },
  {
   "cell_type": "code",
   "execution_count": 20,
   "id": "82e592c5",
   "metadata": {},
   "outputs": [],
   "source": [
    "# Create 'pred' column by Merge 'firsd', 'second', 'third' columns into list\n",
    "test['pred'] = test[['first', 'second', 'third']].values.tolist()"
   ]
  },
  {
   "cell_type": "code",
   "execution_count": 21,
   "id": "abaa98e0",
   "metadata": {},
   "outputs": [
    {
     "data": {
      "text/html": [
       "<div>\n",
       "<style scoped>\n",
       "    .dataframe tbody tr th:only-of-type {\n",
       "        vertical-align: middle;\n",
       "    }\n",
       "\n",
       "    .dataframe tbody tr th {\n",
       "        vertical-align: top;\n",
       "    }\n",
       "\n",
       "    .dataframe thead th {\n",
       "        text-align: right;\n",
       "    }\n",
       "</style>\n",
       "<table border=\"1\" class=\"dataframe\">\n",
       "  <thead>\n",
       "    <tr style=\"text-align: right;\">\n",
       "      <th></th>\n",
       "      <th>visitorid</th>\n",
       "      <th>itemid</th>\n",
       "      <th>first</th>\n",
       "      <th>second</th>\n",
       "      <th>third</th>\n",
       "      <th>items_list</th>\n",
       "      <th>cold_start_count</th>\n",
       "      <th>pred</th>\n",
       "      <th>is_true</th>\n",
       "    </tr>\n",
       "  </thead>\n",
       "  <tbody>\n",
       "    <tr>\n",
       "      <th>0</th>\n",
       "      <td>526699</td>\n",
       "      <td>304858</td>\n",
       "      <td>12040.0</td>\n",
       "      <td>214029.0</td>\n",
       "      <td>359491.0</td>\n",
       "      <td>[12040.0, 214029.0, 359491.0]</td>\n",
       "      <td>0</td>\n",
       "      <td>[12040.0, 214029.0, 359491.0]</td>\n",
       "      <td>False</td>\n",
       "    </tr>\n",
       "    <tr>\n",
       "      <th>1</th>\n",
       "      <td>384670</td>\n",
       "      <td>419836</td>\n",
       "      <td>5411.0</td>\n",
       "      <td>461686.0</td>\n",
       "      <td>187946.0</td>\n",
       "      <td>NaN</td>\n",
       "      <td>3</td>\n",
       "      <td>[5411.0, 461686.0, 187946.0]</td>\n",
       "      <td>False</td>\n",
       "    </tr>\n",
       "    <tr>\n",
       "      <th>2</th>\n",
       "      <td>1166298</td>\n",
       "      <td>375066</td>\n",
       "      <td>386701.0</td>\n",
       "      <td>375066.0</td>\n",
       "      <td>51483.0</td>\n",
       "      <td>[386701.0, 375066.0, 51483.0]</td>\n",
       "      <td>0</td>\n",
       "      <td>[386701.0, 375066.0, 51483.0]</td>\n",
       "      <td>True</td>\n",
       "    </tr>\n",
       "    <tr>\n",
       "      <th>3</th>\n",
       "      <td>531293</td>\n",
       "      <td>48030</td>\n",
       "      <td>5411.0</td>\n",
       "      <td>461686.0</td>\n",
       "      <td>187946.0</td>\n",
       "      <td>NaN</td>\n",
       "      <td>3</td>\n",
       "      <td>[5411.0, 461686.0, 187946.0]</td>\n",
       "      <td>False</td>\n",
       "    </tr>\n",
       "    <tr>\n",
       "      <th>4</th>\n",
       "      <td>86098</td>\n",
       "      <td>231243</td>\n",
       "      <td>5411.0</td>\n",
       "      <td>461686.0</td>\n",
       "      <td>187946.0</td>\n",
       "      <td>NaN</td>\n",
       "      <td>3</td>\n",
       "      <td>[5411.0, 461686.0, 187946.0]</td>\n",
       "      <td>False</td>\n",
       "    </tr>\n",
       "  </tbody>\n",
       "</table>\n",
       "</div>"
      ],
      "text/plain": [
       "   visitorid  itemid     first    second     third  \\\n",
       "0     526699  304858   12040.0  214029.0  359491.0   \n",
       "1     384670  419836    5411.0  461686.0  187946.0   \n",
       "2    1166298  375066  386701.0  375066.0   51483.0   \n",
       "3     531293   48030    5411.0  461686.0  187946.0   \n",
       "4      86098  231243    5411.0  461686.0  187946.0   \n",
       "\n",
       "                      items_list  cold_start_count  \\\n",
       "0  [12040.0, 214029.0, 359491.0]                 0   \n",
       "1                            NaN                 3   \n",
       "2  [386701.0, 375066.0, 51483.0]                 0   \n",
       "3                            NaN                 3   \n",
       "4                            NaN                 3   \n",
       "\n",
       "                            pred  is_true  \n",
       "0  [12040.0, 214029.0, 359491.0]    False  \n",
       "1   [5411.0, 461686.0, 187946.0]    False  \n",
       "2  [386701.0, 375066.0, 51483.0]     True  \n",
       "3   [5411.0, 461686.0, 187946.0]    False  \n",
       "4   [5411.0, 461686.0, 187946.0]    False  "
      ]
     },
     "execution_count": 21,
     "metadata": {},
     "output_type": "execute_result"
    }
   ],
   "source": [
    "test.head()"
   ]
  },
  {
   "cell_type": "code",
   "execution_count": 22,
   "id": "712fe7b5",
   "metadata": {},
   "outputs": [],
   "source": [
    "# Create 'is_true' column by comparing 'pred' column with 'itemid' column\n",
    "test['is_true'] = test.apply(lambda row: row['itemid'] in row['pred'], axis=1)\n",
    "results = test.is_true.value_counts()"
   ]
  },
  {
   "cell_type": "code",
   "execution_count": 23,
   "id": "42778dcc",
   "metadata": {},
   "outputs": [
    {
     "name": "stdout",
     "output_type": "stream",
     "text": [
      "Metric: 2.26%\n"
     ]
    }
   ],
   "source": [
    "# Precision@3 is Relevant Items / Viewed Items\n",
    "metric = results[1] / (results[0] + results[1])\n",
    "print(f'Metric: {metric:.2%}')"
   ]
  },
  {
   "cell_type": "code",
   "execution_count": null,
   "id": "2af65cf2",
   "metadata": {},
   "outputs": [],
   "source": []
  },
  {
   "cell_type": "code",
   "execution_count": 104,
   "id": "b354ce15",
   "metadata": {},
   "outputs": [],
   "source": [
    "def show_recs(visitorid):\n",
    "    visitors = pd.read_csv('visitors.csv')\n",
    "    top3 = [5411, 461686, 187946]\n",
    "    print(f'Top 3 recommendations for visitor {visitorid} are:')\n",
    "\n",
    "    if visitorid not in visitors.visitorid.values:\n",
    "        first, second, third = top3[0], top3[1], top3[2]\n",
    "        return first, second, third\n",
    "    else:\n",
    "        # Get the row with visitorid\n",
    "        row = visitors[visitors.visitorid == visitorid]\n",
    "        # Get the list of items from the row\n",
    "        items_list = []\n",
    "        try:\n",
    "            items_list.append(int(row['first'].values))\n",
    "        except:\n",
    "            items_list.append(np.nan)\n",
    "        try:\n",
    "            items_list.append(int(row['second'].values))\n",
    "        except:\n",
    "            items_list.append(np.nan)\n",
    "        try:\n",
    "            items_list.append(int(row['third'].values))\n",
    "        except:\n",
    "            items_list.append(np.nan)\n",
    "        # Get the number of Nans in the item_list\n",
    "        cold_start_count = row.cold_start_count.values[0]\n",
    "        # If there is 1 Nan in the row, replace it with top3[0]\n",
    "        if cold_start_count == 1:\n",
    "            items_list[2] = top3[0]\n",
    "            first, second, third = items_list[0], items_list[1], items_list[2]\n",
    "            return first, second, third\n",
    "        # If there are 2 Nans in the row, replace it with top3[0] and top3[1]\n",
    "        elif cold_start_count == 2:\n",
    "            items_list[1] = top3[0]\n",
    "            items_list[2] = top3[1]\n",
    "            first, second, third = items_list[0], items_list[1], items_list[2]\n",
    "            return first, second, third\n",
    "        # If there are 3 Nans in the row, replace it with top3[0], top3[1] and top3[2]\n",
    "        elif cold_start_count == 3:\n",
    "            items_list[0] = top3[0]\n",
    "            items_list[1] = top3[1]\n",
    "            items_list[2] = top3[2]\n",
    "            first, second, third = items_list[0], items_list[1], items_list[2]\n",
    "            return first, second, third\n",
    "        else:\n",
    "            first, second, third = items_list[0], items_list[1], items_list[2]\n",
    "            return first, second, third\n",
    "        "
   ]
  },
  {
   "cell_type": "code",
   "execution_count": 110,
   "id": "43822039",
   "metadata": {},
   "outputs": [
    {
     "name": "stdout",
     "output_type": "stream",
     "text": [
      "Top 3 recommendations for visitor 1166298 are:\n",
      "386701 375066 51483\n"
     ]
    }
   ],
   "source": [
    "ans1, ans2, asn3 = show_recs(1166298)\n",
    "print(ans1, ans2, asn3)\n"
   ]
  },
  {
   "cell_type": "code",
   "execution_count": null,
   "id": "655cd4e9",
   "metadata": {},
   "outputs": [],
   "source": []
  }
 ],
 "metadata": {
  "kernelspec": {
   "display_name": "Python 3.8.8 ('base')",
   "language": "python",
   "name": "python3"
  },
  "language_info": {
   "codemirror_mode": {
    "name": "ipython",
    "version": 3
   },
   "file_extension": ".py",
   "mimetype": "text/x-python",
   "name": "python",
   "nbconvert_exporter": "python",
   "pygments_lexer": "ipython3",
   "version": "3.8.8"
  },
  "vscode": {
   "interpreter": {
    "hash": "701d4f28dcd0866722f5108a3a4cbcd08882d26398b6d44117e791d7b8102912"
   }
  }
 },
 "nbformat": 4,
 "nbformat_minor": 5
}
