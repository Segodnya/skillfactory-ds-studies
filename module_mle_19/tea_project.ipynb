{
  "cells": [
    {
      "cell_type": "markdown",
      "id": "57f1f716-bc26-4cd4-8002-d52a7e30dff7",
      "metadata": {
        "id": "57f1f716-bc26-4cd4-8002-d52a7e30dff7"
      },
      "source": [
        "# ЧАЙНЫЙ ПРОЕКТ\n",
        "\n",
        "Оценить, есть ли влияние от рекламы чая «Ахмад» в передаче «Что? Где? Когда?» на его продажи.\n",
        "\n",
        "lipton — 29;\n",
        "ahmad — 178; \n",
        "may — 5152.\n",
        "\n",
        "## Критерии:\n",
        "* 2 балла\n",
        "\n",
        "Произведён парсинг данных о датах проведения передачи «Что? Где? Когда?»\n",
        "* 4 балла\n",
        "\n",
        "Построена модель, предсказывающая значение временного ряда продаж. Показано, что нет положительного misprediction.\n",
        "* 2 балла\n",
        "\n",
        "Построен boxplot, указано, что нет аномалии роста продаж после передачи.\n",
        "* 2 балла\n",
        "\n",
        "Сделана попытка кластеризации точек продаж (по всем трём вендорам)."
      ]
    },
    {
      "cell_type": "code",
      "execution_count": 1,
      "id": "11159ef8-443e-42e0-a897-7e0f456cc30e",
      "metadata": {
        "colab": {
          "base_uri": "https://localhost:8080/"
        },
        "id": "11159ef8-443e-42e0-a897-7e0f456cc30e",
        "outputId": "2b46fabf-c7ed-4c9e-8d74-b095b0d1f16b"
      },
      "outputs": [
        {
          "output_type": "stream",
          "name": "stdout",
          "text": [
            "Mounted at /content/drive\n"
          ]
        }
      ],
      "source": [
        "import pandas as pd\n",
        "import numpy as np\n",
        "from scipy import stats\n",
        "from fbprophet import Prophet\n",
        "from sklearn.cluster import DBSCAN\n",
        "\n",
        "from matplotlib.cbook import boxplot_stats  \n",
        "\n",
        "RANDOM_SEED = 42\n",
        "np.random.seed(RANDOM_SEED)\n",
        "\n",
        "from google.colab import drive\n",
        "drive.mount('/content/drive', force_remount=True)\n",
        "DIR_DATA = './drive/MyDrive/Stud/SkillFactory/case_tea/'"
      ]
    },
    {
      "cell_type": "code",
      "execution_count": 2,
      "id": "f318f5e6-5d3e-49be-b9c4-a76b6cd5202c",
      "metadata": {
        "id": "f318f5e6-5d3e-49be-b9c4-a76b6cd5202c"
      },
      "outputs": [],
      "source": [
        "data = pd.read_csv(DIR_DATA+'tea_demand.csv', sep='\\t')\n",
        "data['date'] = pd.to_datetime(data['date'])\n",
        "\n",
        "# show is on sunday (dayofweek=6), after that comes monday (dayofweek=0)\n",
        "# shows was on 28.10.16, 04.11.2016, 11.11.2016, 18.11.2016, 26.11.2016\n",
        "# http://www.gametv.az/ru/allnews/report/page/19.html"
      ]
    },
    {
      "cell_type": "code",
      "execution_count": 3,
      "id": "7fae15c8-2f60-4eb9-a324-b6dd8c861953",
      "metadata": {
        "id": "7fae15c8-2f60-4eb9-a324-b6dd8c861953",
        "outputId": "8d51a75a-2b4e-4a8a-d779-661a720fd11b",
        "colab": {
          "base_uri": "https://localhost:8080/",
          "height": 206
        }
      },
      "outputs": [
        {
          "output_type": "execute_result",
          "data": {
            "text/plain": [
              "   brand_id       date  receipts_count\n",
              "0      5152 2016-07-01              98\n",
              "1       178 2016-07-01             234\n",
              "2        29 2016-07-01             622\n",
              "3      5152 2016-07-02              87\n",
              "4       178 2016-07-02             185"
            ],
            "text/html": [
              "\n",
              "  <div id=\"df-377f2502-e6fb-4c9a-8e9a-188a993e542f\">\n",
              "    <div class=\"colab-df-container\">\n",
              "      <div>\n",
              "<style scoped>\n",
              "    .dataframe tbody tr th:only-of-type {\n",
              "        vertical-align: middle;\n",
              "    }\n",
              "\n",
              "    .dataframe tbody tr th {\n",
              "        vertical-align: top;\n",
              "    }\n",
              "\n",
              "    .dataframe thead th {\n",
              "        text-align: right;\n",
              "    }\n",
              "</style>\n",
              "<table border=\"1\" class=\"dataframe\">\n",
              "  <thead>\n",
              "    <tr style=\"text-align: right;\">\n",
              "      <th></th>\n",
              "      <th>brand_id</th>\n",
              "      <th>date</th>\n",
              "      <th>receipts_count</th>\n",
              "    </tr>\n",
              "  </thead>\n",
              "  <tbody>\n",
              "    <tr>\n",
              "      <th>0</th>\n",
              "      <td>5152</td>\n",
              "      <td>2016-07-01</td>\n",
              "      <td>98</td>\n",
              "    </tr>\n",
              "    <tr>\n",
              "      <th>1</th>\n",
              "      <td>178</td>\n",
              "      <td>2016-07-01</td>\n",
              "      <td>234</td>\n",
              "    </tr>\n",
              "    <tr>\n",
              "      <th>2</th>\n",
              "      <td>29</td>\n",
              "      <td>2016-07-01</td>\n",
              "      <td>622</td>\n",
              "    </tr>\n",
              "    <tr>\n",
              "      <th>3</th>\n",
              "      <td>5152</td>\n",
              "      <td>2016-07-02</td>\n",
              "      <td>87</td>\n",
              "    </tr>\n",
              "    <tr>\n",
              "      <th>4</th>\n",
              "      <td>178</td>\n",
              "      <td>2016-07-02</td>\n",
              "      <td>185</td>\n",
              "    </tr>\n",
              "  </tbody>\n",
              "</table>\n",
              "</div>\n",
              "      <button class=\"colab-df-convert\" onclick=\"convertToInteractive('df-377f2502-e6fb-4c9a-8e9a-188a993e542f')\"\n",
              "              title=\"Convert this dataframe to an interactive table.\"\n",
              "              style=\"display:none;\">\n",
              "        \n",
              "  <svg xmlns=\"http://www.w3.org/2000/svg\" height=\"24px\"viewBox=\"0 0 24 24\"\n",
              "       width=\"24px\">\n",
              "    <path d=\"M0 0h24v24H0V0z\" fill=\"none\"/>\n",
              "    <path d=\"M18.56 5.44l.94 2.06.94-2.06 2.06-.94-2.06-.94-.94-2.06-.94 2.06-2.06.94zm-11 1L8.5 8.5l.94-2.06 2.06-.94-2.06-.94L8.5 2.5l-.94 2.06-2.06.94zm10 10l.94 2.06.94-2.06 2.06-.94-2.06-.94-.94-2.06-.94 2.06-2.06.94z\"/><path d=\"M17.41 7.96l-1.37-1.37c-.4-.4-.92-.59-1.43-.59-.52 0-1.04.2-1.43.59L10.3 9.45l-7.72 7.72c-.78.78-.78 2.05 0 2.83L4 21.41c.39.39.9.59 1.41.59.51 0 1.02-.2 1.41-.59l7.78-7.78 2.81-2.81c.8-.78.8-2.07 0-2.86zM5.41 20L4 18.59l7.72-7.72 1.47 1.35L5.41 20z\"/>\n",
              "  </svg>\n",
              "      </button>\n",
              "      \n",
              "  <style>\n",
              "    .colab-df-container {\n",
              "      display:flex;\n",
              "      flex-wrap:wrap;\n",
              "      gap: 12px;\n",
              "    }\n",
              "\n",
              "    .colab-df-convert {\n",
              "      background-color: #E8F0FE;\n",
              "      border: none;\n",
              "      border-radius: 50%;\n",
              "      cursor: pointer;\n",
              "      display: none;\n",
              "      fill: #1967D2;\n",
              "      height: 32px;\n",
              "      padding: 0 0 0 0;\n",
              "      width: 32px;\n",
              "    }\n",
              "\n",
              "    .colab-df-convert:hover {\n",
              "      background-color: #E2EBFA;\n",
              "      box-shadow: 0px 1px 2px rgba(60, 64, 67, 0.3), 0px 1px 3px 1px rgba(60, 64, 67, 0.15);\n",
              "      fill: #174EA6;\n",
              "    }\n",
              "\n",
              "    [theme=dark] .colab-df-convert {\n",
              "      background-color: #3B4455;\n",
              "      fill: #D2E3FC;\n",
              "    }\n",
              "\n",
              "    [theme=dark] .colab-df-convert:hover {\n",
              "      background-color: #434B5C;\n",
              "      box-shadow: 0px 1px 3px 1px rgba(0, 0, 0, 0.15);\n",
              "      filter: drop-shadow(0px 1px 2px rgba(0, 0, 0, 0.3));\n",
              "      fill: #FFFFFF;\n",
              "    }\n",
              "  </style>\n",
              "\n",
              "      <script>\n",
              "        const buttonEl =\n",
              "          document.querySelector('#df-377f2502-e6fb-4c9a-8e9a-188a993e542f button.colab-df-convert');\n",
              "        buttonEl.style.display =\n",
              "          google.colab.kernel.accessAllowed ? 'block' : 'none';\n",
              "\n",
              "        async function convertToInteractive(key) {\n",
              "          const element = document.querySelector('#df-377f2502-e6fb-4c9a-8e9a-188a993e542f');\n",
              "          const dataTable =\n",
              "            await google.colab.kernel.invokeFunction('convertToInteractive',\n",
              "                                                     [key], {});\n",
              "          if (!dataTable) return;\n",
              "\n",
              "          const docLinkHtml = 'Like what you see? Visit the ' +\n",
              "            '<a target=\"_blank\" href=https://colab.research.google.com/notebooks/data_table.ipynb>data table notebook</a>'\n",
              "            + ' to learn more about interactive tables.';\n",
              "          element.innerHTML = '';\n",
              "          dataTable['output_type'] = 'display_data';\n",
              "          await google.colab.output.renderOutput(dataTable, element);\n",
              "          const docLink = document.createElement('div');\n",
              "          docLink.innerHTML = docLinkHtml;\n",
              "          element.appendChild(docLink);\n",
              "        }\n",
              "      </script>\n",
              "    </div>\n",
              "  </div>\n",
              "  "
            ]
          },
          "metadata": {},
          "execution_count": 3
        }
      ],
      "source": [
        "data.head()"
      ]
    },
    {
      "cell_type": "code",
      "execution_count": 4,
      "id": "c9e50d7a-94d2-40c6-891a-933e1bce073f",
      "metadata": {
        "colab": {
          "base_uri": "https://localhost:8080/"
        },
        "id": "c9e50d7a-94d2-40c6-891a-933e1bce073f",
        "outputId": "3846b977-ac0c-4034-ec5b-5139cf86ea4d"
      },
      "outputs": [
        {
          "output_type": "stream",
          "name": "stdout",
          "text": [
            "<class 'pandas.core.frame.DataFrame'>\n",
            "RangeIndex: 459 entries, 0 to 458\n",
            "Data columns (total 3 columns):\n",
            " #   Column          Non-Null Count  Dtype         \n",
            "---  ------          --------------  -----         \n",
            " 0   brand_id        459 non-null    int64         \n",
            " 1   date            459 non-null    datetime64[ns]\n",
            " 2   receipts_count  459 non-null    int64         \n",
            "dtypes: datetime64[ns](1), int64(2)\n",
            "memory usage: 10.9 KB\n"
          ]
        }
      ],
      "source": [
        "data.info()"
      ]
    },
    {
      "cell_type": "code",
      "execution_count": 5,
      "id": "de8fc049-1afe-450b-8f75-8161ff1a1ffe",
      "metadata": {
        "id": "de8fc049-1afe-450b-8f75-8161ff1a1ffe"
      },
      "outputs": [],
      "source": [
        "# lipton — 29; ahmad — 178; may — 5152\n",
        "lipton = data[data.brand_id == 29]\n",
        "ahmad = data[data.brand_id == 178]\n",
        "may = data[data.brand_id == 5152]\n"
      ]
    },
    {
      "cell_type": "code",
      "execution_count": 6,
      "id": "830629f6-fea5-4044-9b04-081258732c42",
      "metadata": {
        "colab": {
          "base_uri": "https://localhost:8080/",
          "height": 857
        },
        "id": "830629f6-fea5-4044-9b04-081258732c42",
        "outputId": "10714102-9be1-474e-f9ec-a7cf67edeae7"
      },
      "outputs": [
        {
          "output_type": "execute_result",
          "data": {
            "text/plain": [
              "<matplotlib.axes._subplots.AxesSubplot at 0x7efe4c19d8d0>"
            ]
          },
          "metadata": {},
          "execution_count": 6
        },
        {
          "output_type": "display_data",
          "data": {
            "text/plain": [
              "<Figure size 432x288 with 1 Axes>"
            ],
            "image/png": "[encoded data removed]"
          },
          "metadata": {
            "needs_background": "light"
          }
        },
        {
          "output_type": "display_data",
          "data": {
            "text/plain": [
              "<Figure size 432x288 with 1 Axes>"
            ],
            "image/png": "[encoded data removed]"
          },
          "metadata": {
            "needs_background": "light"
          }
        },
        {
          "output_type": "display_data",
          "data": {
            "text/plain": [
              "<Figure size 432x288 with 1 Axes>"
            ],
            "image/png": "[encoded data removed]"
          },
          "metadata": {
            "needs_background": "light"
          }
        }
      ],
      "source": [
        "lipton.plot(x='date', y='receipts_count')\n",
        "ahmad.plot(x='date', y='receipts_count')\n",
        "may.plot(x='date', y='receipts_count')"
      ]
    },
    {
      "cell_type": "code",
      "execution_count": 7,
      "id": "27d29dfb-1a6f-435a-8e4d-6d8a65c0aa1a",
      "metadata": {
        "colab": {
          "base_uri": "https://localhost:8080/"
        },
        "id": "27d29dfb-1a6f-435a-8e4d-6d8a65c0aa1a",
        "outputId": "0f769514-8baa-4041-ef5c-8018e61b8f38"
      },
      "outputs": [
        {
          "output_type": "stream",
          "name": "stderr",
          "text": [
            "/usr/local/lib/python3.7/dist-packages/ipykernel_launcher.py:2: SettingWithCopyWarning: \n",
            "A value is trying to be set on a copy of a slice from a DataFrame.\n",
            "Try using .loc[row_indexer,col_indexer] = value instead\n",
            "\n",
            "See the caveats in the documentation: https://pandas.pydata.org/pandas-docs/stable/user_guide/indexing.html#returning-a-view-versus-a-copy\n",
            "  \n",
            "/usr/local/lib/python3.7/dist-packages/ipykernel_launcher.py:3: SettingWithCopyWarning: \n",
            "A value is trying to be set on a copy of a slice from a DataFrame.\n",
            "Try using .loc[row_indexer,col_indexer] = value instead\n",
            "\n",
            "See the caveats in the documentation: https://pandas.pydata.org/pandas-docs/stable/user_guide/indexing.html#returning-a-view-versus-a-copy\n",
            "  This is separate from the ipykernel package so we can avoid doing imports until\n",
            "/usr/local/lib/python3.7/dist-packages/ipykernel_launcher.py:4: SettingWithCopyWarning: \n",
            "A value is trying to be set on a copy of a slice from a DataFrame.\n",
            "Try using .loc[row_indexer,col_indexer] = value instead\n",
            "\n",
            "See the caveats in the documentation: https://pandas.pydata.org/pandas-docs/stable/user_guide/indexing.html#returning-a-view-versus-a-copy\n",
            "  after removing the cwd from sys.path.\n",
            "/usr/local/lib/python3.7/dist-packages/ipykernel_launcher.py:6: SettingWithCopyWarning: \n",
            "A value is trying to be set on a copy of a slice from a DataFrame.\n",
            "Try using .loc[row_indexer,col_indexer] = value instead\n",
            "\n",
            "See the caveats in the documentation: https://pandas.pydata.org/pandas-docs/stable/user_guide/indexing.html#returning-a-view-versus-a-copy\n",
            "  \n",
            "/usr/local/lib/python3.7/dist-packages/ipykernel_launcher.py:7: SettingWithCopyWarning: \n",
            "A value is trying to be set on a copy of a slice from a DataFrame.\n",
            "Try using .loc[row_indexer,col_indexer] = value instead\n",
            "\n",
            "See the caveats in the documentation: https://pandas.pydata.org/pandas-docs/stable/user_guide/indexing.html#returning-a-view-versus-a-copy\n",
            "  import sys\n",
            "/usr/local/lib/python3.7/dist-packages/ipykernel_launcher.py:8: SettingWithCopyWarning: \n",
            "A value is trying to be set on a copy of a slice from a DataFrame.\n",
            "Try using .loc[row_indexer,col_indexer] = value instead\n",
            "\n",
            "See the caveats in the documentation: https://pandas.pydata.org/pandas-docs/stable/user_guide/indexing.html#returning-a-view-versus-a-copy\n",
            "  \n",
            "/usr/local/lib/python3.7/dist-packages/pandas/util/_decorators.py:311: SettingWithCopyWarning: \n",
            "A value is trying to be set on a copy of a slice from a DataFrame\n",
            "\n",
            "See the caveats in the documentation: https://pandas.pydata.org/pandas-docs/stable/user_guide/indexing.html#returning-a-view-versus-a-copy\n",
            "  return func(*args, **kwargs)\n"
          ]
        }
      ],
      "source": [
        "# add rolling mean and std (7 days)\n",
        "lipton['mean_7'] = lipton['receipts_count'].rolling(7).mean()\n",
        "ahmad['mean_7'] = ahmad['receipts_count'].rolling(7).mean()\n",
        "may['mean_7'] = may['receipts_count'].rolling(7).mean()\n",
        "\n",
        "lipton['std_7'] = lipton['receipts_count'].rolling(7).std()\n",
        "ahmad['std_7'] = ahmad['receipts_count'].rolling(7).std()\n",
        "may['std_7'] = may['receipts_count'].rolling(7).std()\n",
        "\n",
        "lipton.dropna(axis=0, inplace=True)\n",
        "ahmad.dropna(axis=0, inplace=True)\n",
        "may.dropna(axis=0, inplace=True)"
      ]
    },
    {
      "cell_type": "code",
      "execution_count": 8,
      "id": "67f8296c-a13e-4f2c-8dee-5857fc3f0aad",
      "metadata": {
        "colab": {
          "base_uri": "https://localhost:8080/",
          "height": 857
        },
        "id": "67f8296c-a13e-4f2c-8dee-5857fc3f0aad",
        "outputId": "0db17aa3-a243-4925-af3f-dd5f3bc1b0c6"
      },
      "outputs": [
        {
          "output_type": "execute_result",
          "data": {
            "text/plain": [
              "<matplotlib.axes._subplots.AxesSubplot at 0x7efe4bad6dd0>"
            ]
          },
          "metadata": {},
          "execution_count": 8
        },
        {
          "output_type": "display_data",
          "data": {
            "text/plain": [
              "<Figure size 432x288 with 1 Axes>"
            ],
            "image/png": "[encoded data removed]"
          },
          "metadata": {
            "needs_background": "light"
          }
        },
        {
          "output_type": "display_data",
          "data": {
            "text/plain": [
              "<Figure size 432x288 with 1 Axes>"
            ],
            "image/png": "[encoded data removed]"
          },
          "metadata": {
            "needs_background": "light"
          }
        },
        {
          "output_type": "display_data",
          "data": {
            "text/plain": [
              "<Figure size 432x288 with 1 Axes>"
            ],
            "image/png": "[encoded data removed]"
          },
          "metadata": {
            "needs_background": "light"
          }
        }
      ],
      "source": [
        "lipton.plot(x='date', y=['receipts_count', 'mean_7'])\n",
        "ahmad.plot(x='date', y=['receipts_count', 'mean_7'])\n",
        "may.plot(x='date', y=['receipts_count', 'mean_7'])\n"
      ]
    },
    {
      "cell_type": "code",
      "execution_count": 9,
      "id": "5d2704c8-5ae2-4ebd-94a7-ec15520c1237",
      "metadata": {
        "colab": {
          "base_uri": "https://localhost:8080/",
          "height": 857
        },
        "id": "5d2704c8-5ae2-4ebd-94a7-ec15520c1237",
        "outputId": "149bea78-4890-4ea4-8015-31490a097ce2"
      },
      "outputs": [
        {
          "output_type": "execute_result",
          "data": {
            "text/plain": [
              "<matplotlib.axes._subplots.AxesSubplot at 0x7efe4b8dc8d0>"
            ]
          },
          "metadata": {},
          "execution_count": 9
        },
        {
          "output_type": "display_data",
          "data": {
            "text/plain": [
              "<Figure size 432x288 with 1 Axes>"
            ],
            "image/png": "[encoded data removed]"
          },
          "metadata": {
            "needs_background": "light"
          }
        },
        {
          "output_type": "display_data",
          "data": {
            "text/plain": [
              "<Figure size 432x288 with 1 Axes>"
            ],
            "image/png": "[encoded data removed]"
          },
          "metadata": {
            "needs_background": "light"
          }
        },
        {
          "output_type": "display_data",
          "data": {
            "text/plain": [
              "<Figure size 432x288 with 1 Axes>"
            ],
            "image/png": "[encoded data removed]"
          },
          "metadata": {
            "needs_background": "light"
          }
        }
      ],
      "source": [
        "lipton.plot(x='date', y=['receipts_count', 'std_7'])\n",
        "ahmad.plot(x='date', y=['receipts_count', 'std_7'])\n",
        "may.plot(x='date', y=['receipts_count', 'std_7'])\n"
      ]
    },
    {
      "cell_type": "code",
      "execution_count": 10,
      "id": "b7bd1ce3-6e0a-4282-8e98-b6d79a07f303",
      "metadata": {
        "colab": {
          "base_uri": "https://localhost:8080/"
        },
        "id": "b7bd1ce3-6e0a-4282-8e98-b6d79a07f303",
        "outputId": "b306ad3c-02b5-44ab-b2e1-d853c2bc9410"
      },
      "outputs": [
        {
          "output_type": "stream",
          "name": "stderr",
          "text": [
            "/usr/local/lib/python3.7/dist-packages/ipykernel_launcher.py:2: SettingWithCopyWarning: \n",
            "A value is trying to be set on a copy of a slice from a DataFrame.\n",
            "Try using .loc[row_indexer,col_indexer] = value instead\n",
            "\n",
            "See the caveats in the documentation: https://pandas.pydata.org/pandas-docs/stable/user_guide/indexing.html#returning-a-view-versus-a-copy\n",
            "  \n",
            "/usr/local/lib/python3.7/dist-packages/ipykernel_launcher.py:3: SettingWithCopyWarning: \n",
            "A value is trying to be set on a copy of a slice from a DataFrame.\n",
            "Try using .loc[row_indexer,col_indexer] = value instead\n",
            "\n",
            "See the caveats in the documentation: https://pandas.pydata.org/pandas-docs/stable/user_guide/indexing.html#returning-a-view-versus-a-copy\n",
            "  This is separate from the ipykernel package so we can avoid doing imports until\n",
            "/usr/local/lib/python3.7/dist-packages/ipykernel_launcher.py:4: SettingWithCopyWarning: \n",
            "A value is trying to be set on a copy of a slice from a DataFrame.\n",
            "Try using .loc[row_indexer,col_indexer] = value instead\n",
            "\n",
            "See the caveats in the documentation: https://pandas.pydata.org/pandas-docs/stable/user_guide/indexing.html#returning-a-view-versus-a-copy\n",
            "  after removing the cwd from sys.path.\n"
          ]
        }
      ],
      "source": [
        "# add difference between daily sales and weekly average\n",
        "lipton['diff'] = lipton['receipts_count'] / lipton['mean_7']\n",
        "ahmad['diff'] = ahmad['receipts_count'] / ahmad['mean_7']\n",
        "may['diff'] = may['receipts_count'] / may['mean_7']\n"
      ]
    },
    {
      "cell_type": "code",
      "execution_count": 11,
      "id": "07d29771-5ea1-446a-8c61-ca338c361fe2",
      "metadata": {
        "colab": {
          "base_uri": "https://localhost:8080/",
          "height": 859
        },
        "id": "07d29771-5ea1-446a-8c61-ca338c361fe2",
        "outputId": "8af8fc3b-edf1-4da5-f28c-feb2e648ab29"
      },
      "outputs": [
        {
          "output_type": "execute_result",
          "data": {
            "text/plain": [
              "<matplotlib.axes._subplots.AxesSubplot at 0x7efe4b679bd0>"
            ]
          },
          "metadata": {},
          "execution_count": 11
        },
        {
          "output_type": "display_data",
          "data": {
            "text/plain": [
              "<Figure size 432x288 with 1 Axes>"
            ],
            "image/png": "[encoded data removed]"
          },
          "metadata": {
            "needs_background": "light"
          }
        },
        {
          "output_type": "display_data",
          "data": {
            "text/plain": [
              "<Figure size 432x288 with 1 Axes>"
            ],
            "image/png": "[encoded data removed]"
          },
          "metadata": {
            "needs_background": "light"
          }
        },
        {
          "output_type": "display_data",
          "data": {
            "text/plain": [
              "<Figure size 432x288 with 1 Axes>"
            ],
            "image/png": "[encoded data removed]"
          },
          "metadata": {
            "needs_background": "light"
          }
        }
      ],
      "source": [
        "lipton.plot(x='date', y=['diff'])\n",
        "ahmad.plot(x='date', y=['diff'])\n",
        "may.plot(x='date', y=['diff'])\n"
      ]
    },
    {
      "cell_type": "code",
      "execution_count": 12,
      "id": "114ff70c-bbb7-4678-83e6-e1f1942306a8",
      "metadata": {
        "id": "114ff70c-bbb7-4678-83e6-e1f1942306a8"
      },
      "outputs": [],
      "source": [
        "# train-test-split\n",
        "lipton_tr, lipton_ts = lipton[lipton.date <= '2016-10-28'], lipton[lipton.date > '2016-10-28']\n",
        "ahmad_tr, ahmad_ts = ahmad[ahmad.date <= '2016-10-28'], ahmad[ahmad.date > '2016-10-28']\n",
        "may_tr, may_ts = may[may.date <= '2016-10-28'], may[may.date > '2016-10-28']"
      ]
    },
    {
      "cell_type": "code",
      "execution_count": 13,
      "id": "795c0a4c-9228-49f4-af0d-31c5b1ef1499",
      "metadata": {
        "colab": {
          "base_uri": "https://localhost:8080/"
        },
        "id": "795c0a4c-9228-49f4-af0d-31c5b1ef1499",
        "outputId": "9068e8e3-605a-4371-83d3-32122717292d"
      },
      "outputs": [
        {
          "output_type": "stream",
          "name": "stdout",
          "text": [
            "Ttest_indResult(statistic=3.4956019081300544, pvalue=0.0006278717597659365)\n",
            "Ttest_indResult(statistic=-3.3337036331538563, pvalue=0.0010879137733186346)\n",
            "Ttest_indResult(statistic=-27.816977709478042, pvalue=5.289938590757757e-60)\n"
          ]
        }
      ],
      "source": [
        "# H(0): продажи чая Ахмад не изменились после рекламы в шоу\n",
        "print(stats.ttest_ind(lipton_tr.receipts_count, lipton_ts.receipts_count))\n",
        "print(stats.ttest_ind(ahmad_tr.receipts_count, ahmad_ts.receipts_count))\n",
        "print(stats.ttest_ind(may_tr.receipts_count, may_ts.receipts_count))"
      ]
    },
    {
      "cell_type": "code",
      "execution_count": 14,
      "id": "3a52cd1e-e0e8-4ee4-8ec7-5f4fc2754f1e",
      "metadata": {
        "colab": {
          "base_uri": "https://localhost:8080/"
        },
        "id": "3a52cd1e-e0e8-4ee4-8ec7-5f4fc2754f1e",
        "outputId": "74b2418d-7da2-413f-ed1c-9a94127296ca"
      },
      "outputs": [
        {
          "output_type": "stream",
          "name": "stdout",
          "text": [
            "Ttest_indResult(statistic=-2.0438998308383796, pvalue=0.045083401266553545)\n",
            "Ttest_indResult(statistic=-2.234368399082081, pvalue=0.028958522011689775)\n",
            "Ttest_indResult(statistic=0.32057050173261015, pvalue=0.749580269584937)\n"
          ]
        }
      ],
      "source": [
        "# H(0): скользящая средняя продаж чая Ахмад не отличается от других брендов\n",
        "# после рекламы в шоу\n",
        "print(stats.ttest_ind(ahmad_ts['diff'], lipton_ts['diff']))\n",
        "print(stats.ttest_ind(ahmad_ts['diff'], may_ts['diff']))\n",
        "print(stats.ttest_ind(lipton_ts['diff'], may_ts['diff']))"
      ]
    },
    {
      "cell_type": "code",
      "execution_count": 15,
      "id": "b8eab6d3-1eaf-48e5-98af-a24ff4b8e028",
      "metadata": {
        "colab": {
          "base_uri": "https://localhost:8080/"
        },
        "id": "b8eab6d3-1eaf-48e5-98af-a24ff4b8e028",
        "outputId": "7c8898e0-5dc6-4ee4-c0b2-562a4e47a376"
      },
      "outputs": [
        {
          "output_type": "stream",
          "name": "stdout",
          "text": [
            "Ttest_indResult(statistic=1.214811889038856, pvalue=0.22890085848493702)\n",
            "Ttest_indResult(statistic=5.316193727733641, pvalue=1.436399195364689e-06)\n",
            "Ttest_indResult(statistic=2.589681979105148, pvalue=0.011880450999724432)\n"
          ]
        }
      ],
      "source": [
        "# # H(0): скольщязее std не изменилось после рекламы одного бренда в шоу\n",
        "print(stats.ttest_ind(ahmad_ts.std_7, lipton_ts.std_7))\n",
        "print(stats.ttest_ind(ahmad_ts.std_7, may_ts.std_7))\n",
        "print(stats.ttest_ind(lipton_ts.std_7, may_ts.std_7))"
      ]
    },
    {
      "cell_type": "code",
      "execution_count": 16,
      "id": "85d5111d-23fc-4215-a5a1-8160370c2c55",
      "metadata": {
        "colab": {
          "base_uri": "https://localhost:8080/"
        },
        "id": "85d5111d-23fc-4215-a5a1-8160370c2c55",
        "outputId": "ad31d30e-35cf-440c-b2c7-60ab71355d73"
      },
      "outputs": [
        {
          "output_type": "stream",
          "name": "stderr",
          "text": [
            "INFO:fbprophet:Disabling yearly seasonality. Run prophet with yearly_seasonality=True to override this.\n",
            "INFO:fbprophet:Disabling daily seasonality. Run prophet with daily_seasonality=True to override this.\n",
            "INFO:fbprophet:Disabling yearly seasonality. Run prophet with yearly_seasonality=True to override this.\n",
            "INFO:fbprophet:Disabling daily seasonality. Run prophet with daily_seasonality=True to override this.\n"
          ]
        },
        {
          "output_type": "stream",
          "name": "stdout",
          "text": [
            "RMSE: 69.041546\n"
          ]
        },
        {
          "output_type": "stream",
          "name": "stderr",
          "text": [
            "INFO:fbprophet:Disabling yearly seasonality. Run prophet with yearly_seasonality=True to override this.\n",
            "INFO:fbprophet:Disabling daily seasonality. Run prophet with daily_seasonality=True to override this.\n"
          ]
        },
        {
          "output_type": "stream",
          "name": "stdout",
          "text": [
            "RMSE: 113.648583\n",
            "RMSE: 78.683772\n"
          ]
        }
      ],
      "source": [
        "# построим прогнозы продаж на ноябрь\n",
        "# гипотеза: точность модели для чая Ахмад будет ниже\n",
        "# из-за влияния рекламной кампании, которую \"не видит\" модель\n",
        "\n",
        "dfs = [lipton_tr, ahmad_tr, may_tr]\n",
        "\n",
        "def makeforecast(df):\n",
        "    transactions = df[[\"date\", \"receipts_count\"]]\n",
        "    transactions.columns = ['ds', 'y']\n",
        "\n",
        "    m = Prophet()\n",
        "    m.fit(transactions)\n",
        "    future = m.make_future_dataframe(periods=30)\n",
        "    forecast = m.predict(future)\n",
        "    forecast.shape\n",
        "    print('RMSE: %f' % np.sqrt(np.mean((forecast.loc[:144, 'yhat']-transactions['y'])**2)))\n",
        "\n",
        "for df in dfs:\n",
        "    makeforecast(df)"
      ]
    },
    {
      "cell_type": "code",
      "source": [
        "# Поиск аномалий с помощью BoxPlot и IQR\n",
        "boxplot = ahmad.boxplot(column=['receipts_count'])  \n",
        "\n",
        "boxplot_stats(ahmad.receipts_count).pop(0)['fliers']\n",
        "outliers = [y for stat in boxplot_stats(ahmad['receipts_count']) for y in stat['fliers']]\n",
        "print(outliers)"
      ],
      "metadata": {
        "colab": {
          "base_uri": "https://localhost:8080/",
          "height": 283
        },
        "id": "AKff2jF4Z4S4",
        "outputId": "7aa7b27b-b345-4270-9697-c88b3988a15b"
      },
      "id": "AKff2jF4Z4S4",
      "execution_count": 17,
      "outputs": [
        {
          "output_type": "stream",
          "name": "stdout",
          "text": [
            "[677, 708, 712]\n"
          ]
        },
        {
          "output_type": "display_data",
          "data": {
            "text/plain": [
              "<Figure size 432x288 with 1 Axes>"
            ],
            "image/png": "[encoded data removed]"
          },
          "metadata": {
            "needs_background": "light"
          }
        }
      ]
    },
    {
      "cell_type": "code",
      "source": [
        "# Посмотрим на выбросы\n",
        "ahmad.sort_values('receipts_count', ascending=False).head(3)"
      ],
      "metadata": {
        "colab": {
          "base_uri": "https://localhost:8080/",
          "height": 143
        },
        "id": "89CkzR9ujoCn",
        "outputId": "beb2d59f-84b4-4fec-897c-fc4a088253c6"
      },
      "id": "89CkzR9ujoCn",
      "execution_count": 18,
      "outputs": [
        {
          "output_type": "execute_result",
          "data": {
            "text/plain": [
              "     brand_id       date  receipts_count      mean_7       std_7      diff\n",
              "397       178 2016-11-10             712  486.714286  167.028655  1.462871\n",
              "394       178 2016-11-09             708  435.857143  138.815739  1.624385\n",
              "367       178 2016-10-31             677  612.428571   49.125204  1.105435"
            ],
            "text/html": [
              "\n",
              "  <div id=\"df-25646346-690f-4343-bf60-bc2034c28dc1\">\n",
              "    <div class=\"colab-df-container\">\n",
              "      <div>\n",
              "<style scoped>\n",
              "    .dataframe tbody tr th:only-of-type {\n",
              "        vertical-align: middle;\n",
              "    }\n",
              "\n",
              "    .dataframe tbody tr th {\n",
              "        vertical-align: top;\n",
              "    }\n",
              "\n",
              "    .dataframe thead th {\n",
              "        text-align: right;\n",
              "    }\n",
              "</style>\n",
              "<table border=\"1\" class=\"dataframe\">\n",
              "  <thead>\n",
              "    <tr style=\"text-align: right;\">\n",
              "      <th></th>\n",
              "      <th>brand_id</th>\n",
              "      <th>date</th>\n",
              "      <th>receipts_count</th>\n",
              "      <th>mean_7</th>\n",
              "      <th>std_7</th>\n",
              "      <th>diff</th>\n",
              "    </tr>\n",
              "  </thead>\n",
              "  <tbody>\n",
              "    <tr>\n",
              "      <th>397</th>\n",
              "      <td>178</td>\n",
              "      <td>2016-11-10</td>\n",
              "      <td>712</td>\n",
              "      <td>486.714286</td>\n",
              "      <td>167.028655</td>\n",
              "      <td>1.462871</td>\n",
              "    </tr>\n",
              "    <tr>\n",
              "      <th>394</th>\n",
              "      <td>178</td>\n",
              "      <td>2016-11-09</td>\n",
              "      <td>708</td>\n",
              "      <td>435.857143</td>\n",
              "      <td>138.815739</td>\n",
              "      <td>1.624385</td>\n",
              "    </tr>\n",
              "    <tr>\n",
              "      <th>367</th>\n",
              "      <td>178</td>\n",
              "      <td>2016-10-31</td>\n",
              "      <td>677</td>\n",
              "      <td>612.428571</td>\n",
              "      <td>49.125204</td>\n",
              "      <td>1.105435</td>\n",
              "    </tr>\n",
              "  </tbody>\n",
              "</table>\n",
              "</div>\n",
              "      <button class=\"colab-df-convert\" onclick=\"convertToInteractive('df-25646346-690f-4343-bf60-bc2034c28dc1')\"\n",
              "              title=\"Convert this dataframe to an interactive table.\"\n",
              "              style=\"display:none;\">\n",
              "        \n",
              "  <svg xmlns=\"http://www.w3.org/2000/svg\" height=\"24px\"viewBox=\"0 0 24 24\"\n",
              "       width=\"24px\">\n",
              "    <path d=\"M0 0h24v24H0V0z\" fill=\"none\"/>\n",
              "    <path d=\"M18.56 5.44l.94 2.06.94-2.06 2.06-.94-2.06-.94-.94-2.06-.94 2.06-2.06.94zm-11 1L8.5 8.5l.94-2.06 2.06-.94-2.06-.94L8.5 2.5l-.94 2.06-2.06.94zm10 10l.94 2.06.94-2.06 2.06-.94-2.06-.94-.94-2.06-.94 2.06-2.06.94z\"/><path d=\"M17.41 7.96l-1.37-1.37c-.4-.4-.92-.59-1.43-.59-.52 0-1.04.2-1.43.59L10.3 9.45l-7.72 7.72c-.78.78-.78 2.05 0 2.83L4 21.41c.39.39.9.59 1.41.59.51 0 1.02-.2 1.41-.59l7.78-7.78 2.81-2.81c.8-.78.8-2.07 0-2.86zM5.41 20L4 18.59l7.72-7.72 1.47 1.35L5.41 20z\"/>\n",
              "  </svg>\n",
              "      </button>\n",
              "      \n",
              "  <style>\n",
              "    .colab-df-container {\n",
              "      display:flex;\n",
              "      flex-wrap:wrap;\n",
              "      gap: 12px;\n",
              "    }\n",
              "\n",
              "    .colab-df-convert {\n",
              "      background-color: #E8F0FE;\n",
              "      border: none;\n",
              "      border-radius: 50%;\n",
              "      cursor: pointer;\n",
              "      display: none;\n",
              "      fill: #1967D2;\n",
              "      height: 32px;\n",
              "      padding: 0 0 0 0;\n",
              "      width: 32px;\n",
              "    }\n",
              "\n",
              "    .colab-df-convert:hover {\n",
              "      background-color: #E2EBFA;\n",
              "      box-shadow: 0px 1px 2px rgba(60, 64, 67, 0.3), 0px 1px 3px 1px rgba(60, 64, 67, 0.15);\n",
              "      fill: #174EA6;\n",
              "    }\n",
              "\n",
              "    [theme=dark] .colab-df-convert {\n",
              "      background-color: #3B4455;\n",
              "      fill: #D2E3FC;\n",
              "    }\n",
              "\n",
              "    [theme=dark] .colab-df-convert:hover {\n",
              "      background-color: #434B5C;\n",
              "      box-shadow: 0px 1px 3px 1px rgba(0, 0, 0, 0.15);\n",
              "      filter: drop-shadow(0px 1px 2px rgba(0, 0, 0, 0.3));\n",
              "      fill: #FFFFFF;\n",
              "    }\n",
              "  </style>\n",
              "\n",
              "      <script>\n",
              "        const buttonEl =\n",
              "          document.querySelector('#df-25646346-690f-4343-bf60-bc2034c28dc1 button.colab-df-convert');\n",
              "        buttonEl.style.display =\n",
              "          google.colab.kernel.accessAllowed ? 'block' : 'none';\n",
              "\n",
              "        async function convertToInteractive(key) {\n",
              "          const element = document.querySelector('#df-25646346-690f-4343-bf60-bc2034c28dc1');\n",
              "          const dataTable =\n",
              "            await google.colab.kernel.invokeFunction('convertToInteractive',\n",
              "                                                     [key], {});\n",
              "          if (!dataTable) return;\n",
              "\n",
              "          const docLinkHtml = 'Like what you see? Visit the ' +\n",
              "            '<a target=\"_blank\" href=https://colab.research.google.com/notebooks/data_table.ipynb>data table notebook</a>'\n",
              "            + ' to learn more about interactive tables.';\n",
              "          element.innerHTML = '';\n",
              "          dataTable['output_type'] = 'display_data';\n",
              "          await google.colab.output.renderOutput(dataTable, element);\n",
              "          const docLink = document.createElement('div');\n",
              "          docLink.innerHTML = docLinkHtml;\n",
              "          element.appendChild(docLink);\n",
              "        }\n",
              "      </script>\n",
              "    </div>\n",
              "  </div>\n",
              "  "
            ]
          },
          "metadata": {},
          "execution_count": 18
        }
      ]
    },
    {
      "cell_type": "code",
      "source": [
        "boxplot = lipton.boxplot(column=['receipts_count'])  \n",
        "\n",
        "boxplot_stats(lipton.receipts_count).pop(0)['fliers']\n",
        "outliers = [y for stat in boxplot_stats(lipton['receipts_count']) for y in stat['fliers']]\n",
        "print(outliers)\n"
      ],
      "metadata": {
        "id": "_iljIdGBblWU",
        "colab": {
          "base_uri": "https://localhost:8080/",
          "height": 283
        },
        "outputId": "0da01591-15fb-4a55-ab8f-c9c88bf2f8ce"
      },
      "id": "_iljIdGBblWU",
      "execution_count": 19,
      "outputs": [
        {
          "output_type": "stream",
          "name": "stdout",
          "text": [
            "[797, 849, 1042, 1162, 1151, 1070, 1053, 1063, 920, 861, 811, 856, 1173, 1301]\n"
          ]
        },
        {
          "output_type": "display_data",
          "data": {
            "text/plain": [
              "<Figure size 432x288 with 1 Axes>"
            ],
            "image/png": "[encoded data removed]"
          },
          "metadata": {
            "needs_background": "light"
          }
        }
      ]
    },
    {
      "cell_type": "code",
      "source": [
        "# Посмотрим на выбросы\n",
        "lipton.sort_values('receipts_count', ascending=False).head(14)"
      ],
      "metadata": {
        "colab": {
          "base_uri": "https://localhost:8080/",
          "height": 488
        },
        "id": "qk644GULktyy",
        "outputId": "39a26491-8975-4b63-8110-2c982e02f484"
      },
      "id": "qk644GULktyy",
      "execution_count": 20,
      "outputs": [
        {
          "output_type": "execute_result",
          "data": {
            "text/plain": [
              "     brand_id       date  receipts_count       mean_7       std_7      diff\n",
              "458        29 2016-11-30            1301   743.857143  368.715079  1.748992\n",
              "455        29 2016-11-29            1173   618.714286  287.906648  1.895867\n",
              "251        29 2016-09-22            1162   733.000000  281.581249  1.585266\n",
              "254        29 2016-09-23            1151   822.285714  303.259907  1.399757\n",
              "257        29 2016-09-24            1070   901.285714  281.743213  1.187193\n",
              "263        29 2016-09-26            1063  1055.714286  102.923457  1.006901\n",
              "260        29 2016-09-25            1053   975.857143  232.111632  1.079051\n",
              "248        29 2016-09-21            1042   642.714286  214.412153  1.621249\n",
              "332        29 2016-10-19             920   648.571429  139.100512  1.418502\n",
              "335        29 2016-10-20             861   692.285714  152.253861  1.243706\n",
              "452        29 2016-11-28             856   511.142857  157.371565  1.674679\n",
              "245        29 2016-09-20             849   565.571429  125.532011  1.501137\n",
              "338        29 2016-10-21             811   723.428571  150.849657  1.121051\n",
              "83         29 2016-07-28             797   671.857143   82.163310  1.186264"
            ],
            "text/html": [
              "\n",
              "  <div id=\"df-64ae11cc-ba05-4d75-9716-6c74c2b14e20\">\n",
              "    <div class=\"colab-df-container\">\n",
              "      <div>\n",
              "<style scoped>\n",
              "    .dataframe tbody tr th:only-of-type {\n",
              "        vertical-align: middle;\n",
              "    }\n",
              "\n",
              "    .dataframe tbody tr th {\n",
              "        vertical-align: top;\n",
              "    }\n",
              "\n",
              "    .dataframe thead th {\n",
              "        text-align: right;\n",
              "    }\n",
              "</style>\n",
              "<table border=\"1\" class=\"dataframe\">\n",
              "  <thead>\n",
              "    <tr style=\"text-align: right;\">\n",
              "      <th></th>\n",
              "      <th>brand_id</th>\n",
              "      <th>date</th>\n",
              "      <th>receipts_count</th>\n",
              "      <th>mean_7</th>\n",
              "      <th>std_7</th>\n",
              "      <th>diff</th>\n",
              "    </tr>\n",
              "  </thead>\n",
              "  <tbody>\n",
              "    <tr>\n",
              "      <th>458</th>\n",
              "      <td>29</td>\n",
              "      <td>2016-11-30</td>\n",
              "      <td>1301</td>\n",
              "      <td>743.857143</td>\n",
              "      <td>368.715079</td>\n",
              "      <td>1.748992</td>\n",
              "    </tr>\n",
              "    <tr>\n",
              "      <th>455</th>\n",
              "      <td>29</td>\n",
              "      <td>2016-11-29</td>\n",
              "      <td>1173</td>\n",
              "      <td>618.714286</td>\n",
              "      <td>287.906648</td>\n",
              "      <td>1.895867</td>\n",
              "    </tr>\n",
              "    <tr>\n",
              "      <th>251</th>\n",
              "      <td>29</td>\n",
              "      <td>2016-09-22</td>\n",
              "      <td>1162</td>\n",
              "      <td>733.000000</td>\n",
              "      <td>281.581249</td>\n",
              "      <td>1.585266</td>\n",
              "    </tr>\n",
              "    <tr>\n",
              "      <th>254</th>\n",
              "      <td>29</td>\n",
              "      <td>2016-09-23</td>\n",
              "      <td>1151</td>\n",
              "      <td>822.285714</td>\n",
              "      <td>303.259907</td>\n",
              "      <td>1.399757</td>\n",
              "    </tr>\n",
              "    <tr>\n",
              "      <th>257</th>\n",
              "      <td>29</td>\n",
              "      <td>2016-09-24</td>\n",
              "      <td>1070</td>\n",
              "      <td>901.285714</td>\n",
              "      <td>281.743213</td>\n",
              "      <td>1.187193</td>\n",
              "    </tr>\n",
              "    <tr>\n",
              "      <th>263</th>\n",
              "      <td>29</td>\n",
              "      <td>2016-09-26</td>\n",
              "      <td>1063</td>\n",
              "      <td>1055.714286</td>\n",
              "      <td>102.923457</td>\n",
              "      <td>1.006901</td>\n",
              "    </tr>\n",
              "    <tr>\n",
              "      <th>260</th>\n",
              "      <td>29</td>\n",
              "      <td>2016-09-25</td>\n",
              "      <td>1053</td>\n",
              "      <td>975.857143</td>\n",
              "      <td>232.111632</td>\n",
              "      <td>1.079051</td>\n",
              "    </tr>\n",
              "    <tr>\n",
              "      <th>248</th>\n",
              "      <td>29</td>\n",
              "      <td>2016-09-21</td>\n",
              "      <td>1042</td>\n",
              "      <td>642.714286</td>\n",
              "      <td>214.412153</td>\n",
              "      <td>1.621249</td>\n",
              "    </tr>\n",
              "    <tr>\n",
              "      <th>332</th>\n",
              "      <td>29</td>\n",
              "      <td>2016-10-19</td>\n",
              "      <td>920</td>\n",
              "      <td>648.571429</td>\n",
              "      <td>139.100512</td>\n",
              "      <td>1.418502</td>\n",
              "    </tr>\n",
              "    <tr>\n",
              "      <th>335</th>\n",
              "      <td>29</td>\n",
              "      <td>2016-10-20</td>\n",
              "      <td>861</td>\n",
              "      <td>692.285714</td>\n",
              "      <td>152.253861</td>\n",
              "      <td>1.243706</td>\n",
              "    </tr>\n",
              "    <tr>\n",
              "      <th>452</th>\n",
              "      <td>29</td>\n",
              "      <td>2016-11-28</td>\n",
              "      <td>856</td>\n",
              "      <td>511.142857</td>\n",
              "      <td>157.371565</td>\n",
              "      <td>1.674679</td>\n",
              "    </tr>\n",
              "    <tr>\n",
              "      <th>245</th>\n",
              "      <td>29</td>\n",
              "      <td>2016-09-20</td>\n",
              "      <td>849</td>\n",
              "      <td>565.571429</td>\n",
              "      <td>125.532011</td>\n",
              "      <td>1.501137</td>\n",
              "    </tr>\n",
              "    <tr>\n",
              "      <th>338</th>\n",
              "      <td>29</td>\n",
              "      <td>2016-10-21</td>\n",
              "      <td>811</td>\n",
              "      <td>723.428571</td>\n",
              "      <td>150.849657</td>\n",
              "      <td>1.121051</td>\n",
              "    </tr>\n",
              "    <tr>\n",
              "      <th>83</th>\n",
              "      <td>29</td>\n",
              "      <td>2016-07-28</td>\n",
              "      <td>797</td>\n",
              "      <td>671.857143</td>\n",
              "      <td>82.163310</td>\n",
              "      <td>1.186264</td>\n",
              "    </tr>\n",
              "  </tbody>\n",
              "</table>\n",
              "</div>\n",
              "      <button class=\"colab-df-convert\" onclick=\"convertToInteractive('df-64ae11cc-ba05-4d75-9716-6c74c2b14e20')\"\n",
              "              title=\"Convert this dataframe to an interactive table.\"\n",
              "              style=\"display:none;\">\n",
              "        \n",
              "  <svg xmlns=\"http://www.w3.org/2000/svg\" height=\"24px\"viewBox=\"0 0 24 24\"\n",
              "       width=\"24px\">\n",
              "    <path d=\"M0 0h24v24H0V0z\" fill=\"none\"/>\n",
              "    <path d=\"M18.56 5.44l.94 2.06.94-2.06 2.06-.94-2.06-.94-.94-2.06-.94 2.06-2.06.94zm-11 1L8.5 8.5l.94-2.06 2.06-.94-2.06-.94L8.5 2.5l-.94 2.06-2.06.94zm10 10l.94 2.06.94-2.06 2.06-.94-2.06-.94-.94-2.06-.94 2.06-2.06.94z\"/><path d=\"M17.41 7.96l-1.37-1.37c-.4-.4-.92-.59-1.43-.59-.52 0-1.04.2-1.43.59L10.3 9.45l-7.72 7.72c-.78.78-.78 2.05 0 2.83L4 21.41c.39.39.9.59 1.41.59.51 0 1.02-.2 1.41-.59l7.78-7.78 2.81-2.81c.8-.78.8-2.07 0-2.86zM5.41 20L4 18.59l7.72-7.72 1.47 1.35L5.41 20z\"/>\n",
              "  </svg>\n",
              "      </button>\n",
              "      \n",
              "  <style>\n",
              "    .colab-df-container {\n",
              "      display:flex;\n",
              "      flex-wrap:wrap;\n",
              "      gap: 12px;\n",
              "    }\n",
              "\n",
              "    .colab-df-convert {\n",
              "      background-color: #E8F0FE;\n",
              "      border: none;\n",
              "      border-radius: 50%;\n",
              "      cursor: pointer;\n",
              "      display: none;\n",
              "      fill: #1967D2;\n",
              "      height: 32px;\n",
              "      padding: 0 0 0 0;\n",
              "      width: 32px;\n",
              "    }\n",
              "\n",
              "    .colab-df-convert:hover {\n",
              "      background-color: #E2EBFA;\n",
              "      box-shadow: 0px 1px 2px rgba(60, 64, 67, 0.3), 0px 1px 3px 1px rgba(60, 64, 67, 0.15);\n",
              "      fill: #174EA6;\n",
              "    }\n",
              "\n",
              "    [theme=dark] .colab-df-convert {\n",
              "      background-color: #3B4455;\n",
              "      fill: #D2E3FC;\n",
              "    }\n",
              "\n",
              "    [theme=dark] .colab-df-convert:hover {\n",
              "      background-color: #434B5C;\n",
              "      box-shadow: 0px 1px 3px 1px rgba(0, 0, 0, 0.15);\n",
              "      filter: drop-shadow(0px 1px 2px rgba(0, 0, 0, 0.3));\n",
              "      fill: #FFFFFF;\n",
              "    }\n",
              "  </style>\n",
              "\n",
              "      <script>\n",
              "        const buttonEl =\n",
              "          document.querySelector('#df-64ae11cc-ba05-4d75-9716-6c74c2b14e20 button.colab-df-convert');\n",
              "        buttonEl.style.display =\n",
              "          google.colab.kernel.accessAllowed ? 'block' : 'none';\n",
              "\n",
              "        async function convertToInteractive(key) {\n",
              "          const element = document.querySelector('#df-64ae11cc-ba05-4d75-9716-6c74c2b14e20');\n",
              "          const dataTable =\n",
              "            await google.colab.kernel.invokeFunction('convertToInteractive',\n",
              "                                                     [key], {});\n",
              "          if (!dataTable) return;\n",
              "\n",
              "          const docLinkHtml = 'Like what you see? Visit the ' +\n",
              "            '<a target=\"_blank\" href=https://colab.research.google.com/notebooks/data_table.ipynb>data table notebook</a>'\n",
              "            + ' to learn more about interactive tables.';\n",
              "          element.innerHTML = '';\n",
              "          dataTable['output_type'] = 'display_data';\n",
              "          await google.colab.output.renderOutput(dataTable, element);\n",
              "          const docLink = document.createElement('div');\n",
              "          docLink.innerHTML = docLinkHtml;\n",
              "          element.appendChild(docLink);\n",
              "        }\n",
              "      </script>\n",
              "    </div>\n",
              "  </div>\n",
              "  "
            ]
          },
          "metadata": {},
          "execution_count": 20
        }
      ]
    },
    {
      "cell_type": "code",
      "source": [
        "boxplot = may.boxplot(column=['receipts_count'])  \n",
        "\n",
        "boxplot_stats(may.receipts_count).pop(0)['fliers']\n",
        "outliers = [y for stat in boxplot_stats(may['receipts_count']) for y in stat['fliers']]\n",
        "print(outliers)\n"
      ],
      "metadata": {
        "colab": {
          "base_uri": "https://localhost:8080/",
          "height": 283
        },
        "id": "TP3E5OPvkzmX",
        "outputId": "cf45cf83-58ec-4b69-d120-f55b39e0c996"
      },
      "id": "TP3E5OPvkzmX",
      "execution_count": 21,
      "outputs": [
        {
          "output_type": "stream",
          "name": "stdout",
          "text": [
            "[381, 408, 424, 416, 460, 399]\n"
          ]
        },
        {
          "output_type": "display_data",
          "data": {
            "text/plain": [
              "<Figure size 432x288 with 1 Axes>"
            ],
            "image/png": "[encoded data removed]"
          },
          "metadata": {
            "needs_background": "light"
          }
        }
      ]
    },
    {
      "cell_type": "code",
      "source": [
        "# Посмотрим на выбросы\n",
        "may.sort_values('receipts_count', ascending=False).head(6)"
      ],
      "metadata": {
        "colab": {
          "base_uri": "https://localhost:8080/",
          "height": 237
        },
        "id": "yF0J7__1kzt5",
        "outputId": "86e3bfd7-c292-4a30-df76-1521ca57b69b"
      },
      "id": "yF0J7__1kzt5",
      "execution_count": 22,
      "outputs": [
        {
          "output_type": "execute_result",
          "data": {
            "text/plain": [
              "     brand_id       date  receipts_count      mean_7      std_7      diff\n",
              "405      5152 2016-11-13             460  396.714286  41.310670  1.159525\n",
              "399      5152 2016-11-11             424  362.857143  40.420410  1.168504\n",
              "402      5152 2016-11-12             416  377.285714  38.469530  1.102613\n",
              "387      5152 2016-11-07             408  340.428571  43.504242  1.198489\n",
              "432      5152 2016-11-22             399  340.714286  28.831200  1.171069\n",
              "372      5152 2016-11-02             381  254.857143  63.753245  1.494955"
            ],
            "text/html": [
              "\n",
              "  <div id=\"df-04306b21-4ba3-4fb9-ab75-9dd722db280f\">\n",
              "    <div class=\"colab-df-container\">\n",
              "      <div>\n",
              "<style scoped>\n",
              "    .dataframe tbody tr th:only-of-type {\n",
              "        vertical-align: middle;\n",
              "    }\n",
              "\n",
              "    .dataframe tbody tr th {\n",
              "        vertical-align: top;\n",
              "    }\n",
              "\n",
              "    .dataframe thead th {\n",
              "        text-align: right;\n",
              "    }\n",
              "</style>\n",
              "<table border=\"1\" class=\"dataframe\">\n",
              "  <thead>\n",
              "    <tr style=\"text-align: right;\">\n",
              "      <th></th>\n",
              "      <th>brand_id</th>\n",
              "      <th>date</th>\n",
              "      <th>receipts_count</th>\n",
              "      <th>mean_7</th>\n",
              "      <th>std_7</th>\n",
              "      <th>diff</th>\n",
              "    </tr>\n",
              "  </thead>\n",
              "  <tbody>\n",
              "    <tr>\n",
              "      <th>405</th>\n",
              "      <td>5152</td>\n",
              "      <td>2016-11-13</td>\n",
              "      <td>460</td>\n",
              "      <td>396.714286</td>\n",
              "      <td>41.310670</td>\n",
              "      <td>1.159525</td>\n",
              "    </tr>\n",
              "    <tr>\n",
              "      <th>399</th>\n",
              "      <td>5152</td>\n",
              "      <td>2016-11-11</td>\n",
              "      <td>424</td>\n",
              "      <td>362.857143</td>\n",
              "      <td>40.420410</td>\n",
              "      <td>1.168504</td>\n",
              "    </tr>\n",
              "    <tr>\n",
              "      <th>402</th>\n",
              "      <td>5152</td>\n",
              "      <td>2016-11-12</td>\n",
              "      <td>416</td>\n",
              "      <td>377.285714</td>\n",
              "      <td>38.469530</td>\n",
              "      <td>1.102613</td>\n",
              "    </tr>\n",
              "    <tr>\n",
              "      <th>387</th>\n",
              "      <td>5152</td>\n",
              "      <td>2016-11-07</td>\n",
              "      <td>408</td>\n",
              "      <td>340.428571</td>\n",
              "      <td>43.504242</td>\n",
              "      <td>1.198489</td>\n",
              "    </tr>\n",
              "    <tr>\n",
              "      <th>432</th>\n",
              "      <td>5152</td>\n",
              "      <td>2016-11-22</td>\n",
              "      <td>399</td>\n",
              "      <td>340.714286</td>\n",
              "      <td>28.831200</td>\n",
              "      <td>1.171069</td>\n",
              "    </tr>\n",
              "    <tr>\n",
              "      <th>372</th>\n",
              "      <td>5152</td>\n",
              "      <td>2016-11-02</td>\n",
              "      <td>381</td>\n",
              "      <td>254.857143</td>\n",
              "      <td>63.753245</td>\n",
              "      <td>1.494955</td>\n",
              "    </tr>\n",
              "  </tbody>\n",
              "</table>\n",
              "</div>\n",
              "      <button class=\"colab-df-convert\" onclick=\"convertToInteractive('df-04306b21-4ba3-4fb9-ab75-9dd722db280f')\"\n",
              "              title=\"Convert this dataframe to an interactive table.\"\n",
              "              style=\"display:none;\">\n",
              "        \n",
              "  <svg xmlns=\"http://www.w3.org/2000/svg\" height=\"24px\"viewBox=\"0 0 24 24\"\n",
              "       width=\"24px\">\n",
              "    <path d=\"M0 0h24v24H0V0z\" fill=\"none\"/>\n",
              "    <path d=\"M18.56 5.44l.94 2.06.94-2.06 2.06-.94-2.06-.94-.94-2.06-.94 2.06-2.06.94zm-11 1L8.5 8.5l.94-2.06 2.06-.94-2.06-.94L8.5 2.5l-.94 2.06-2.06.94zm10 10l.94 2.06.94-2.06 2.06-.94-2.06-.94-.94-2.06-.94 2.06-2.06.94z\"/><path d=\"M17.41 7.96l-1.37-1.37c-.4-.4-.92-.59-1.43-.59-.52 0-1.04.2-1.43.59L10.3 9.45l-7.72 7.72c-.78.78-.78 2.05 0 2.83L4 21.41c.39.39.9.59 1.41.59.51 0 1.02-.2 1.41-.59l7.78-7.78 2.81-2.81c.8-.78.8-2.07 0-2.86zM5.41 20L4 18.59l7.72-7.72 1.47 1.35L5.41 20z\"/>\n",
              "  </svg>\n",
              "      </button>\n",
              "      \n",
              "  <style>\n",
              "    .colab-df-container {\n",
              "      display:flex;\n",
              "      flex-wrap:wrap;\n",
              "      gap: 12px;\n",
              "    }\n",
              "\n",
              "    .colab-df-convert {\n",
              "      background-color: #E8F0FE;\n",
              "      border: none;\n",
              "      border-radius: 50%;\n",
              "      cursor: pointer;\n",
              "      display: none;\n",
              "      fill: #1967D2;\n",
              "      height: 32px;\n",
              "      padding: 0 0 0 0;\n",
              "      width: 32px;\n",
              "    }\n",
              "\n",
              "    .colab-df-convert:hover {\n",
              "      background-color: #E2EBFA;\n",
              "      box-shadow: 0px 1px 2px rgba(60, 64, 67, 0.3), 0px 1px 3px 1px rgba(60, 64, 67, 0.15);\n",
              "      fill: #174EA6;\n",
              "    }\n",
              "\n",
              "    [theme=dark] .colab-df-convert {\n",
              "      background-color: #3B4455;\n",
              "      fill: #D2E3FC;\n",
              "    }\n",
              "\n",
              "    [theme=dark] .colab-df-convert:hover {\n",
              "      background-color: #434B5C;\n",
              "      box-shadow: 0px 1px 3px 1px rgba(0, 0, 0, 0.15);\n",
              "      filter: drop-shadow(0px 1px 2px rgba(0, 0, 0, 0.3));\n",
              "      fill: #FFFFFF;\n",
              "    }\n",
              "  </style>\n",
              "\n",
              "      <script>\n",
              "        const buttonEl =\n",
              "          document.querySelector('#df-04306b21-4ba3-4fb9-ab75-9dd722db280f button.colab-df-convert');\n",
              "        buttonEl.style.display =\n",
              "          google.colab.kernel.accessAllowed ? 'block' : 'none';\n",
              "\n",
              "        async function convertToInteractive(key) {\n",
              "          const element = document.querySelector('#df-04306b21-4ba3-4fb9-ab75-9dd722db280f');\n",
              "          const dataTable =\n",
              "            await google.colab.kernel.invokeFunction('convertToInteractive',\n",
              "                                                     [key], {});\n",
              "          if (!dataTable) return;\n",
              "\n",
              "          const docLinkHtml = 'Like what you see? Visit the ' +\n",
              "            '<a target=\"_blank\" href=https://colab.research.google.com/notebooks/data_table.ipynb>data table notebook</a>'\n",
              "            + ' to learn more about interactive tables.';\n",
              "          element.innerHTML = '';\n",
              "          dataTable['output_type'] = 'display_data';\n",
              "          await google.colab.output.renderOutput(dataTable, element);\n",
              "          const docLink = document.createElement('div');\n",
              "          docLink.innerHTML = docLinkHtml;\n",
              "          element.appendChild(docLink);\n",
              "        }\n",
              "      </script>\n",
              "    </div>\n",
              "  </div>\n",
              "  "
            ]
          },
          "metadata": {},
          "execution_count": 22
        }
      ]
    },
    {
      "cell_type": "code",
      "source": [
        "# Поищем аномалии, с помощью DBSCAN\n",
        "\n",
        "dbscan = DBSCAN(eps=10, min_samples=3)\n",
        "ahmad['dbscan'] = dbscan.fit_predict(ahmad['receipts_count'].values.reshape(-1, 1))\n",
        "\n",
        "# Обнаруженные аномалии\n",
        "ahmad[ahmad.dbscan < 0]"
      ],
      "metadata": {
        "id": "MIgzH2LgbqS6",
        "colab": {
          "base_uri": "https://localhost:8080/",
          "height": 458
        },
        "outputId": "5e58878e-4f38-4209-e263-9eeb096b56b1"
      },
      "id": "MIgzH2LgbqS6",
      "execution_count": 23,
      "outputs": [
        {
          "output_type": "stream",
          "name": "stderr",
          "text": [
            "/usr/local/lib/python3.7/dist-packages/ipykernel_launcher.py:4: SettingWithCopyWarning: \n",
            "A value is trying to be set on a copy of a slice from a DataFrame.\n",
            "Try using .loc[row_indexer,col_indexer] = value instead\n",
            "\n",
            "See the caveats in the documentation: https://pandas.pydata.org/pandas-docs/stable/user_guide/indexing.html#returning-a-view-versus-a-copy\n",
            "  after removing the cwd from sys.path.\n"
          ]
        },
        {
          "output_type": "execute_result",
          "data": {
            "text/plain": [
              "     brand_id       date  receipts_count      mean_7       std_7      diff  \\\n",
              "67        178 2016-07-23             158  216.142857   40.818413  0.730998   \n",
              "88        178 2016-07-30             143  182.142857   17.667565  0.785098   \n",
              "121       178 2016-08-10             421  241.142857   94.599909  1.745853   \n",
              "184       178 2016-08-31             422  544.000000   65.061509  0.775735   \n",
              "292       178 2016-10-06             481  315.571429  113.958848  1.524219   \n",
              "295       178 2016-10-07             483  352.428571  121.270850  1.370490   \n",
              "367       178 2016-10-31             677  612.428571   49.125204  1.105435   \n",
              "394       178 2016-11-09             708  435.857143  138.815739  1.624385   \n",
              "397       178 2016-11-10             712  486.714286  167.028655  1.462871   \n",
              "\n",
              "     dbscan  \n",
              "67       -1  \n",
              "88       -1  \n",
              "121      -1  \n",
              "184      -1  \n",
              "292      -1  \n",
              "295      -1  \n",
              "367      -1  \n",
              "394      -1  \n",
              "397      -1  "
            ],
            "text/html": [
              "\n",
              "  <div id=\"df-5e5c07a7-77a1-4850-8fee-1fff2566608e\">\n",
              "    <div class=\"colab-df-container\">\n",
              "      <div>\n",
              "<style scoped>\n",
              "    .dataframe tbody tr th:only-of-type {\n",
              "        vertical-align: middle;\n",
              "    }\n",
              "\n",
              "    .dataframe tbody tr th {\n",
              "        vertical-align: top;\n",
              "    }\n",
              "\n",
              "    .dataframe thead th {\n",
              "        text-align: right;\n",
              "    }\n",
              "</style>\n",
              "<table border=\"1\" class=\"dataframe\">\n",
              "  <thead>\n",
              "    <tr style=\"text-align: right;\">\n",
              "      <th></th>\n",
              "      <th>brand_id</th>\n",
              "      <th>date</th>\n",
              "      <th>receipts_count</th>\n",
              "      <th>mean_7</th>\n",
              "      <th>std_7</th>\n",
              "      <th>diff</th>\n",
              "      <th>dbscan</th>\n",
              "    </tr>\n",
              "  </thead>\n",
              "  <tbody>\n",
              "    <tr>\n",
              "      <th>67</th>\n",
              "      <td>178</td>\n",
              "      <td>2016-07-23</td>\n",
              "      <td>158</td>\n",
              "      <td>216.142857</td>\n",
              "      <td>40.818413</td>\n",
              "      <td>0.730998</td>\n",
              "      <td>-1</td>\n",
              "    </tr>\n",
              "    <tr>\n",
              "      <th>88</th>\n",
              "      <td>178</td>\n",
              "      <td>2016-07-30</td>\n",
              "      <td>143</td>\n",
              "      <td>182.142857</td>\n",
              "      <td>17.667565</td>\n",
              "      <td>0.785098</td>\n",
              "      <td>-1</td>\n",
              "    </tr>\n",
              "    <tr>\n",
              "      <th>121</th>\n",
              "      <td>178</td>\n",
              "      <td>2016-08-10</td>\n",
              "      <td>421</td>\n",
              "      <td>241.142857</td>\n",
              "      <td>94.599909</td>\n",
              "      <td>1.745853</td>\n",
              "      <td>-1</td>\n",
              "    </tr>\n",
              "    <tr>\n",
              "      <th>184</th>\n",
              "      <td>178</td>\n",
              "      <td>2016-08-31</td>\n",
              "      <td>422</td>\n",
              "      <td>544.000000</td>\n",
              "      <td>65.061509</td>\n",
              "      <td>0.775735</td>\n",
              "      <td>-1</td>\n",
              "    </tr>\n",
              "    <tr>\n",
              "      <th>292</th>\n",
              "      <td>178</td>\n",
              "      <td>2016-10-06</td>\n",
              "      <td>481</td>\n",
              "      <td>315.571429</td>\n",
              "      <td>113.958848</td>\n",
              "      <td>1.524219</td>\n",
              "      <td>-1</td>\n",
              "    </tr>\n",
              "    <tr>\n",
              "      <th>295</th>\n",
              "      <td>178</td>\n",
              "      <td>2016-10-07</td>\n",
              "      <td>483</td>\n",
              "      <td>352.428571</td>\n",
              "      <td>121.270850</td>\n",
              "      <td>1.370490</td>\n",
              "      <td>-1</td>\n",
              "    </tr>\n",
              "    <tr>\n",
              "      <th>367</th>\n",
              "      <td>178</td>\n",
              "      <td>2016-10-31</td>\n",
              "      <td>677</td>\n",
              "      <td>612.428571</td>\n",
              "      <td>49.125204</td>\n",
              "      <td>1.105435</td>\n",
              "      <td>-1</td>\n",
              "    </tr>\n",
              "    <tr>\n",
              "      <th>394</th>\n",
              "      <td>178</td>\n",
              "      <td>2016-11-09</td>\n",
              "      <td>708</td>\n",
              "      <td>435.857143</td>\n",
              "      <td>138.815739</td>\n",
              "      <td>1.624385</td>\n",
              "      <td>-1</td>\n",
              "    </tr>\n",
              "    <tr>\n",
              "      <th>397</th>\n",
              "      <td>178</td>\n",
              "      <td>2016-11-10</td>\n",
              "      <td>712</td>\n",
              "      <td>486.714286</td>\n",
              "      <td>167.028655</td>\n",
              "      <td>1.462871</td>\n",
              "      <td>-1</td>\n",
              "    </tr>\n",
              "  </tbody>\n",
              "</table>\n",
              "</div>\n",
              "      <button class=\"colab-df-convert\" onclick=\"convertToInteractive('df-5e5c07a7-77a1-4850-8fee-1fff2566608e')\"\n",
              "              title=\"Convert this dataframe to an interactive table.\"\n",
              "              style=\"display:none;\">\n",
              "        \n",
              "  <svg xmlns=\"http://www.w3.org/2000/svg\" height=\"24px\"viewBox=\"0 0 24 24\"\n",
              "       width=\"24px\">\n",
              "    <path d=\"M0 0h24v24H0V0z\" fill=\"none\"/>\n",
              "    <path d=\"M18.56 5.44l.94 2.06.94-2.06 2.06-.94-2.06-.94-.94-2.06-.94 2.06-2.06.94zm-11 1L8.5 8.5l.94-2.06 2.06-.94-2.06-.94L8.5 2.5l-.94 2.06-2.06.94zm10 10l.94 2.06.94-2.06 2.06-.94-2.06-.94-.94-2.06-.94 2.06-2.06.94z\"/><path d=\"M17.41 7.96l-1.37-1.37c-.4-.4-.92-.59-1.43-.59-.52 0-1.04.2-1.43.59L10.3 9.45l-7.72 7.72c-.78.78-.78 2.05 0 2.83L4 21.41c.39.39.9.59 1.41.59.51 0 1.02-.2 1.41-.59l7.78-7.78 2.81-2.81c.8-.78.8-2.07 0-2.86zM5.41 20L4 18.59l7.72-7.72 1.47 1.35L5.41 20z\"/>\n",
              "  </svg>\n",
              "      </button>\n",
              "      \n",
              "  <style>\n",
              "    .colab-df-container {\n",
              "      display:flex;\n",
              "      flex-wrap:wrap;\n",
              "      gap: 12px;\n",
              "    }\n",
              "\n",
              "    .colab-df-convert {\n",
              "      background-color: #E8F0FE;\n",
              "      border: none;\n",
              "      border-radius: 50%;\n",
              "      cursor: pointer;\n",
              "      display: none;\n",
              "      fill: #1967D2;\n",
              "      height: 32px;\n",
              "      padding: 0 0 0 0;\n",
              "      width: 32px;\n",
              "    }\n",
              "\n",
              "    .colab-df-convert:hover {\n",
              "      background-color: #E2EBFA;\n",
              "      box-shadow: 0px 1px 2px rgba(60, 64, 67, 0.3), 0px 1px 3px 1px rgba(60, 64, 67, 0.15);\n",
              "      fill: #174EA6;\n",
              "    }\n",
              "\n",
              "    [theme=dark] .colab-df-convert {\n",
              "      background-color: #3B4455;\n",
              "      fill: #D2E3FC;\n",
              "    }\n",
              "\n",
              "    [theme=dark] .colab-df-convert:hover {\n",
              "      background-color: #434B5C;\n",
              "      box-shadow: 0px 1px 3px 1px rgba(0, 0, 0, 0.15);\n",
              "      filter: drop-shadow(0px 1px 2px rgba(0, 0, 0, 0.3));\n",
              "      fill: #FFFFFF;\n",
              "    }\n",
              "  </style>\n",
              "\n",
              "      <script>\n",
              "        const buttonEl =\n",
              "          document.querySelector('#df-5e5c07a7-77a1-4850-8fee-1fff2566608e button.colab-df-convert');\n",
              "        buttonEl.style.display =\n",
              "          google.colab.kernel.accessAllowed ? 'block' : 'none';\n",
              "\n",
              "        async function convertToInteractive(key) {\n",
              "          const element = document.querySelector('#df-5e5c07a7-77a1-4850-8fee-1fff2566608e');\n",
              "          const dataTable =\n",
              "            await google.colab.kernel.invokeFunction('convertToInteractive',\n",
              "                                                     [key], {});\n",
              "          if (!dataTable) return;\n",
              "\n",
              "          const docLinkHtml = 'Like what you see? Visit the ' +\n",
              "            '<a target=\"_blank\" href=https://colab.research.google.com/notebooks/data_table.ipynb>data table notebook</a>'\n",
              "            + ' to learn more about interactive tables.';\n",
              "          element.innerHTML = '';\n",
              "          dataTable['output_type'] = 'display_data';\n",
              "          await google.colab.output.renderOutput(dataTable, element);\n",
              "          const docLink = document.createElement('div');\n",
              "          docLink.innerHTML = docLinkHtml;\n",
              "          element.appendChild(docLink);\n",
              "        }\n",
              "      </script>\n",
              "    </div>\n",
              "  </div>\n",
              "  "
            ]
          },
          "metadata": {},
          "execution_count": 23
        }
      ]
    },
    {
      "cell_type": "code",
      "source": [
        "# Поищем аномалии, с помощью DBSCAN\n",
        "\n",
        "dbscan = DBSCAN(eps=10, min_samples=3)\n",
        "lipton['dbscan'] = dbscan.fit_predict(lipton['receipts_count'].values.reshape(-1, 1))\n",
        "\n",
        "# Обнаруженные аномалии\n",
        "lipton[lipton.dbscan < 0]"
      ],
      "metadata": {
        "colab": {
          "base_uri": "https://localhost:8080/",
          "height": 709
        },
        "id": "Ut61u5Cz1AZL",
        "outputId": "d2d154e8-0ca4-4174-abc5-4928b04f42f7"
      },
      "id": "Ut61u5Cz1AZL",
      "execution_count": 24,
      "outputs": [
        {
          "output_type": "stream",
          "name": "stderr",
          "text": [
            "/usr/local/lib/python3.7/dist-packages/ipykernel_launcher.py:4: SettingWithCopyWarning: \n",
            "A value is trying to be set on a copy of a slice from a DataFrame.\n",
            "Try using .loc[row_indexer,col_indexer] = value instead\n",
            "\n",
            "See the caveats in the documentation: https://pandas.pydata.org/pandas-docs/stable/user_guide/indexing.html#returning-a-view-versus-a-copy\n",
            "  after removing the cwd from sys.path.\n"
          ]
        },
        {
          "output_type": "execute_result",
          "data": {
            "text/plain": [
              "     brand_id       date  receipts_count       mean_7       std_7      diff  \\\n",
              "80         29 2016-07-27             763   641.142857   66.225445  1.190062   \n",
              "83         29 2016-07-28             797   671.857143   82.163310  1.186264   \n",
              "86         29 2016-07-29             761   694.571429   81.608531  1.095640   \n",
              "248        29 2016-09-21            1042   642.714286  214.412153  1.621249   \n",
              "251        29 2016-09-22            1162   733.000000  281.581249  1.585266   \n",
              "254        29 2016-09-23            1151   822.285714  303.259907  1.399757   \n",
              "266        29 2016-09-27             784  1046.428571  125.202312  0.749215   \n",
              "329        29 2016-10-18             745   595.571429   73.792179  1.250899   \n",
              "332        29 2016-10-19             920   648.571429  139.100512  1.418502   \n",
              "338        29 2016-10-21             811   723.428571  150.849657  1.121051   \n",
              "341        29 2016-10-22             728   738.142857  144.539993  0.986259   \n",
              "380        29 2016-11-04             456   494.571429   67.270244  0.922010   \n",
              "392        29 2016-11-08             342   409.571429   42.185531  0.835019   \n",
              "440        29 2016-11-24             407   446.285714   40.243899  0.911972   \n",
              "443        29 2016-11-25             459   449.857143   40.080871  1.020324   \n",
              "455        29 2016-11-29            1173   618.714286  287.906648  1.895867   \n",
              "458        29 2016-11-30            1301   743.857143  368.715079  1.748992   \n",
              "\n",
              "     dbscan  \n",
              "80       -1  \n",
              "83       -1  \n",
              "86       -1  \n",
              "248      -1  \n",
              "251      -1  \n",
              "254      -1  \n",
              "266      -1  \n",
              "329      -1  \n",
              "332      -1  \n",
              "338      -1  \n",
              "341      -1  \n",
              "380      -1  \n",
              "392      -1  \n",
              "440      -1  \n",
              "443      -1  \n",
              "455      -1  \n",
              "458      -1  "
            ],
            "text/html": [
              "\n",
              "  <div id=\"df-a02555d9-9d57-49f3-a328-59f9f3fa748d\">\n",
              "    <div class=\"colab-df-container\">\n",
              "      <div>\n",
              "<style scoped>\n",
              "    .dataframe tbody tr th:only-of-type {\n",
              "        vertical-align: middle;\n",
              "    }\n",
              "\n",
              "    .dataframe tbody tr th {\n",
              "        vertical-align: top;\n",
              "    }\n",
              "\n",
              "    .dataframe thead th {\n",
              "        text-align: right;\n",
              "    }\n",
              "</style>\n",
              "<table border=\"1\" class=\"dataframe\">\n",
              "  <thead>\n",
              "    <tr style=\"text-align: right;\">\n",
              "      <th></th>\n",
              "      <th>brand_id</th>\n",
              "      <th>date</th>\n",
              "      <th>receipts_count</th>\n",
              "      <th>mean_7</th>\n",
              "      <th>std_7</th>\n",
              "      <th>diff</th>\n",
              "      <th>dbscan</th>\n",
              "    </tr>\n",
              "  </thead>\n",
              "  <tbody>\n",
              "    <tr>\n",
              "      <th>80</th>\n",
              "      <td>29</td>\n",
              "      <td>2016-07-27</td>\n",
              "      <td>763</td>\n",
              "      <td>641.142857</td>\n",
              "      <td>66.225445</td>\n",
              "      <td>1.190062</td>\n",
              "      <td>-1</td>\n",
              "    </tr>\n",
              "    <tr>\n",
              "      <th>83</th>\n",
              "      <td>29</td>\n",
              "      <td>2016-07-28</td>\n",
              "      <td>797</td>\n",
              "      <td>671.857143</td>\n",
              "      <td>82.163310</td>\n",
              "      <td>1.186264</td>\n",
              "      <td>-1</td>\n",
              "    </tr>\n",
              "    <tr>\n",
              "      <th>86</th>\n",
              "      <td>29</td>\n",
              "      <td>2016-07-29</td>\n",
              "      <td>761</td>\n",
              "      <td>694.571429</td>\n",
              "      <td>81.608531</td>\n",
              "      <td>1.095640</td>\n",
              "      <td>-1</td>\n",
              "    </tr>\n",
              "    <tr>\n",
              "      <th>248</th>\n",
              "      <td>29</td>\n",
              "      <td>2016-09-21</td>\n",
              "      <td>1042</td>\n",
              "      <td>642.714286</td>\n",
              "      <td>214.412153</td>\n",
              "      <td>1.621249</td>\n",
              "      <td>-1</td>\n",
              "    </tr>\n",
              "    <tr>\n",
              "      <th>251</th>\n",
              "      <td>29</td>\n",
              "      <td>2016-09-22</td>\n",
              "      <td>1162</td>\n",
              "      <td>733.000000</td>\n",
              "      <td>281.581249</td>\n",
              "      <td>1.585266</td>\n",
              "      <td>-1</td>\n",
              "    </tr>\n",
              "    <tr>\n",
              "      <th>254</th>\n",
              "      <td>29</td>\n",
              "      <td>2016-09-23</td>\n",
              "      <td>1151</td>\n",
              "      <td>822.285714</td>\n",
              "      <td>303.259907</td>\n",
              "      <td>1.399757</td>\n",
              "      <td>-1</td>\n",
              "    </tr>\n",
              "    <tr>\n",
              "      <th>266</th>\n",
              "      <td>29</td>\n",
              "      <td>2016-09-27</td>\n",
              "      <td>784</td>\n",
              "      <td>1046.428571</td>\n",
              "      <td>125.202312</td>\n",
              "      <td>0.749215</td>\n",
              "      <td>-1</td>\n",
              "    </tr>\n",
              "    <tr>\n",
              "      <th>329</th>\n",
              "      <td>29</td>\n",
              "      <td>2016-10-18</td>\n",
              "      <td>745</td>\n",
              "      <td>595.571429</td>\n",
              "      <td>73.792179</td>\n",
              "      <td>1.250899</td>\n",
              "      <td>-1</td>\n",
              "    </tr>\n",
              "    <tr>\n",
              "      <th>332</th>\n",
              "      <td>29</td>\n",
              "      <td>2016-10-19</td>\n",
              "      <td>920</td>\n",
              "      <td>648.571429</td>\n",
              "      <td>139.100512</td>\n",
              "      <td>1.418502</td>\n",
              "      <td>-1</td>\n",
              "    </tr>\n",
              "    <tr>\n",
              "      <th>338</th>\n",
              "      <td>29</td>\n",
              "      <td>2016-10-21</td>\n",
              "      <td>811</td>\n",
              "      <td>723.428571</td>\n",
              "      <td>150.849657</td>\n",
              "      <td>1.121051</td>\n",
              "      <td>-1</td>\n",
              "    </tr>\n",
              "    <tr>\n",
              "      <th>341</th>\n",
              "      <td>29</td>\n",
              "      <td>2016-10-22</td>\n",
              "      <td>728</td>\n",
              "      <td>738.142857</td>\n",
              "      <td>144.539993</td>\n",
              "      <td>0.986259</td>\n",
              "      <td>-1</td>\n",
              "    </tr>\n",
              "    <tr>\n",
              "      <th>380</th>\n",
              "      <td>29</td>\n",
              "      <td>2016-11-04</td>\n",
              "      <td>456</td>\n",
              "      <td>494.571429</td>\n",
              "      <td>67.270244</td>\n",
              "      <td>0.922010</td>\n",
              "      <td>-1</td>\n",
              "    </tr>\n",
              "    <tr>\n",
              "      <th>392</th>\n",
              "      <td>29</td>\n",
              "      <td>2016-11-08</td>\n",
              "      <td>342</td>\n",
              "      <td>409.571429</td>\n",
              "      <td>42.185531</td>\n",
              "      <td>0.835019</td>\n",
              "      <td>-1</td>\n",
              "    </tr>\n",
              "    <tr>\n",
              "      <th>440</th>\n",
              "      <td>29</td>\n",
              "      <td>2016-11-24</td>\n",
              "      <td>407</td>\n",
              "      <td>446.285714</td>\n",
              "      <td>40.243899</td>\n",
              "      <td>0.911972</td>\n",
              "      <td>-1</td>\n",
              "    </tr>\n",
              "    <tr>\n",
              "      <th>443</th>\n",
              "      <td>29</td>\n",
              "      <td>2016-11-25</td>\n",
              "      <td>459</td>\n",
              "      <td>449.857143</td>\n",
              "      <td>40.080871</td>\n",
              "      <td>1.020324</td>\n",
              "      <td>-1</td>\n",
              "    </tr>\n",
              "    <tr>\n",
              "      <th>455</th>\n",
              "      <td>29</td>\n",
              "      <td>2016-11-29</td>\n",
              "      <td>1173</td>\n",
              "      <td>618.714286</td>\n",
              "      <td>287.906648</td>\n",
              "      <td>1.895867</td>\n",
              "      <td>-1</td>\n",
              "    </tr>\n",
              "    <tr>\n",
              "      <th>458</th>\n",
              "      <td>29</td>\n",
              "      <td>2016-11-30</td>\n",
              "      <td>1301</td>\n",
              "      <td>743.857143</td>\n",
              "      <td>368.715079</td>\n",
              "      <td>1.748992</td>\n",
              "      <td>-1</td>\n",
              "    </tr>\n",
              "  </tbody>\n",
              "</table>\n",
              "</div>\n",
              "      <button class=\"colab-df-convert\" onclick=\"convertToInteractive('df-a02555d9-9d57-49f3-a328-59f9f3fa748d')\"\n",
              "              title=\"Convert this dataframe to an interactive table.\"\n",
              "              style=\"display:none;\">\n",
              "        \n",
              "  <svg xmlns=\"http://www.w3.org/2000/svg\" height=\"24px\"viewBox=\"0 0 24 24\"\n",
              "       width=\"24px\">\n",
              "    <path d=\"M0 0h24v24H0V0z\" fill=\"none\"/>\n",
              "    <path d=\"M18.56 5.44l.94 2.06.94-2.06 2.06-.94-2.06-.94-.94-2.06-.94 2.06-2.06.94zm-11 1L8.5 8.5l.94-2.06 2.06-.94-2.06-.94L8.5 2.5l-.94 2.06-2.06.94zm10 10l.94 2.06.94-2.06 2.06-.94-2.06-.94-.94-2.06-.94 2.06-2.06.94z\"/><path d=\"M17.41 7.96l-1.37-1.37c-.4-.4-.92-.59-1.43-.59-.52 0-1.04.2-1.43.59L10.3 9.45l-7.72 7.72c-.78.78-.78 2.05 0 2.83L4 21.41c.39.39.9.59 1.41.59.51 0 1.02-.2 1.41-.59l7.78-7.78 2.81-2.81c.8-.78.8-2.07 0-2.86zM5.41 20L4 18.59l7.72-7.72 1.47 1.35L5.41 20z\"/>\n",
              "  </svg>\n",
              "      </button>\n",
              "      \n",
              "  <style>\n",
              "    .colab-df-container {\n",
              "      display:flex;\n",
              "      flex-wrap:wrap;\n",
              "      gap: 12px;\n",
              "    }\n",
              "\n",
              "    .colab-df-convert {\n",
              "      background-color: #E8F0FE;\n",
              "      border: none;\n",
              "      border-radius: 50%;\n",
              "      cursor: pointer;\n",
              "      display: none;\n",
              "      fill: #1967D2;\n",
              "      height: 32px;\n",
              "      padding: 0 0 0 0;\n",
              "      width: 32px;\n",
              "    }\n",
              "\n",
              "    .colab-df-convert:hover {\n",
              "      background-color: #E2EBFA;\n",
              "      box-shadow: 0px 1px 2px rgba(60, 64, 67, 0.3), 0px 1px 3px 1px rgba(60, 64, 67, 0.15);\n",
              "      fill: #174EA6;\n",
              "    }\n",
              "\n",
              "    [theme=dark] .colab-df-convert {\n",
              "      background-color: #3B4455;\n",
              "      fill: #D2E3FC;\n",
              "    }\n",
              "\n",
              "    [theme=dark] .colab-df-convert:hover {\n",
              "      background-color: #434B5C;\n",
              "      box-shadow: 0px 1px 3px 1px rgba(0, 0, 0, 0.15);\n",
              "      filter: drop-shadow(0px 1px 2px rgba(0, 0, 0, 0.3));\n",
              "      fill: #FFFFFF;\n",
              "    }\n",
              "  </style>\n",
              "\n",
              "      <script>\n",
              "        const buttonEl =\n",
              "          document.querySelector('#df-a02555d9-9d57-49f3-a328-59f9f3fa748d button.colab-df-convert');\n",
              "        buttonEl.style.display =\n",
              "          google.colab.kernel.accessAllowed ? 'block' : 'none';\n",
              "\n",
              "        async function convertToInteractive(key) {\n",
              "          const element = document.querySelector('#df-a02555d9-9d57-49f3-a328-59f9f3fa748d');\n",
              "          const dataTable =\n",
              "            await google.colab.kernel.invokeFunction('convertToInteractive',\n",
              "                                                     [key], {});\n",
              "          if (!dataTable) return;\n",
              "\n",
              "          const docLinkHtml = 'Like what you see? Visit the ' +\n",
              "            '<a target=\"_blank\" href=https://colab.research.google.com/notebooks/data_table.ipynb>data table notebook</a>'\n",
              "            + ' to learn more about interactive tables.';\n",
              "          element.innerHTML = '';\n",
              "          dataTable['output_type'] = 'display_data';\n",
              "          await google.colab.output.renderOutput(dataTable, element);\n",
              "          const docLink = document.createElement('div');\n",
              "          docLink.innerHTML = docLinkHtml;\n",
              "          element.appendChild(docLink);\n",
              "        }\n",
              "      </script>\n",
              "    </div>\n",
              "  </div>\n",
              "  "
            ]
          },
          "metadata": {},
          "execution_count": 24
        }
      ]
    },
    {
      "cell_type": "code",
      "source": [
        "# Поищем аномалии, с помощью DBSCAN\n",
        "\n",
        "dbscan = DBSCAN(eps=10, min_samples=3)\n",
        "may['dbscan'] = dbscan.fit_predict(may['receipts_count'].values.reshape(-1, 1))\n",
        "\n",
        "# Обнаруженные аномалии\n",
        "may[may.dbscan < 0]"
      ],
      "metadata": {
        "colab": {
          "base_uri": "https://localhost:8080/",
          "height": 364
        },
        "id": "CJBwM_sX0_-p",
        "outputId": "8a9a2c5f-ea81-4d24-c62a-1d61df78e720"
      },
      "id": "CJBwM_sX0_-p",
      "execution_count": 25,
      "outputs": [
        {
          "output_type": "stream",
          "name": "stderr",
          "text": [
            "/usr/local/lib/python3.7/dist-packages/ipykernel_launcher.py:4: SettingWithCopyWarning: \n",
            "A value is trying to be set on a copy of a slice from a DataFrame.\n",
            "Try using .loc[row_indexer,col_indexer] = value instead\n",
            "\n",
            "See the caveats in the documentation: https://pandas.pydata.org/pandas-docs/stable/user_guide/indexing.html#returning-a-view-versus-a-copy\n",
            "  after removing the cwd from sys.path.\n"
          ]
        },
        {
          "output_type": "execute_result",
          "data": {
            "text/plain": [
              "     brand_id       date  receipts_count      mean_7      std_7      diff  \\\n",
              "309      5152 2016-10-12             173  132.428571  22.802464  1.306365   \n",
              "312      5152 2016-10-13             166  140.571429  23.215348  1.180894   \n",
              "369      5152 2016-11-01             277  230.714286  32.226874  1.200619   \n",
              "372      5152 2016-11-02             381  254.857143  63.753245  1.494955   \n",
              "405      5152 2016-11-13             460  396.714286  41.310670  1.159525   \n",
              "450      5152 2016-11-28             294  346.142857  35.648415  0.849360   \n",
              "\n",
              "     dbscan  \n",
              "309      -1  \n",
              "312      -1  \n",
              "369      -1  \n",
              "372      -1  \n",
              "405      -1  \n",
              "450      -1  "
            ],
            "text/html": [
              "\n",
              "  <div id=\"df-35745107-5049-4299-86e5-9d33d53d074d\">\n",
              "    <div class=\"colab-df-container\">\n",
              "      <div>\n",
              "<style scoped>\n",
              "    .dataframe tbody tr th:only-of-type {\n",
              "        vertical-align: middle;\n",
              "    }\n",
              "\n",
              "    .dataframe tbody tr th {\n",
              "        vertical-align: top;\n",
              "    }\n",
              "\n",
              "    .dataframe thead th {\n",
              "        text-align: right;\n",
              "    }\n",
              "</style>\n",
              "<table border=\"1\" class=\"dataframe\">\n",
              "  <thead>\n",
              "    <tr style=\"text-align: right;\">\n",
              "      <th></th>\n",
              "      <th>brand_id</th>\n",
              "      <th>date</th>\n",
              "      <th>receipts_count</th>\n",
              "      <th>mean_7</th>\n",
              "      <th>std_7</th>\n",
              "      <th>diff</th>\n",
              "      <th>dbscan</th>\n",
              "    </tr>\n",
              "  </thead>\n",
              "  <tbody>\n",
              "    <tr>\n",
              "      <th>309</th>\n",
              "      <td>5152</td>\n",
              "      <td>2016-10-12</td>\n",
              "      <td>173</td>\n",
              "      <td>132.428571</td>\n",
              "      <td>22.802464</td>\n",
              "      <td>1.306365</td>\n",
              "      <td>-1</td>\n",
              "    </tr>\n",
              "    <tr>\n",
              "      <th>312</th>\n",
              "      <td>5152</td>\n",
              "      <td>2016-10-13</td>\n",
              "      <td>166</td>\n",
              "      <td>140.571429</td>\n",
              "      <td>23.215348</td>\n",
              "      <td>1.180894</td>\n",
              "      <td>-1</td>\n",
              "    </tr>\n",
              "    <tr>\n",
              "      <th>369</th>\n",
              "      <td>5152</td>\n",
              "      <td>2016-11-01</td>\n",
              "      <td>277</td>\n",
              "      <td>230.714286</td>\n",
              "      <td>32.226874</td>\n",
              "      <td>1.200619</td>\n",
              "      <td>-1</td>\n",
              "    </tr>\n",
              "    <tr>\n",
              "      <th>372</th>\n",
              "      <td>5152</td>\n",
              "      <td>2016-11-02</td>\n",
              "      <td>381</td>\n",
              "      <td>254.857143</td>\n",
              "      <td>63.753245</td>\n",
              "      <td>1.494955</td>\n",
              "      <td>-1</td>\n",
              "    </tr>\n",
              "    <tr>\n",
              "      <th>405</th>\n",
              "      <td>5152</td>\n",
              "      <td>2016-11-13</td>\n",
              "      <td>460</td>\n",
              "      <td>396.714286</td>\n",
              "      <td>41.310670</td>\n",
              "      <td>1.159525</td>\n",
              "      <td>-1</td>\n",
              "    </tr>\n",
              "    <tr>\n",
              "      <th>450</th>\n",
              "      <td>5152</td>\n",
              "      <td>2016-11-28</td>\n",
              "      <td>294</td>\n",
              "      <td>346.142857</td>\n",
              "      <td>35.648415</td>\n",
              "      <td>0.849360</td>\n",
              "      <td>-1</td>\n",
              "    </tr>\n",
              "  </tbody>\n",
              "</table>\n",
              "</div>\n",
              "      <button class=\"colab-df-convert\" onclick=\"convertToInteractive('df-35745107-5049-4299-86e5-9d33d53d074d')\"\n",
              "              title=\"Convert this dataframe to an interactive table.\"\n",
              "              style=\"display:none;\">\n",
              "        \n",
              "  <svg xmlns=\"http://www.w3.org/2000/svg\" height=\"24px\"viewBox=\"0 0 24 24\"\n",
              "       width=\"24px\">\n",
              "    <path d=\"M0 0h24v24H0V0z\" fill=\"none\"/>\n",
              "    <path d=\"M18.56 5.44l.94 2.06.94-2.06 2.06-.94-2.06-.94-.94-2.06-.94 2.06-2.06.94zm-11 1L8.5 8.5l.94-2.06 2.06-.94-2.06-.94L8.5 2.5l-.94 2.06-2.06.94zm10 10l.94 2.06.94-2.06 2.06-.94-2.06-.94-.94-2.06-.94 2.06-2.06.94z\"/><path d=\"M17.41 7.96l-1.37-1.37c-.4-.4-.92-.59-1.43-.59-.52 0-1.04.2-1.43.59L10.3 9.45l-7.72 7.72c-.78.78-.78 2.05 0 2.83L4 21.41c.39.39.9.59 1.41.59.51 0 1.02-.2 1.41-.59l7.78-7.78 2.81-2.81c.8-.78.8-2.07 0-2.86zM5.41 20L4 18.59l7.72-7.72 1.47 1.35L5.41 20z\"/>\n",
              "  </svg>\n",
              "      </button>\n",
              "      \n",
              "  <style>\n",
              "    .colab-df-container {\n",
              "      display:flex;\n",
              "      flex-wrap:wrap;\n",
              "      gap: 12px;\n",
              "    }\n",
              "\n",
              "    .colab-df-convert {\n",
              "      background-color: #E8F0FE;\n",
              "      border: none;\n",
              "      border-radius: 50%;\n",
              "      cursor: pointer;\n",
              "      display: none;\n",
              "      fill: #1967D2;\n",
              "      height: 32px;\n",
              "      padding: 0 0 0 0;\n",
              "      width: 32px;\n",
              "    }\n",
              "\n",
              "    .colab-df-convert:hover {\n",
              "      background-color: #E2EBFA;\n",
              "      box-shadow: 0px 1px 2px rgba(60, 64, 67, 0.3), 0px 1px 3px 1px rgba(60, 64, 67, 0.15);\n",
              "      fill: #174EA6;\n",
              "    }\n",
              "\n",
              "    [theme=dark] .colab-df-convert {\n",
              "      background-color: #3B4455;\n",
              "      fill: #D2E3FC;\n",
              "    }\n",
              "\n",
              "    [theme=dark] .colab-df-convert:hover {\n",
              "      background-color: #434B5C;\n",
              "      box-shadow: 0px 1px 3px 1px rgba(0, 0, 0, 0.15);\n",
              "      filter: drop-shadow(0px 1px 2px rgba(0, 0, 0, 0.3));\n",
              "      fill: #FFFFFF;\n",
              "    }\n",
              "  </style>\n",
              "\n",
              "      <script>\n",
              "        const buttonEl =\n",
              "          document.querySelector('#df-35745107-5049-4299-86e5-9d33d53d074d button.colab-df-convert');\n",
              "        buttonEl.style.display =\n",
              "          google.colab.kernel.accessAllowed ? 'block' : 'none';\n",
              "\n",
              "        async function convertToInteractive(key) {\n",
              "          const element = document.querySelector('#df-35745107-5049-4299-86e5-9d33d53d074d');\n",
              "          const dataTable =\n",
              "            await google.colab.kernel.invokeFunction('convertToInteractive',\n",
              "                                                     [key], {});\n",
              "          if (!dataTable) return;\n",
              "\n",
              "          const docLinkHtml = 'Like what you see? Visit the ' +\n",
              "            '<a target=\"_blank\" href=https://colab.research.google.com/notebooks/data_table.ipynb>data table notebook</a>'\n",
              "            + ' to learn more about interactive tables.';\n",
              "          element.innerHTML = '';\n",
              "          dataTable['output_type'] = 'display_data';\n",
              "          await google.colab.output.renderOutput(dataTable, element);\n",
              "          const docLink = document.createElement('div');\n",
              "          docLink.innerHTML = docLinkHtml;\n",
              "          element.appendChild(docLink);\n",
              "        }\n",
              "      </script>\n",
              "    </div>\n",
              "  </div>\n",
              "  "
            ]
          },
          "metadata": {},
          "execution_count": 25
        }
      ]
    },
    {
      "cell_type": "markdown",
      "source": [
        "## Выводы\n",
        "\n",
        "* точность timeseries-прогноза Prophet ниже для чая Ахмад (т.к. модель \"не видит\" такого фактора, как наличие рекламы в шоу\n",
        "* boxplot-анализ показал выбросы по всем трем маркам в ноябре\n",
        "* DBSCAN показывает выбросами значения в ноябре для всех трех марок"
      ],
      "metadata": {
        "id": "RKC4p2yA21kb"
      },
      "id": "RKC4p2yA21kb"
    },
    {
      "cell_type": "code",
      "source": [
        ""
      ],
      "metadata": {
        "id": "LU1K54YN2EIt"
      },
      "id": "LU1K54YN2EIt",
      "execution_count": 25,
      "outputs": []
    }
  ],
  "metadata": {
    "kernelspec": {
      "display_name": "Python 3",
      "language": "python",
      "name": "python3"
    },
    "language_info": {
      "codemirror_mode": {
        "name": "ipython",
        "version": 3
      },
      "file_extension": ".py",
      "mimetype": "text/x-python",
      "name": "python",
      "nbconvert_exporter": "python",
      "pygments_lexer": "ipython3",
      "version": "3.8.8"
    },
    "colab": {
      "name": "tea_project.ipynb",
      "provenance": [],
      "collapsed_sections": []
    }
  },
  "nbformat": 4,
  "nbformat_minor": 5
}